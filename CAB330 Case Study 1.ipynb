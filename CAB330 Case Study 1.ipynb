{
 "cells": [
  {
   "cell_type": "markdown",
   "metadata": {},
   "source": [
    "# CAB330 Case Study 1: Organics\n",
    "\n",
    "A supermarket has just begun offering a line of organic products.\n",
    "\n",
    "The supermarket has a customer loyalty program.\n",
    "\n",
    "The supermarket provided coupons for the organic products to loyalty members.\n",
    "\n",
    "This is their story.\n",
    "\n",
    "---\n",
    "\n",
    "__*Your task is to determine which customers are likely to purchase recently offered organic products.*__\n",
    "\n",
    "---\n",
    "\n",
    "Class: CAB330\n",
    "\n",
    "Student: Christopher Ayling || christopher.ayling@connect.qut.edu.au\n",
    "\n",
    "Due Date: 10th September 2018\n",
    "\n",
    "Project Demo: Week 8 Lab\n",
    "\n",
    "Weighting: 25%"
   ]
  },
  {
   "cell_type": "markdown",
   "metadata": {},
   "source": [
    "---\n",
    "## Setup"
   ]
  },
  {
   "cell_type": "code",
   "execution_count": 1,
   "metadata": {},
   "outputs": [],
   "source": [
    "%matplotlib inline\n",
    "%load_ext autoreload\n",
    "%autoreload 2"
   ]
  },
  {
   "cell_type": "code",
   "execution_count": 47,
   "metadata": {},
   "outputs": [],
   "source": [
    "# Manipulating Data\n",
    "import pandas as pd\n",
    "import numpy as np\n",
    "from sklearn.model_selection import train_test_split\n",
    "\n",
    "# Visualisations\n",
    "import seaborn as sns\n",
    "import matplotlib.pyplot as plt\n",
    "from IPython.display import SVG, Image\n",
    "import graphviz\n",
    "\n",
    "# Algorithms\n",
    "from sklearn.tree import DecisionTreeClassifier, DecisionTreeRegressor, export_graphviz\n",
    "from sklearn.ensemble import RandomForestClassifier, RandomForestRegressor\n",
    "from sklearn.linear_model import LinearRegression\n",
    "from sklearn.neural_network import MLPClassifier, MLPRegressor\n",
    "\n",
    "from sklearn.model_selection import GridSearchCV"
   ]
  },
  {
   "cell_type": "code",
   "execution_count": 3,
   "metadata": {},
   "outputs": [],
   "source": [
    "np.random.seed(330)"
   ]
  },
  {
   "cell_type": "markdown",
   "metadata": {},
   "source": [
    "---\n",
    "## Data Loading"
   ]
  },
  {
   "cell_type": "code",
   "execution_count": 4,
   "metadata": {},
   "outputs": [
    {
     "data": {
      "text/html": [
       "<div>\n",
       "<style scoped>\n",
       "    .dataframe tbody tr th:only-of-type {\n",
       "        vertical-align: middle;\n",
       "    }\n",
       "\n",
       "    .dataframe tbody tr th {\n",
       "        vertical-align: top;\n",
       "    }\n",
       "\n",
       "    .dataframe thead th {\n",
       "        text-align: right;\n",
       "    }\n",
       "</style>\n",
       "<table border=\"1\" class=\"dataframe\">\n",
       "  <thead>\n",
       "    <tr style=\"text-align: right;\">\n",
       "      <th></th>\n",
       "      <th>CUSTID</th>\n",
       "      <th>GENDER</th>\n",
       "      <th>DOB</th>\n",
       "      <th>EDATE</th>\n",
       "      <th>AGE</th>\n",
       "      <th>AGEGRP1</th>\n",
       "      <th>AGEGRP2</th>\n",
       "      <th>TV_REG</th>\n",
       "      <th>NGROUP</th>\n",
       "      <th>NEIGHBORHOOD</th>\n",
       "      <th>LCDATE</th>\n",
       "      <th>ORGANICS</th>\n",
       "      <th>BILL</th>\n",
       "      <th>REGION</th>\n",
       "      <th>CLASS</th>\n",
       "      <th>ORGYN</th>\n",
       "      <th>AFFL</th>\n",
       "      <th>LTIME</th>\n",
       "    </tr>\n",
       "  </thead>\n",
       "  <tbody>\n",
       "    <tr>\n",
       "      <th>0</th>\n",
       "      <td>140</td>\n",
       "      <td>U</td>\n",
       "      <td>1921-09-16</td>\n",
       "      <td>1998-02-23</td>\n",
       "      <td>76.0</td>\n",
       "      <td>60-80</td>\n",
       "      <td>70-80</td>\n",
       "      <td>Wales &amp; West</td>\n",
       "      <td>C</td>\n",
       "      <td>16.0</td>\n",
       "      <td>1994-11-07</td>\n",
       "      <td>0</td>\n",
       "      <td>16000.00</td>\n",
       "      <td>Midlands</td>\n",
       "      <td>Gold</td>\n",
       "      <td>0</td>\n",
       "      <td>10.0</td>\n",
       "      <td>4.0</td>\n",
       "    </tr>\n",
       "    <tr>\n",
       "      <th>1</th>\n",
       "      <td>620</td>\n",
       "      <td>U</td>\n",
       "      <td>1949-02-12</td>\n",
       "      <td>1998-02-23</td>\n",
       "      <td>49.0</td>\n",
       "      <td>40-60</td>\n",
       "      <td>40-50</td>\n",
       "      <td>Wales &amp; West</td>\n",
       "      <td>D</td>\n",
       "      <td>35.0</td>\n",
       "      <td>1993-06-04</td>\n",
       "      <td>0</td>\n",
       "      <td>6000.00</td>\n",
       "      <td>Midlands</td>\n",
       "      <td>Gold</td>\n",
       "      <td>0</td>\n",
       "      <td>4.0</td>\n",
       "      <td>5.0</td>\n",
       "    </tr>\n",
       "    <tr>\n",
       "      <th>2</th>\n",
       "      <td>868</td>\n",
       "      <td>F</td>\n",
       "      <td>1927-11-27</td>\n",
       "      <td>1998-02-23</td>\n",
       "      <td>70.0</td>\n",
       "      <td>60-80</td>\n",
       "      <td>70-80</td>\n",
       "      <td>Wales &amp; West</td>\n",
       "      <td>D</td>\n",
       "      <td>27.0</td>\n",
       "      <td>1990-08-02</td>\n",
       "      <td>1</td>\n",
       "      <td>0.02</td>\n",
       "      <td>Midlands</td>\n",
       "      <td>Silver</td>\n",
       "      <td>1</td>\n",
       "      <td>5.0</td>\n",
       "      <td>8.0</td>\n",
       "    </tr>\n",
       "    <tr>\n",
       "      <th>3</th>\n",
       "      <td>1120</td>\n",
       "      <td>M</td>\n",
       "      <td>1932-04-10</td>\n",
       "      <td>1998-02-23</td>\n",
       "      <td>65.0</td>\n",
       "      <td>60-80</td>\n",
       "      <td>60-70</td>\n",
       "      <td>Midlands</td>\n",
       "      <td>F</td>\n",
       "      <td>51.0</td>\n",
       "      <td>1991-07-01</td>\n",
       "      <td>1</td>\n",
       "      <td>0.01</td>\n",
       "      <td>Midlands</td>\n",
       "      <td>Tin</td>\n",
       "      <td>1</td>\n",
       "      <td>10.0</td>\n",
       "      <td>7.0</td>\n",
       "    </tr>\n",
       "    <tr>\n",
       "      <th>4</th>\n",
       "      <td>2313</td>\n",
       "      <td>F</td>\n",
       "      <td>1929-05-21</td>\n",
       "      <td>1998-02-23</td>\n",
       "      <td>68.0</td>\n",
       "      <td>60-80</td>\n",
       "      <td>60-70</td>\n",
       "      <td>Midlands</td>\n",
       "      <td>A</td>\n",
       "      <td>4.0</td>\n",
       "      <td>1990-03-01</td>\n",
       "      <td>0</td>\n",
       "      <td>0.01</td>\n",
       "      <td>Midlands</td>\n",
       "      <td>Tin</td>\n",
       "      <td>0</td>\n",
       "      <td>11.0</td>\n",
       "      <td>8.0</td>\n",
       "    </tr>\n",
       "  </tbody>\n",
       "</table>\n",
       "</div>"
      ],
      "text/plain": [
       "   CUSTID GENDER         DOB       EDATE   AGE AGEGRP1 AGEGRP2        TV_REG  \\\n",
       "0     140      U  1921-09-16  1998-02-23  76.0   60-80   70-80  Wales & West   \n",
       "1     620      U  1949-02-12  1998-02-23  49.0   40-60   40-50  Wales & West   \n",
       "2     868      F  1927-11-27  1998-02-23  70.0   60-80   70-80  Wales & West   \n",
       "3    1120      M  1932-04-10  1998-02-23  65.0   60-80   60-70      Midlands   \n",
       "4    2313      F  1929-05-21  1998-02-23  68.0   60-80   60-70      Midlands   \n",
       "\n",
       "  NGROUP  NEIGHBORHOOD      LCDATE  ORGANICS      BILL    REGION   CLASS  \\\n",
       "0      C          16.0  1994-11-07         0  16000.00  Midlands    Gold   \n",
       "1      D          35.0  1993-06-04         0   6000.00  Midlands    Gold   \n",
       "2      D          27.0  1990-08-02         1      0.02  Midlands  Silver   \n",
       "3      F          51.0  1991-07-01         1      0.01  Midlands     Tin   \n",
       "4      A           4.0  1990-03-01         0      0.01  Midlands     Tin   \n",
       "\n",
       "   ORGYN  AFFL  LTIME  \n",
       "0      0  10.0    4.0  \n",
       "1      0   4.0    5.0  \n",
       "2      1   5.0    8.0  \n",
       "3      1  10.0    7.0  \n",
       "4      0  11.0    8.0  "
      ]
     },
     "execution_count": 4,
     "metadata": {},
     "output_type": "execute_result"
    }
   ],
   "source": [
    "organics = pd.read_csv(\"./organics.csv\")\n",
    "organics.head()"
   ]
  },
  {
   "cell_type": "code",
   "execution_count": 5,
   "metadata": {},
   "outputs": [
    {
     "data": {
      "text/plain": [
       "(22223, 18)"
      ]
     },
     "execution_count": 5,
     "metadata": {},
     "output_type": "execute_result"
    }
   ],
   "source": [
    "rows, columns = organics.shape; rows, columns"
   ]
  },
  {
   "cell_type": "markdown",
   "metadata": {},
   "source": [
    "---\n",
    "## Task 1. Data Selection and Distribution.\n",
    "\n",
    "(4 marks)"
   ]
  },
  {
   "cell_type": "markdown",
   "metadata": {},
   "source": [
    "### Variable Descriptions\n",
    "\n",
    "The following information would assist you in assigning the variables roles:\n",
    "\n",
    "* Varibles DOB, AGE, AGEGRP1, and AGEGRP2 are all different measurements for the same information.\n",
    "\n",
    "* Variable NGROUP contains collapsed levels of the variable NEIGHBORHOOD\n",
    "\n",
    "* Variables LCDATE and LTIME represent the same information in two different formats.\n",
    "\n",
    "* There are two target variables, namely ORGANICS and ORGYN, with different types. Choose the target which suits the task."
   ]
  },
  {
   "cell_type": "code",
   "execution_count": 375,
   "metadata": {},
   "outputs": [],
   "source": [
    "red = 'background-color: Tomato'\n",
    "green = 'background-color: MediumSeaGreen'\n",
    "blue = 'background-color: DodgerBlue'\n",
    "sblue = 'background-color: SlateBlue'\n",
    "violet = 'background-color: Violet'\n",
    "gray = 'background-color: Lightgray'\n",
    "orange = 'background-color: Orange'"
   ]
  },
  {
   "cell_type": "code",
   "execution_count": 350,
   "metadata": {},
   "outputs": [],
   "source": [
    "def highlight_useful(val):\n",
    "    \"\"\" highlight True as green, false as red \"\"\"\n",
    "    return '' if val is None else green if val else red"
   ]
  },
  {
   "cell_type": "code",
   "execution_count": 371,
   "metadata": {},
   "outputs": [],
   "source": [
    "def highlight_type(val):\n",
    "    \"\"\" highlight based on variable type \"\"\"\n",
    "    return blue if val == 'categorical' else sblue if val == 'numerical' else ''"
   ]
  },
  {
   "cell_type": "code",
   "execution_count": 373,
   "metadata": {},
   "outputs": [],
   "source": [
    "def highlight_target(val):\n",
    "    \"\"\" highlight if target variable \"\"\"\n",
    "    return orange if val else gray"
   ]
  },
  {
   "cell_type": "code",
   "execution_count": 364,
   "metadata": {},
   "outputs": [],
   "source": [
    "descriptions = {\n",
    "    \"CUSTID\": [\"Customer Identifcation Number\", False, False, 'categorical'],\n",
    "    \"GENDER\": [\"M = male. F = Female, U = unknown\", False, False, 'categorical'],\n",
    "    \"DOB\": [\"Date of birth\", False, False, 'numerical'],\n",
    "    \"EDATE\": [\"Date extracted from the daily sales database\", False, False, 'numerical'],\n",
    "    \"AGE\": [\"Age, in years\", True, True, 'numerical'],\n",
    "    \"AGEGRP1\": [\"Age group 1\", False, False, 'numerical'],\n",
    "    \"AGEGRP2\": [\"Age group 2\", False, False, 'numerical'],\n",
    "    \"TV_REG\": [\"Television Region\", True, True, 'categorical'],\n",
    "    \"NGROUP\": [\"Neighborhood group\", True, True, 'categorical'],\n",
    "    \"NEIGHBORHOOD\": [\"Type of residential neighborhood\", True, True, 'categorical'],\n",
    "    \"LCDATE\": [\"Loyalty card application due\", False, False, 'numerical'],\n",
    "    \"LTIME\": [\"Time as loyalty card member\", True, True, 'numerical'],\n",
    "    \"ORGANICS\": [\"Number of organic products purchased\", True, True, 'numerical', True],\n",
    "    \"BILL\": [\"Total amount spent\", True, True, 'numerical'],\n",
    "    \"REGION\": [\"Geographic Region\", True, True, 'categorical'],\n",
    "    \"CLASS\": [\"Customer loyalty status: tin, silver, gold, platinum\", True, True, 'categorical'],\n",
    "    \"ORGYN\": [\"Organics Purchased? 1 = Yes, 0 = No\", True, True, 'categorical', True],\n",
    "    \"AFFL\": [\"Affluence grade on a scale from 1 to 30\", True, True, 'numerical']\n",
    "}"
   ]
  },
  {
   "cell_type": "code",
   "execution_count": 379,
   "metadata": {},
   "outputs": [
    {
     "data": {
      "text/html": [
       "<style  type=\"text/css\" >\n",
       "    #T_b84f8130_932a_11e8_bc9e_a434d9a84a5erow0_col1 {\n",
       "            background-color:  Lightgray;\n",
       "        }    #T_b84f8130_932a_11e8_bc9e_a434d9a84a5erow0_col2 {\n",
       "            background-color:  DodgerBlue;\n",
       "        }    #T_b84f8130_932a_11e8_bc9e_a434d9a84a5erow0_col3 {\n",
       "            background-color:  Tomato;\n",
       "        }    #T_b84f8130_932a_11e8_bc9e_a434d9a84a5erow0_col4 {\n",
       "            background-color:  Tomato;\n",
       "        }    #T_b84f8130_932a_11e8_bc9e_a434d9a84a5erow1_col1 {\n",
       "            background-color:  Lightgray;\n",
       "        }    #T_b84f8130_932a_11e8_bc9e_a434d9a84a5erow1_col2 {\n",
       "            background-color:  DodgerBlue;\n",
       "        }    #T_b84f8130_932a_11e8_bc9e_a434d9a84a5erow1_col3 {\n",
       "            background-color:  Tomato;\n",
       "        }    #T_b84f8130_932a_11e8_bc9e_a434d9a84a5erow1_col4 {\n",
       "            background-color:  Tomato;\n",
       "        }    #T_b84f8130_932a_11e8_bc9e_a434d9a84a5erow2_col1 {\n",
       "            background-color:  Lightgray;\n",
       "        }    #T_b84f8130_932a_11e8_bc9e_a434d9a84a5erow2_col2 {\n",
       "            background-color:  SlateBlue;\n",
       "        }    #T_b84f8130_932a_11e8_bc9e_a434d9a84a5erow2_col3 {\n",
       "            background-color:  Tomato;\n",
       "        }    #T_b84f8130_932a_11e8_bc9e_a434d9a84a5erow2_col4 {\n",
       "            background-color:  Tomato;\n",
       "        }    #T_b84f8130_932a_11e8_bc9e_a434d9a84a5erow3_col1 {\n",
       "            background-color:  Lightgray;\n",
       "        }    #T_b84f8130_932a_11e8_bc9e_a434d9a84a5erow3_col2 {\n",
       "            background-color:  SlateBlue;\n",
       "        }    #T_b84f8130_932a_11e8_bc9e_a434d9a84a5erow3_col3 {\n",
       "            background-color:  Tomato;\n",
       "        }    #T_b84f8130_932a_11e8_bc9e_a434d9a84a5erow3_col4 {\n",
       "            background-color:  Tomato;\n",
       "        }    #T_b84f8130_932a_11e8_bc9e_a434d9a84a5erow4_col1 {\n",
       "            background-color:  Lightgray;\n",
       "        }    #T_b84f8130_932a_11e8_bc9e_a434d9a84a5erow4_col2 {\n",
       "            background-color:  SlateBlue;\n",
       "        }    #T_b84f8130_932a_11e8_bc9e_a434d9a84a5erow4_col3 {\n",
       "            background-color:  MediumSeaGreen;\n",
       "        }    #T_b84f8130_932a_11e8_bc9e_a434d9a84a5erow4_col4 {\n",
       "            background-color:  MediumSeaGreen;\n",
       "        }    #T_b84f8130_932a_11e8_bc9e_a434d9a84a5erow5_col1 {\n",
       "            background-color:  Lightgray;\n",
       "        }    #T_b84f8130_932a_11e8_bc9e_a434d9a84a5erow5_col2 {\n",
       "            background-color:  SlateBlue;\n",
       "        }    #T_b84f8130_932a_11e8_bc9e_a434d9a84a5erow5_col3 {\n",
       "            background-color:  Tomato;\n",
       "        }    #T_b84f8130_932a_11e8_bc9e_a434d9a84a5erow5_col4 {\n",
       "            background-color:  Tomato;\n",
       "        }    #T_b84f8130_932a_11e8_bc9e_a434d9a84a5erow6_col1 {\n",
       "            background-color:  Lightgray;\n",
       "        }    #T_b84f8130_932a_11e8_bc9e_a434d9a84a5erow6_col2 {\n",
       "            background-color:  SlateBlue;\n",
       "        }    #T_b84f8130_932a_11e8_bc9e_a434d9a84a5erow6_col3 {\n",
       "            background-color:  Tomato;\n",
       "        }    #T_b84f8130_932a_11e8_bc9e_a434d9a84a5erow6_col4 {\n",
       "            background-color:  Tomato;\n",
       "        }    #T_b84f8130_932a_11e8_bc9e_a434d9a84a5erow7_col1 {\n",
       "            background-color:  Lightgray;\n",
       "        }    #T_b84f8130_932a_11e8_bc9e_a434d9a84a5erow7_col2 {\n",
       "            background-color:  DodgerBlue;\n",
       "        }    #T_b84f8130_932a_11e8_bc9e_a434d9a84a5erow7_col3 {\n",
       "            background-color:  MediumSeaGreen;\n",
       "        }    #T_b84f8130_932a_11e8_bc9e_a434d9a84a5erow7_col4 {\n",
       "            background-color:  MediumSeaGreen;\n",
       "        }    #T_b84f8130_932a_11e8_bc9e_a434d9a84a5erow8_col1 {\n",
       "            background-color:  Lightgray;\n",
       "        }    #T_b84f8130_932a_11e8_bc9e_a434d9a84a5erow8_col2 {\n",
       "            background-color:  DodgerBlue;\n",
       "        }    #T_b84f8130_932a_11e8_bc9e_a434d9a84a5erow8_col3 {\n",
       "            background-color:  MediumSeaGreen;\n",
       "        }    #T_b84f8130_932a_11e8_bc9e_a434d9a84a5erow8_col4 {\n",
       "            background-color:  MediumSeaGreen;\n",
       "        }    #T_b84f8130_932a_11e8_bc9e_a434d9a84a5erow9_col1 {\n",
       "            background-color:  Lightgray;\n",
       "        }    #T_b84f8130_932a_11e8_bc9e_a434d9a84a5erow9_col2 {\n",
       "            background-color:  DodgerBlue;\n",
       "        }    #T_b84f8130_932a_11e8_bc9e_a434d9a84a5erow9_col3 {\n",
       "            background-color:  MediumSeaGreen;\n",
       "        }    #T_b84f8130_932a_11e8_bc9e_a434d9a84a5erow9_col4 {\n",
       "            background-color:  MediumSeaGreen;\n",
       "        }    #T_b84f8130_932a_11e8_bc9e_a434d9a84a5erow10_col1 {\n",
       "            background-color:  Lightgray;\n",
       "        }    #T_b84f8130_932a_11e8_bc9e_a434d9a84a5erow10_col2 {\n",
       "            background-color:  SlateBlue;\n",
       "        }    #T_b84f8130_932a_11e8_bc9e_a434d9a84a5erow10_col3 {\n",
       "            background-color:  Tomato;\n",
       "        }    #T_b84f8130_932a_11e8_bc9e_a434d9a84a5erow10_col4 {\n",
       "            background-color:  Tomato;\n",
       "        }    #T_b84f8130_932a_11e8_bc9e_a434d9a84a5erow11_col1 {\n",
       "            background-color:  Lightgray;\n",
       "        }    #T_b84f8130_932a_11e8_bc9e_a434d9a84a5erow11_col2 {\n",
       "            background-color:  SlateBlue;\n",
       "        }    #T_b84f8130_932a_11e8_bc9e_a434d9a84a5erow11_col3 {\n",
       "            background-color:  MediumSeaGreen;\n",
       "        }    #T_b84f8130_932a_11e8_bc9e_a434d9a84a5erow11_col4 {\n",
       "            background-color:  MediumSeaGreen;\n",
       "        }    #T_b84f8130_932a_11e8_bc9e_a434d9a84a5erow12_col1 {\n",
       "            background-color:  Orange;\n",
       "        }    #T_b84f8130_932a_11e8_bc9e_a434d9a84a5erow12_col2 {\n",
       "            background-color:  SlateBlue;\n",
       "        }    #T_b84f8130_932a_11e8_bc9e_a434d9a84a5erow12_col3 {\n",
       "            background-color:  MediumSeaGreen;\n",
       "        }    #T_b84f8130_932a_11e8_bc9e_a434d9a84a5erow12_col4 {\n",
       "            background-color:  MediumSeaGreen;\n",
       "        }    #T_b84f8130_932a_11e8_bc9e_a434d9a84a5erow13_col1 {\n",
       "            background-color:  Lightgray;\n",
       "        }    #T_b84f8130_932a_11e8_bc9e_a434d9a84a5erow13_col2 {\n",
       "            background-color:  SlateBlue;\n",
       "        }    #T_b84f8130_932a_11e8_bc9e_a434d9a84a5erow13_col3 {\n",
       "            background-color:  MediumSeaGreen;\n",
       "        }    #T_b84f8130_932a_11e8_bc9e_a434d9a84a5erow13_col4 {\n",
       "            background-color:  MediumSeaGreen;\n",
       "        }    #T_b84f8130_932a_11e8_bc9e_a434d9a84a5erow14_col1 {\n",
       "            background-color:  Lightgray;\n",
       "        }    #T_b84f8130_932a_11e8_bc9e_a434d9a84a5erow14_col2 {\n",
       "            background-color:  DodgerBlue;\n",
       "        }    #T_b84f8130_932a_11e8_bc9e_a434d9a84a5erow14_col3 {\n",
       "            background-color:  MediumSeaGreen;\n",
       "        }    #T_b84f8130_932a_11e8_bc9e_a434d9a84a5erow14_col4 {\n",
       "            background-color:  MediumSeaGreen;\n",
       "        }    #T_b84f8130_932a_11e8_bc9e_a434d9a84a5erow15_col1 {\n",
       "            background-color:  Lightgray;\n",
       "        }    #T_b84f8130_932a_11e8_bc9e_a434d9a84a5erow15_col2 {\n",
       "            background-color:  DodgerBlue;\n",
       "        }    #T_b84f8130_932a_11e8_bc9e_a434d9a84a5erow15_col3 {\n",
       "            background-color:  MediumSeaGreen;\n",
       "        }    #T_b84f8130_932a_11e8_bc9e_a434d9a84a5erow15_col4 {\n",
       "            background-color:  MediumSeaGreen;\n",
       "        }    #T_b84f8130_932a_11e8_bc9e_a434d9a84a5erow16_col1 {\n",
       "            background-color:  Orange;\n",
       "        }    #T_b84f8130_932a_11e8_bc9e_a434d9a84a5erow16_col2 {\n",
       "            background-color:  DodgerBlue;\n",
       "        }    #T_b84f8130_932a_11e8_bc9e_a434d9a84a5erow16_col3 {\n",
       "            background-color:  MediumSeaGreen;\n",
       "        }    #T_b84f8130_932a_11e8_bc9e_a434d9a84a5erow16_col4 {\n",
       "            background-color:  MediumSeaGreen;\n",
       "        }    #T_b84f8130_932a_11e8_bc9e_a434d9a84a5erow17_col1 {\n",
       "            background-color:  Lightgray;\n",
       "        }    #T_b84f8130_932a_11e8_bc9e_a434d9a84a5erow17_col2 {\n",
       "            background-color:  SlateBlue;\n",
       "        }    #T_b84f8130_932a_11e8_bc9e_a434d9a84a5erow17_col3 {\n",
       "            background-color:  MediumSeaGreen;\n",
       "        }    #T_b84f8130_932a_11e8_bc9e_a434d9a84a5erow17_col4 {\n",
       "            background-color:  MediumSeaGreen;\n",
       "        }</style>  \n",
       "<table id=\"T_b84f8130_932a_11e8_bc9e_a434d9a84a5e\" > \n",
       "<thead>    <tr> \n",
       "        <th class=\"blank level0\" ></th> \n",
       "        <th class=\"col_heading level0 col0\" >Description</th> \n",
       "        <th class=\"col_heading level0 col1\" >Target</th> \n",
       "        <th class=\"col_heading level0 col2\" >Variable Type</th> \n",
       "        <th class=\"col_heading level0 col3\" >For Classification</th> \n",
       "        <th class=\"col_heading level0 col4\" >For Regression</th> \n",
       "    </tr></thead> \n",
       "<tbody>    <tr> \n",
       "        <th id=\"T_b84f8130_932a_11e8_bc9e_a434d9a84a5elevel0_row0\" class=\"row_heading level0 row0\" >CUSTID</th> \n",
       "        <td id=\"T_b84f8130_932a_11e8_bc9e_a434d9a84a5erow0_col0\" class=\"data row0 col0\" >Customer Identifcation Number</td> \n",
       "        <td id=\"T_b84f8130_932a_11e8_bc9e_a434d9a84a5erow0_col1\" class=\"data row0 col1\" >False</td> \n",
       "        <td id=\"T_b84f8130_932a_11e8_bc9e_a434d9a84a5erow0_col2\" class=\"data row0 col2\" >categorical</td> \n",
       "        <td id=\"T_b84f8130_932a_11e8_bc9e_a434d9a84a5erow0_col3\" class=\"data row0 col3\" >False</td> \n",
       "        <td id=\"T_b84f8130_932a_11e8_bc9e_a434d9a84a5erow0_col4\" class=\"data row0 col4\" >False</td> \n",
       "    </tr>    <tr> \n",
       "        <th id=\"T_b84f8130_932a_11e8_bc9e_a434d9a84a5elevel0_row1\" class=\"row_heading level0 row1\" >GENDER</th> \n",
       "        <td id=\"T_b84f8130_932a_11e8_bc9e_a434d9a84a5erow1_col0\" class=\"data row1 col0\" >M = male. F = Female, U = unknown</td> \n",
       "        <td id=\"T_b84f8130_932a_11e8_bc9e_a434d9a84a5erow1_col1\" class=\"data row1 col1\" >False</td> \n",
       "        <td id=\"T_b84f8130_932a_11e8_bc9e_a434d9a84a5erow1_col2\" class=\"data row1 col2\" >categorical</td> \n",
       "        <td id=\"T_b84f8130_932a_11e8_bc9e_a434d9a84a5erow1_col3\" class=\"data row1 col3\" >False</td> \n",
       "        <td id=\"T_b84f8130_932a_11e8_bc9e_a434d9a84a5erow1_col4\" class=\"data row1 col4\" >False</td> \n",
       "    </tr>    <tr> \n",
       "        <th id=\"T_b84f8130_932a_11e8_bc9e_a434d9a84a5elevel0_row2\" class=\"row_heading level0 row2\" >DOB</th> \n",
       "        <td id=\"T_b84f8130_932a_11e8_bc9e_a434d9a84a5erow2_col0\" class=\"data row2 col0\" >Date of birth</td> \n",
       "        <td id=\"T_b84f8130_932a_11e8_bc9e_a434d9a84a5erow2_col1\" class=\"data row2 col1\" >False</td> \n",
       "        <td id=\"T_b84f8130_932a_11e8_bc9e_a434d9a84a5erow2_col2\" class=\"data row2 col2\" >numerical</td> \n",
       "        <td id=\"T_b84f8130_932a_11e8_bc9e_a434d9a84a5erow2_col3\" class=\"data row2 col3\" >False</td> \n",
       "        <td id=\"T_b84f8130_932a_11e8_bc9e_a434d9a84a5erow2_col4\" class=\"data row2 col4\" >False</td> \n",
       "    </tr>    <tr> \n",
       "        <th id=\"T_b84f8130_932a_11e8_bc9e_a434d9a84a5elevel0_row3\" class=\"row_heading level0 row3\" >EDATE</th> \n",
       "        <td id=\"T_b84f8130_932a_11e8_bc9e_a434d9a84a5erow3_col0\" class=\"data row3 col0\" >Date extracted from the daily sales database</td> \n",
       "        <td id=\"T_b84f8130_932a_11e8_bc9e_a434d9a84a5erow3_col1\" class=\"data row3 col1\" >False</td> \n",
       "        <td id=\"T_b84f8130_932a_11e8_bc9e_a434d9a84a5erow3_col2\" class=\"data row3 col2\" >numerical</td> \n",
       "        <td id=\"T_b84f8130_932a_11e8_bc9e_a434d9a84a5erow3_col3\" class=\"data row3 col3\" >False</td> \n",
       "        <td id=\"T_b84f8130_932a_11e8_bc9e_a434d9a84a5erow3_col4\" class=\"data row3 col4\" >False</td> \n",
       "    </tr>    <tr> \n",
       "        <th id=\"T_b84f8130_932a_11e8_bc9e_a434d9a84a5elevel0_row4\" class=\"row_heading level0 row4\" >AGE</th> \n",
       "        <td id=\"T_b84f8130_932a_11e8_bc9e_a434d9a84a5erow4_col0\" class=\"data row4 col0\" >Age, in years</td> \n",
       "        <td id=\"T_b84f8130_932a_11e8_bc9e_a434d9a84a5erow4_col1\" class=\"data row4 col1\" >False</td> \n",
       "        <td id=\"T_b84f8130_932a_11e8_bc9e_a434d9a84a5erow4_col2\" class=\"data row4 col2\" >numerical</td> \n",
       "        <td id=\"T_b84f8130_932a_11e8_bc9e_a434d9a84a5erow4_col3\" class=\"data row4 col3\" >True</td> \n",
       "        <td id=\"T_b84f8130_932a_11e8_bc9e_a434d9a84a5erow4_col4\" class=\"data row4 col4\" >True</td> \n",
       "    </tr>    <tr> \n",
       "        <th id=\"T_b84f8130_932a_11e8_bc9e_a434d9a84a5elevel0_row5\" class=\"row_heading level0 row5\" >AGEGRP1</th> \n",
       "        <td id=\"T_b84f8130_932a_11e8_bc9e_a434d9a84a5erow5_col0\" class=\"data row5 col0\" >Age group 1</td> \n",
       "        <td id=\"T_b84f8130_932a_11e8_bc9e_a434d9a84a5erow5_col1\" class=\"data row5 col1\" >False</td> \n",
       "        <td id=\"T_b84f8130_932a_11e8_bc9e_a434d9a84a5erow5_col2\" class=\"data row5 col2\" >numerical</td> \n",
       "        <td id=\"T_b84f8130_932a_11e8_bc9e_a434d9a84a5erow5_col3\" class=\"data row5 col3\" >False</td> \n",
       "        <td id=\"T_b84f8130_932a_11e8_bc9e_a434d9a84a5erow5_col4\" class=\"data row5 col4\" >False</td> \n",
       "    </tr>    <tr> \n",
       "        <th id=\"T_b84f8130_932a_11e8_bc9e_a434d9a84a5elevel0_row6\" class=\"row_heading level0 row6\" >AGEGRP2</th> \n",
       "        <td id=\"T_b84f8130_932a_11e8_bc9e_a434d9a84a5erow6_col0\" class=\"data row6 col0\" >Age group 2</td> \n",
       "        <td id=\"T_b84f8130_932a_11e8_bc9e_a434d9a84a5erow6_col1\" class=\"data row6 col1\" >False</td> \n",
       "        <td id=\"T_b84f8130_932a_11e8_bc9e_a434d9a84a5erow6_col2\" class=\"data row6 col2\" >numerical</td> \n",
       "        <td id=\"T_b84f8130_932a_11e8_bc9e_a434d9a84a5erow6_col3\" class=\"data row6 col3\" >False</td> \n",
       "        <td id=\"T_b84f8130_932a_11e8_bc9e_a434d9a84a5erow6_col4\" class=\"data row6 col4\" >False</td> \n",
       "    </tr>    <tr> \n",
       "        <th id=\"T_b84f8130_932a_11e8_bc9e_a434d9a84a5elevel0_row7\" class=\"row_heading level0 row7\" >TV_REG</th> \n",
       "        <td id=\"T_b84f8130_932a_11e8_bc9e_a434d9a84a5erow7_col0\" class=\"data row7 col0\" >Television Region</td> \n",
       "        <td id=\"T_b84f8130_932a_11e8_bc9e_a434d9a84a5erow7_col1\" class=\"data row7 col1\" >False</td> \n",
       "        <td id=\"T_b84f8130_932a_11e8_bc9e_a434d9a84a5erow7_col2\" class=\"data row7 col2\" >categorical</td> \n",
       "        <td id=\"T_b84f8130_932a_11e8_bc9e_a434d9a84a5erow7_col3\" class=\"data row7 col3\" >True</td> \n",
       "        <td id=\"T_b84f8130_932a_11e8_bc9e_a434d9a84a5erow7_col4\" class=\"data row7 col4\" >True</td> \n",
       "    </tr>    <tr> \n",
       "        <th id=\"T_b84f8130_932a_11e8_bc9e_a434d9a84a5elevel0_row8\" class=\"row_heading level0 row8\" >NGROUP</th> \n",
       "        <td id=\"T_b84f8130_932a_11e8_bc9e_a434d9a84a5erow8_col0\" class=\"data row8 col0\" >Neighborhood group</td> \n",
       "        <td id=\"T_b84f8130_932a_11e8_bc9e_a434d9a84a5erow8_col1\" class=\"data row8 col1\" >False</td> \n",
       "        <td id=\"T_b84f8130_932a_11e8_bc9e_a434d9a84a5erow8_col2\" class=\"data row8 col2\" >categorical</td> \n",
       "        <td id=\"T_b84f8130_932a_11e8_bc9e_a434d9a84a5erow8_col3\" class=\"data row8 col3\" >True</td> \n",
       "        <td id=\"T_b84f8130_932a_11e8_bc9e_a434d9a84a5erow8_col4\" class=\"data row8 col4\" >True</td> \n",
       "    </tr>    <tr> \n",
       "        <th id=\"T_b84f8130_932a_11e8_bc9e_a434d9a84a5elevel0_row9\" class=\"row_heading level0 row9\" >NEIGHBORHOOD</th> \n",
       "        <td id=\"T_b84f8130_932a_11e8_bc9e_a434d9a84a5erow9_col0\" class=\"data row9 col0\" >Type of residential neighborhood</td> \n",
       "        <td id=\"T_b84f8130_932a_11e8_bc9e_a434d9a84a5erow9_col1\" class=\"data row9 col1\" >False</td> \n",
       "        <td id=\"T_b84f8130_932a_11e8_bc9e_a434d9a84a5erow9_col2\" class=\"data row9 col2\" >categorical</td> \n",
       "        <td id=\"T_b84f8130_932a_11e8_bc9e_a434d9a84a5erow9_col3\" class=\"data row9 col3\" >True</td> \n",
       "        <td id=\"T_b84f8130_932a_11e8_bc9e_a434d9a84a5erow9_col4\" class=\"data row9 col4\" >True</td> \n",
       "    </tr>    <tr> \n",
       "        <th id=\"T_b84f8130_932a_11e8_bc9e_a434d9a84a5elevel0_row10\" class=\"row_heading level0 row10\" >LCDATE</th> \n",
       "        <td id=\"T_b84f8130_932a_11e8_bc9e_a434d9a84a5erow10_col0\" class=\"data row10 col0\" >Loyalty card application due</td> \n",
       "        <td id=\"T_b84f8130_932a_11e8_bc9e_a434d9a84a5erow10_col1\" class=\"data row10 col1\" >False</td> \n",
       "        <td id=\"T_b84f8130_932a_11e8_bc9e_a434d9a84a5erow10_col2\" class=\"data row10 col2\" >numerical</td> \n",
       "        <td id=\"T_b84f8130_932a_11e8_bc9e_a434d9a84a5erow10_col3\" class=\"data row10 col3\" >False</td> \n",
       "        <td id=\"T_b84f8130_932a_11e8_bc9e_a434d9a84a5erow10_col4\" class=\"data row10 col4\" >False</td> \n",
       "    </tr>    <tr> \n",
       "        <th id=\"T_b84f8130_932a_11e8_bc9e_a434d9a84a5elevel0_row11\" class=\"row_heading level0 row11\" >LTIME</th> \n",
       "        <td id=\"T_b84f8130_932a_11e8_bc9e_a434d9a84a5erow11_col0\" class=\"data row11 col0\" >Time as loyalty card member</td> \n",
       "        <td id=\"T_b84f8130_932a_11e8_bc9e_a434d9a84a5erow11_col1\" class=\"data row11 col1\" >False</td> \n",
       "        <td id=\"T_b84f8130_932a_11e8_bc9e_a434d9a84a5erow11_col2\" class=\"data row11 col2\" >numerical</td> \n",
       "        <td id=\"T_b84f8130_932a_11e8_bc9e_a434d9a84a5erow11_col3\" class=\"data row11 col3\" >True</td> \n",
       "        <td id=\"T_b84f8130_932a_11e8_bc9e_a434d9a84a5erow11_col4\" class=\"data row11 col4\" >True</td> \n",
       "    </tr>    <tr> \n",
       "        <th id=\"T_b84f8130_932a_11e8_bc9e_a434d9a84a5elevel0_row12\" class=\"row_heading level0 row12\" >ORGANICS</th> \n",
       "        <td id=\"T_b84f8130_932a_11e8_bc9e_a434d9a84a5erow12_col0\" class=\"data row12 col0\" >Number of organic products purchased</td> \n",
       "        <td id=\"T_b84f8130_932a_11e8_bc9e_a434d9a84a5erow12_col1\" class=\"data row12 col1\" >True</td> \n",
       "        <td id=\"T_b84f8130_932a_11e8_bc9e_a434d9a84a5erow12_col2\" class=\"data row12 col2\" >numerical</td> \n",
       "        <td id=\"T_b84f8130_932a_11e8_bc9e_a434d9a84a5erow12_col3\" class=\"data row12 col3\" >True</td> \n",
       "        <td id=\"T_b84f8130_932a_11e8_bc9e_a434d9a84a5erow12_col4\" class=\"data row12 col4\" >True</td> \n",
       "    </tr>    <tr> \n",
       "        <th id=\"T_b84f8130_932a_11e8_bc9e_a434d9a84a5elevel0_row13\" class=\"row_heading level0 row13\" >BILL</th> \n",
       "        <td id=\"T_b84f8130_932a_11e8_bc9e_a434d9a84a5erow13_col0\" class=\"data row13 col0\" >Total amount spent</td> \n",
       "        <td id=\"T_b84f8130_932a_11e8_bc9e_a434d9a84a5erow13_col1\" class=\"data row13 col1\" >False</td> \n",
       "        <td id=\"T_b84f8130_932a_11e8_bc9e_a434d9a84a5erow13_col2\" class=\"data row13 col2\" >numerical</td> \n",
       "        <td id=\"T_b84f8130_932a_11e8_bc9e_a434d9a84a5erow13_col3\" class=\"data row13 col3\" >True</td> \n",
       "        <td id=\"T_b84f8130_932a_11e8_bc9e_a434d9a84a5erow13_col4\" class=\"data row13 col4\" >True</td> \n",
       "    </tr>    <tr> \n",
       "        <th id=\"T_b84f8130_932a_11e8_bc9e_a434d9a84a5elevel0_row14\" class=\"row_heading level0 row14\" >REGION</th> \n",
       "        <td id=\"T_b84f8130_932a_11e8_bc9e_a434d9a84a5erow14_col0\" class=\"data row14 col0\" >Geographic Region</td> \n",
       "        <td id=\"T_b84f8130_932a_11e8_bc9e_a434d9a84a5erow14_col1\" class=\"data row14 col1\" >False</td> \n",
       "        <td id=\"T_b84f8130_932a_11e8_bc9e_a434d9a84a5erow14_col2\" class=\"data row14 col2\" >categorical</td> \n",
       "        <td id=\"T_b84f8130_932a_11e8_bc9e_a434d9a84a5erow14_col3\" class=\"data row14 col3\" >True</td> \n",
       "        <td id=\"T_b84f8130_932a_11e8_bc9e_a434d9a84a5erow14_col4\" class=\"data row14 col4\" >True</td> \n",
       "    </tr>    <tr> \n",
       "        <th id=\"T_b84f8130_932a_11e8_bc9e_a434d9a84a5elevel0_row15\" class=\"row_heading level0 row15\" >CLASS</th> \n",
       "        <td id=\"T_b84f8130_932a_11e8_bc9e_a434d9a84a5erow15_col0\" class=\"data row15 col0\" >Customer loyalty status: tin, silver, gold, platinum</td> \n",
       "        <td id=\"T_b84f8130_932a_11e8_bc9e_a434d9a84a5erow15_col1\" class=\"data row15 col1\" >False</td> \n",
       "        <td id=\"T_b84f8130_932a_11e8_bc9e_a434d9a84a5erow15_col2\" class=\"data row15 col2\" >categorical</td> \n",
       "        <td id=\"T_b84f8130_932a_11e8_bc9e_a434d9a84a5erow15_col3\" class=\"data row15 col3\" >True</td> \n",
       "        <td id=\"T_b84f8130_932a_11e8_bc9e_a434d9a84a5erow15_col4\" class=\"data row15 col4\" >True</td> \n",
       "    </tr>    <tr> \n",
       "        <th id=\"T_b84f8130_932a_11e8_bc9e_a434d9a84a5elevel0_row16\" class=\"row_heading level0 row16\" >ORGYN</th> \n",
       "        <td id=\"T_b84f8130_932a_11e8_bc9e_a434d9a84a5erow16_col0\" class=\"data row16 col0\" >Organics Purchased? 1 = Yes, 0 = No</td> \n",
       "        <td id=\"T_b84f8130_932a_11e8_bc9e_a434d9a84a5erow16_col1\" class=\"data row16 col1\" >True</td> \n",
       "        <td id=\"T_b84f8130_932a_11e8_bc9e_a434d9a84a5erow16_col2\" class=\"data row16 col2\" >categorical</td> \n",
       "        <td id=\"T_b84f8130_932a_11e8_bc9e_a434d9a84a5erow16_col3\" class=\"data row16 col3\" >True</td> \n",
       "        <td id=\"T_b84f8130_932a_11e8_bc9e_a434d9a84a5erow16_col4\" class=\"data row16 col4\" >True</td> \n",
       "    </tr>    <tr> \n",
       "        <th id=\"T_b84f8130_932a_11e8_bc9e_a434d9a84a5elevel0_row17\" class=\"row_heading level0 row17\" >AFFL</th> \n",
       "        <td id=\"T_b84f8130_932a_11e8_bc9e_a434d9a84a5erow17_col0\" class=\"data row17 col0\" >Affluence grade on a scale from 1 to 30</td> \n",
       "        <td id=\"T_b84f8130_932a_11e8_bc9e_a434d9a84a5erow17_col1\" class=\"data row17 col1\" >False</td> \n",
       "        <td id=\"T_b84f8130_932a_11e8_bc9e_a434d9a84a5erow17_col2\" class=\"data row17 col2\" >numerical</td> \n",
       "        <td id=\"T_b84f8130_932a_11e8_bc9e_a434d9a84a5erow17_col3\" class=\"data row17 col3\" >True</td> \n",
       "        <td id=\"T_b84f8130_932a_11e8_bc9e_a434d9a84a5erow17_col4\" class=\"data row17 col4\" >True</td> \n",
       "    </tr></tbody> \n",
       "</table> "
      ],
      "text/plain": [
       "<pandas.io.formats.style.Styler at 0x2a7052c1a20>"
      ]
     },
     "metadata": {},
     "output_type": "display_data"
    }
   ],
   "source": [
    "COLUMN_INFORMATION = pd.DataFrame.from_dict(descriptions, orient='index')\n",
    "COLUMN_INFORMATION.columns = ['Description', 'For Classification', 'For Regression', 'Variable Type', 'Target']\n",
    "COLUMN_INFORMATION = COLUMN_INFORMATION[['Description', 'Target', 'Variable Type', 'For Classification', 'For Regression']]\n",
    "COLUMN_INFORMATION['Target'] = COLUMN_INFORMATION['Target'].apply(lambda cell: bool(cell))\n",
    "\n",
    "with pd.option_context('display.max_rows', None, 'display.max_columns', None, 'display.max_colwidth', -1):\n",
    "    display(\n",
    "        COLUMN_INFORMATION.style.\\\n",
    "            applymap(highlight_useful, subset=['For Classification', 'For Regression']).\\\n",
    "            applymap(highlight_type, subset='Variable Type').\\\n",
    "            applymap(highlight_target, subset='Target')\n",
    "    )"
   ]
  },
  {
   "cell_type": "markdown",
   "metadata": {},
   "source": [
    "### 1.1 What is the proportion of individuals who purchased organic products?"
   ]
  },
  {
   "cell_type": "code",
   "execution_count": 7,
   "metadata": {},
   "outputs": [
    {
     "data": {
      "image/png": "[encoded data removed]",
      "text/plain": [
       "<Figure size 432x288 with 1 Axes>"
      ]
     },
     "metadata": {},
     "output_type": "display_data"
    }
   ],
   "source": [
    "buyer_counts = organics['ORGYN'].value_counts()\n",
    "buyer_counts.index = ['Y' if index else 'N' for index in buyer_counts.index]\n",
    "plt.pie(buyer_counts, labels=buyer_counts.index, startangle=90, shadow=True, explode=(0, 0.1), autopct='%1.1f%%')\n",
    "plt.title(\"Proportion of Individuals Who Purchased Organic Products\")\n",
    "plt.axis('equal')\n",
    "plt.show()"
   ]
  },
  {
   "cell_type": "markdown",
   "metadata": {},
   "source": [
    "### Dropping Unused Variables"
   ]
  },
  {
   "cell_type": "code",
   "execution_count": 8,
   "metadata": {},
   "outputs": [],
   "source": [
    "unused = []\n",
    "organics.drop(labels=unused, inplace=True)"
   ]
  },
  {
   "cell_type": "markdown",
   "metadata": {},
   "source": [
    "### Cleaning Data"
   ]
  },
  {
   "cell_type": "code",
   "execution_count": 9,
   "metadata": {},
   "outputs": [],
   "source": [
    "# Columns with NAs: AGE, "
   ]
  },
  {
   "cell_type": "code",
   "execution_count": 91,
   "metadata": {},
   "outputs": [],
   "source": [
    "# filling age NAs\n",
    "organics['AGE'].fillna(organics['AGE'].mean(), inplace=True)"
   ]
  },
  {
   "cell_type": "code",
   "execution_count": null,
   "metadata": {},
   "outputs": [],
   "source": [
    "pa"
   ]
  },
  {
   "cell_type": "markdown",
   "metadata": {},
   "source": [
    "### Train / Val / Test Split"
   ]
  },
  {
   "cell_type": "code",
   "execution_count": 10,
   "metadata": {},
   "outputs": [],
   "source": [
    "def split_labels(n: int, test_size=0.2, val_size=0.2):\n",
    "    \"\"\" return a list containing train/test/val labels \"\"\"\n",
    "    t = int(n * test_size)\n",
    "    v = int(n * val_size)\n",
    "    labels = np.zeros(n)\n",
    "    labels[:t] = 1\n",
    "    labels[t:t+v] = 2\n",
    "    labels = ['test' if el==1 else 'val' if el==2 else 'train' for el in labels]\n",
    "    np.random.shuffle(labels)\n",
    "    return labels"
   ]
  },
  {
   "cell_type": "markdown",
   "metadata": {},
   "source": [
    "---\n",
    "## Task 2. Predictive Modeling Using Decision Trees\n",
    "\n",
    "(4 marks)"
   ]
  },
  {
   "cell_type": "code",
   "execution_count": 63,
   "metadata": {},
   "outputs": [],
   "source": [
    "def visualise_tree(dt, feature_names=None, class_names=None):\n",
    "    \"\"\" visualise a decision tree in a Jupyter notebook \"\"\"\n",
    "    graph = graphviz.Source(export_graphviz(dt, out_file=None, filled=True, rounded=True, feature_names=feature_names, class_names=class_names))\n",
    "    display(SVG(graph.pipe(format='svg')))"
   ]
  },
  {
   "cell_type": "markdown",
   "metadata": {},
   "source": [
    "### 2.1 Build a decision tree using default setting. "
   ]
  },
  {
   "cell_type": "code",
   "execution_count": 239,
   "metadata": {},
   "outputs": [],
   "source": [
    "features = ['AGE', 'BILL']\n",
    "\n",
    "X = np.column_stack([organics[feature] for feature in features])\n",
    "\n",
    "y = np.array(organics['ORGYN'])\n",
    "\n",
    "Xtr, Xte, ytr, yte = train_test_split(X, y)"
   ]
  },
  {
   "cell_type": "code",
   "execution_count": 240,
   "metadata": {},
   "outputs": [],
   "source": [
    "dt = DecisionTreeClassifier()"
   ]
  },
  {
   "cell_type": "code",
   "execution_count": 241,
   "metadata": {},
   "outputs": [
    {
     "data": {
      "text/plain": [
       "DecisionTreeClassifier(class_weight=None, criterion='gini', max_depth=None,\n",
       "            max_features=None, max_leaf_nodes=None,\n",
       "            min_impurity_decrease=0.0, min_impurity_split=None,\n",
       "            min_samples_leaf=1, min_samples_split=2,\n",
       "            min_weight_fraction_leaf=0.0, presort=False, random_state=None,\n",
       "            splitter='best')"
      ]
     },
     "execution_count": 241,
     "metadata": {},
     "output_type": "execute_result"
    }
   ],
   "source": [
    "dt.fit(Xtr, ytr)"
   ]
  },
  {
   "cell_type": "markdown",
   "metadata": {},
   "source": [
    "#### a. What is the classification accuracy on training and test datasets?"
   ]
  },
  {
   "cell_type": "code",
   "execution_count": 243,
   "metadata": {},
   "outputs": [
    {
     "data": {
      "text/html": [
       "<div>\n",
       "<style scoped>\n",
       "    .dataframe tbody tr th:only-of-type {\n",
       "        vertical-align: middle;\n",
       "    }\n",
       "\n",
       "    .dataframe tbody tr th {\n",
       "        vertical-align: top;\n",
       "    }\n",
       "\n",
       "    .dataframe thead th {\n",
       "        text-align: right;\n",
       "    }\n",
       "</style>\n",
       "<table border=\"1\" class=\"dataframe\">\n",
       "  <thead>\n",
       "    <tr style=\"text-align: right;\">\n",
       "      <th></th>\n",
       "      <th>Accuracy</th>\n",
       "    </tr>\n",
       "  </thead>\n",
       "  <tbody>\n",
       "    <tr>\n",
       "      <th>Train</th>\n",
       "      <td>0.836143</td>\n",
       "    </tr>\n",
       "    <tr>\n",
       "      <th>Test</th>\n",
       "      <td>0.754500</td>\n",
       "    </tr>\n",
       "  </tbody>\n",
       "</table>\n",
       "</div>"
      ],
      "text/plain": [
       "       Accuracy\n",
       "Train  0.836143\n",
       "Test   0.754500"
      ]
     },
     "execution_count": 243,
     "metadata": {},
     "output_type": "execute_result"
    }
   ],
   "source": [
    "pd.DataFrame([dt.score(Xtr, ytr), dt.score(Xte, yte)], columns=['Accuracy'], index=['Train', 'Test'])"
   ]
  },
  {
   "cell_type": "markdown",
   "metadata": {},
   "source": [
    "#### b. Which variable is used for the first split? What are the competing splits for the first split?"
   ]
  },
  {
   "cell_type": "code",
   "execution_count": 244,
   "metadata": {},
   "outputs": [
    {
     "data": {
      "text/html": [
       "<div>\n",
       "<style scoped>\n",
       "    .dataframe tbody tr th:only-of-type {\n",
       "        vertical-align: middle;\n",
       "    }\n",
       "\n",
       "    .dataframe tbody tr th {\n",
       "        vertical-align: top;\n",
       "    }\n",
       "\n",
       "    .dataframe thead th {\n",
       "        text-align: right;\n",
       "    }\n",
       "</style>\n",
       "<table border=\"1\" class=\"dataframe\">\n",
       "  <thead>\n",
       "    <tr style=\"text-align: right;\">\n",
       "      <th></th>\n",
       "      <th>Importance</th>\n",
       "    </tr>\n",
       "  </thead>\n",
       "  <tbody>\n",
       "    <tr>\n",
       "      <th>AGE</th>\n",
       "      <td>0.541325</td>\n",
       "    </tr>\n",
       "    <tr>\n",
       "      <th>BILL</th>\n",
       "      <td>0.458675</td>\n",
       "    </tr>\n",
       "  </tbody>\n",
       "</table>\n",
       "</div>"
      ],
      "text/plain": [
       "      Importance\n",
       "AGE     0.541325\n",
       "BILL    0.458675"
      ]
     },
     "execution_count": 244,
     "metadata": {},
     "output_type": "execute_result"
    }
   ],
   "source": [
    "importances = pd.DataFrame(dt.feature_importances_, columns=['Importance'], index=features)\n",
    "importances"
   ]
  },
  {
   "cell_type": "code",
   "execution_count": 246,
   "metadata": {},
   "outputs": [],
   "source": [
    "# visualise_tree(dt, feature_names=['AGE', 'BILL'], class_names=[str(bool(c)) for c in dt.classes_])"
   ]
  },
  {
   "cell_type": "markdown",
   "metadata": {},
   "source": [
    "#### c. What are the 5 important variables in building the tree?"
   ]
  },
  {
   "cell_type": "code",
   "execution_count": 247,
   "metadata": {},
   "outputs": [
    {
     "data": {
      "text/html": [
       "<div>\n",
       "<style scoped>\n",
       "    .dataframe tbody tr th:only-of-type {\n",
       "        vertical-align: middle;\n",
       "    }\n",
       "\n",
       "    .dataframe tbody tr th {\n",
       "        vertical-align: top;\n",
       "    }\n",
       "\n",
       "    .dataframe thead th {\n",
       "        text-align: right;\n",
       "    }\n",
       "</style>\n",
       "<table border=\"1\" class=\"dataframe\">\n",
       "  <thead>\n",
       "    <tr style=\"text-align: right;\">\n",
       "      <th></th>\n",
       "      <th>Importance</th>\n",
       "    </tr>\n",
       "  </thead>\n",
       "  <tbody>\n",
       "    <tr>\n",
       "      <th>AGE</th>\n",
       "      <td>0.541325</td>\n",
       "    </tr>\n",
       "    <tr>\n",
       "      <th>BILL</th>\n",
       "      <td>0.458675</td>\n",
       "    </tr>\n",
       "  </tbody>\n",
       "</table>\n",
       "</div>"
      ],
      "text/plain": [
       "      Importance\n",
       "AGE     0.541325\n",
       "BILL    0.458675"
      ]
     },
     "execution_count": 247,
     "metadata": {},
     "output_type": "execute_result"
    }
   ],
   "source": [
    "importances[:5]"
   ]
  },
  {
   "cell_type": "markdown",
   "metadata": {},
   "source": [
    "#### d. Report if you see any evidence of model overfitting."
   ]
  },
  {
   "cell_type": "markdown",
   "metadata": {},
   "source": [
    "There is model overfitting. This is evidenced by the higher train set accuracy."
   ]
  },
  {
   "cell_type": "markdown",
   "metadata": {},
   "source": [
    "### 2.2 Build another decision tree tuned with GridSearchCV."
   ]
  },
  {
   "cell_type": "code",
   "execution_count": 248,
   "metadata": {},
   "outputs": [],
   "source": [
    "parameters = {\n",
    "    \"criterion\": ['gini', 'entropy'],\n",
    "    \"max_depth\": [None, 2, 5, 10, 15],\n",
    "    \"min_samples_split\": [0.2, 0.4, 0.6, 0.8],\n",
    "    \"min_samples_leaf\": [1, 20, 50, 80, 100]\n",
    "}"
   ]
  },
  {
   "cell_type": "code",
   "execution_count": 249,
   "metadata": {},
   "outputs": [],
   "source": [
    "gs_dt = GridSearchCV(DecisionTreeClassifier(), parameters).fit(Xtr, ytr)"
   ]
  },
  {
   "cell_type": "markdown",
   "metadata": {},
   "source": [
    "#### a. What is the classification accuracy on training and test datasets?"
   ]
  },
  {
   "cell_type": "code",
   "execution_count": 250,
   "metadata": {},
   "outputs": [
    {
     "data": {
      "text/plain": [
       "(0.7814243715125697, 0.7809575233981282)"
      ]
     },
     "execution_count": 250,
     "metadata": {},
     "output_type": "execute_result"
    }
   ],
   "source": [
    "gs_dt.score(Xtr, ytr), gs_dt.score(Xte, yte)"
   ]
  },
  {
   "cell_type": "markdown",
   "metadata": {},
   "source": [
    "#### b. What are the parameters used? Explain your decision."
   ]
  },
  {
   "cell_type": "code",
   "execution_count": 251,
   "metadata": {},
   "outputs": [
    {
     "name": "stdout",
     "output_type": "stream",
     "text": [
      "Parameters used: ['criterion', 'max_depth', 'min_samples_split', 'min_samples_leaf']\n"
     ]
    }
   ],
   "source": [
    "print(f\"Parameters used: {list(parameters.keys())}\")"
   ]
  },
  {
   "cell_type": "markdown",
   "metadata": {},
   "source": [
    "Explanation"
   ]
  },
  {
   "cell_type": "markdown",
   "metadata": {},
   "source": [
    "#### c. What are the optimal parameters for this decision tree?"
   ]
  },
  {
   "cell_type": "code",
   "execution_count": 252,
   "metadata": {},
   "outputs": [
    {
     "data": {
      "text/plain": [
       "{'criterion': 'gini',\n",
       " 'max_depth': None,\n",
       " 'min_samples_leaf': 1,\n",
       " 'min_samples_split': 0.2}"
      ]
     },
     "execution_count": 252,
     "metadata": {},
     "output_type": "execute_result"
    }
   ],
   "source": [
    "gs_dt.best_params_"
   ]
  },
  {
   "cell_type": "code",
   "execution_count": 253,
   "metadata": {},
   "outputs": [
    {
     "data": {
      "text/plain": [
       "{'class_weight': None,\n",
       " 'criterion': 'gini',\n",
       " 'max_depth': None,\n",
       " 'max_features': None,\n",
       " 'max_leaf_nodes': None,\n",
       " 'min_impurity_decrease': 0.0,\n",
       " 'min_impurity_split': None,\n",
       " 'min_samples_leaf': 1,\n",
       " 'min_samples_split': 0.2,\n",
       " 'min_weight_fraction_leaf': 0.0,\n",
       " 'presort': False,\n",
       " 'random_state': None,\n",
       " 'splitter': 'best'}"
      ]
     },
     "execution_count": 253,
     "metadata": {},
     "output_type": "execute_result"
    }
   ],
   "source": [
    "gs_dt.best_estimator_.get_params()"
   ]
  },
  {
   "cell_type": "markdown",
   "metadata": {},
   "source": [
    "#### d. Which variable is used for the first split? What are the competing splits for this first split?"
   ]
  },
  {
   "cell_type": "code",
   "execution_count": 255,
   "metadata": {},
   "outputs": [
    {
     "data": {
      "text/html": [
       "<div>\n",
       "<style scoped>\n",
       "    .dataframe tbody tr th:only-of-type {\n",
       "        vertical-align: middle;\n",
       "    }\n",
       "\n",
       "    .dataframe tbody tr th {\n",
       "        vertical-align: top;\n",
       "    }\n",
       "\n",
       "    .dataframe thead th {\n",
       "        text-align: right;\n",
       "    }\n",
       "</style>\n",
       "<table border=\"1\" class=\"dataframe\">\n",
       "  <thead>\n",
       "    <tr style=\"text-align: right;\">\n",
       "      <th></th>\n",
       "      <th>Importance</th>\n",
       "    </tr>\n",
       "  </thead>\n",
       "  <tbody>\n",
       "    <tr>\n",
       "      <th>AGE</th>\n",
       "      <td>0.991606</td>\n",
       "    </tr>\n",
       "    <tr>\n",
       "      <th>BILL</th>\n",
       "      <td>0.008394</td>\n",
       "    </tr>\n",
       "  </tbody>\n",
       "</table>\n",
       "</div>"
      ],
      "text/plain": [
       "      Importance\n",
       "AGE     0.991606\n",
       "BILL    0.008394"
      ]
     },
     "execution_count": 255,
     "metadata": {},
     "output_type": "execute_result"
    }
   ],
   "source": [
    "importances = pd.DataFrame(gs_dt.best_estimator_.feature_importances_, columns=['Importance'], index=features)\n",
    "importances"
   ]
  },
  {
   "cell_type": "markdown",
   "metadata": {},
   "source": [
    "#### e. What are the 5 important variables in building the tree?"
   ]
  },
  {
   "cell_type": "code",
   "execution_count": 256,
   "metadata": {},
   "outputs": [
    {
     "data": {
      "text/html": [
       "<div>\n",
       "<style scoped>\n",
       "    .dataframe tbody tr th:only-of-type {\n",
       "        vertical-align: middle;\n",
       "    }\n",
       "\n",
       "    .dataframe tbody tr th {\n",
       "        vertical-align: top;\n",
       "    }\n",
       "\n",
       "    .dataframe thead th {\n",
       "        text-align: right;\n",
       "    }\n",
       "</style>\n",
       "<table border=\"1\" class=\"dataframe\">\n",
       "  <thead>\n",
       "    <tr style=\"text-align: right;\">\n",
       "      <th></th>\n",
       "      <th>Importance</th>\n",
       "    </tr>\n",
       "  </thead>\n",
       "  <tbody>\n",
       "    <tr>\n",
       "      <th>AGE</th>\n",
       "      <td>0.991606</td>\n",
       "    </tr>\n",
       "    <tr>\n",
       "      <th>BILL</th>\n",
       "      <td>0.008394</td>\n",
       "    </tr>\n",
       "  </tbody>\n",
       "</table>\n",
       "</div>"
      ],
      "text/plain": [
       "      Importance\n",
       "AGE     0.991606\n",
       "BILL    0.008394"
      ]
     },
     "execution_count": 256,
     "metadata": {},
     "output_type": "execute_result"
    }
   ],
   "source": [
    "importances = pd.DataFrame(gs_dt.best_estimator_.feature_importances_, columns=['Importance'], index=features)\n",
    "importances[:5]"
   ]
  },
  {
   "cell_type": "markdown",
   "metadata": {},
   "source": [
    "#### f. Report if you see an evidence of model overfitting."
   ]
  },
  {
   "cell_type": "markdown",
   "metadata": {},
   "source": [
    "There is no evidence of model overfitting, the accuracy on the train and test splits is comparable."
   ]
  },
  {
   "cell_type": "markdown",
   "metadata": {},
   "source": [
    "---\n",
    "## Task 3. Predictive Modeling Using Regression\n",
    "\n",
    "(5.5 marks)"
   ]
  },
  {
   "cell_type": "markdown",
   "metadata": {},
   "source": [
    "### 1. Apply transformation/scaling methods to variables."
   ]
  },
  {
   "cell_type": "code",
   "execution_count": 257,
   "metadata": {},
   "outputs": [],
   "source": [
    "# apply "
   ]
  },
  {
   "cell_type": "code",
   "execution_count": 262,
   "metadata": {},
   "outputs": [],
   "source": [
    "# list affected variables"
   ]
  },
  {
   "cell_type": "markdown",
   "metadata": {},
   "source": [
    "### 2. Build regression models (with and without GridSearchCV)"
   ]
  },
  {
   "cell_type": "markdown",
   "metadata": {},
   "source": [
    "#### a. Report which variables are included in the regression model."
   ]
  },
  {
   "cell_type": "code",
   "execution_count": null,
   "metadata": {},
   "outputs": [],
   "source": []
  },
  {
   "cell_type": "markdown",
   "metadata": {},
   "source": [
    "#### b. Report the top-5 important variables."
   ]
  },
  {
   "cell_type": "code",
   "execution_count": null,
   "metadata": {},
   "outputs": [],
   "source": []
  },
  {
   "cell_type": "markdown",
   "metadata": {},
   "source": [
    "#### c. Report any sign of overfitting."
   ]
  },
  {
   "cell_type": "code",
   "execution_count": null,
   "metadata": {},
   "outputs": [],
   "source": []
  },
  {
   "cell_type": "markdown",
   "metadata": {},
   "source": [
    "#### d. What are the parameters used?"
   ]
  },
  {
   "cell_type": "code",
   "execution_count": 259,
   "metadata": {},
   "outputs": [],
   "source": [
    "# explain your decision"
   ]
  },
  {
   "cell_type": "code",
   "execution_count": 260,
   "metadata": {},
   "outputs": [],
   "source": [
    "# What are the optimal parameters"
   ]
  },
  {
   "cell_type": "code",
   "execution_count": 261,
   "metadata": {},
   "outputs": [],
   "source": [
    "# Which regression function is being used?"
   ]
  },
  {
   "cell_type": "markdown",
   "metadata": {},
   "source": [
    "#### e. What is the classification accuracy on training and test datasets?"
   ]
  },
  {
   "cell_type": "code",
   "execution_count": null,
   "metadata": {},
   "outputs": [],
   "source": []
  },
  {
   "cell_type": "markdown",
   "metadata": {},
   "source": [
    "---\n",
    "## Task 4. Predictive Modeling Using Neural Networks\n",
    "\n",
    "(5.5 marks)"
   ]
  },
  {
   "cell_type": "markdown",
   "metadata": {},
   "source": [
    "### 1. Build a Neural Network model using the default setting."
   ]
  },
  {
   "cell_type": "markdown",
   "metadata": {},
   "source": [
    "#### a. What is the network architecture of the model?"
   ]
  },
  {
   "cell_type": "markdown",
   "metadata": {},
   "source": [
    "#### b. How many iterations are needed to train this network?"
   ]
  },
  {
   "cell_type": "markdown",
   "metadata": {},
   "source": [
    "#### c. Do you see any sign of over-fitting?"
   ]
  },
  {
   "cell_type": "markdown",
   "metadata": {},
   "source": [
    "#### d. Did the training process converge and result in the best model?"
   ]
  },
  {
   "cell_type": "markdown",
   "metadata": {},
   "source": [
    "#### e. What is the classification accuracy on the training and test datasets?"
   ]
  },
  {
   "cell_type": "markdown",
   "metadata": {},
   "source": [
    "### 2. Refine this network by refining is with GridSearchCV."
   ]
  },
  {
   "cell_type": "code",
   "execution_count": null,
   "metadata": {},
   "outputs": [],
   "source": [
    "# What parameters are used?"
   ]
  },
  {
   "cell_type": "code",
   "execution_count": null,
   "metadata": {},
   "outputs": [],
   "source": [
    "# Explain your decision."
   ]
  },
  {
   "cell_type": "markdown",
   "metadata": {},
   "source": [
    "### 3. Build  another Neural Network with inputs selected from RFE with regression.\n",
    "\n",
    "(Use the best model generated in Task 3) and selection with decision tree (use the best model from Task 2)."
   ]
  },
  {
   "cell_type": "markdown",
   "metadata": {},
   "source": [
    "#### a. Did feature selection help here? Any changes in network architecture? What inputs are being used?"
   ]
  },
  {
   "cell_type": "markdown",
   "metadata": {},
   "source": [
    "#### b. What is the classification accuracy on the train and test datasets? Any improvements?"
   ]
  },
  {
   "cell_type": "markdown",
   "metadata": {},
   "source": [
    "#### c. How many iteration are needed to train this network?"
   ]
  },
  {
   "cell_type": "markdown",
   "metadata": {},
   "source": [
    "#### d. Do you see any sign of over-fitting?"
   ]
  },
  {
   "cell_type": "markdown",
   "metadata": {},
   "source": [
    "#### e. Did the training process converge and result in the best model?"
   ]
  },
  {
   "cell_type": "markdown",
   "metadata": {},
   "source": [
    "#### f. Use GridSearchCV to tune the network to see whether the change in network architecture can further improve the performance."
   ]
  },
  {
   "cell_type": "markdown",
   "metadata": {},
   "source": [
    "### 3. Using the comparison methods, Which appears to be better?\n",
    "\n",
    "From the better model, can you identify which customers to target? Can you provide some descriptive summary of those customers?"
   ]
  },
  {
   "cell_type": "markdown",
   "metadata": {},
   "source": [
    "---\n",
    "## Task 5. Comparing Predictive Models\n",
    "\n",
    "(4 marks)"
   ]
  },
  {
   "cell_type": "markdown",
   "metadata": {},
   "source": [
    "### 1. Using the comparison methods to compare the best decsision tree model, the best regression model..."
   ]
  },
  {
   "cell_type": "markdown",
   "metadata": {},
   "source": [
    "#### a. Discuss the findings led by (a) ROC Chart and Index; (b) Accuracy Score; (c) Classification Report."
   ]
  },
  {
   "cell_type": "markdown",
   "metadata": {},
   "source": [
    "#### b. Do all the mdoels agree on the customers' characteristics? How do they vary?"
   ]
  },
  {
   "cell_type": "markdown",
   "metadata": {},
   "source": [
    "### 2. Finally, based on all models and analysis, is there a particular model you will use in decision making?"
   ]
  },
  {
   "cell_type": "markdown",
   "metadata": {},
   "source": [
    "### 3. Can you summarise positives and negaitives of each modelling method based on this analysis?"
   ]
  },
  {
   "cell_type": "markdown",
   "metadata": {},
   "source": [
    "## Conclusion"
   ]
  },
  {
   "cell_type": "markdown",
   "metadata": {},
   "source": [
    "In conclusion ..."
   ]
  }
 ],
 "metadata": {
  "kernelspec": {
   "display_name": "Python [conda env:Anaconda3]",
   "language": "python",
   "name": "conda-env-Anaconda3-py"
  },
  "language_info": {
   "codemirror_mode": {
    "name": "ipython",
    "version": 3
   },
   "file_extension": ".py",
   "mimetype": "text/x-python",
   "name": "python",
   "nbconvert_exporter": "python",
   "pygments_lexer": "ipython3",
   "version": "3.6.5"
  }
 },
 "nbformat": 4,
 "nbformat_minor": 2
}
