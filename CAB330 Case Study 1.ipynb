{
 "cells": [
  {
   "cell_type": "markdown",
   "metadata": {},
   "source": [
    "# CAB330 Case Study 1: Students\n",
    "\n",
    "Class: CAB330\n",
    "\n",
    "Students: \n",
    "\n",
    "- Christopher Ayling | christopher.ayling@connect.qut.edu.au\n",
    "- Benjamin Saljooghi | 9448233 | benjamin.saljooghi@connect.qut.edu.au\n",
    "- Jordi Smit\n",
    "\n",
    "Due Date: 9th September 2018\n",
    "\n",
    "Project Demo: Week 8 Wednesday Lab\n",
    "\n",
    "Weighting: 25%"
   ]
  },
  {
   "cell_type": "markdown",
   "metadata": {},
   "source": [
    "---\n",
    "## Setup"
   ]
  },
  {
   "cell_type": "code",
   "execution_count": null,
   "metadata": {},
   "outputs": [],
   "source": [
    "%matplotlib inline\n",
    "%load_ext autoreload\n",
    "%autoreload 2"
   ]
  },
  {
   "cell_type": "code",
   "execution_count": null,
   "metadata": {},
   "outputs": [],
   "source": [
    "# Manipulating Data\n",
    "import pandas as pd\n",
    "import numpy as np\n",
    "from sklearn.model_selection import train_test_split\n",
    "\n",
    "# Visualisations\n",
    "import seaborn as sns\n",
    "import matplotlib.pyplot as plt\n",
    "from IPython.display import SVG, Image\n",
    "import graphviz\n",
    "\n",
    "# Algorithms\n",
    "from sklearn.tree import DecisionTreeClassifier, DecisionTreeRegressor, export_graphviz\n",
    "from sklearn.ensemble import RandomForestClassifier, RandomForestRegressor\n",
    "from sklearn.linear_model import LinearRegression\n",
    "from sklearn.neural_network import MLPClassifier, MLPRegressor\n",
    "\n",
    "from sklearn.model_selection import GridSearchCV"
   ]
  },
  {
   "cell_type": "code",
   "execution_count": null,
   "metadata": {},
   "outputs": [],
   "source": [
    "np.random.seed(330)"
   ]
  },
  {
   "cell_type": "markdown",
   "metadata": {},
   "source": [
    "---\n",
    "## Data Loading"
   ]
  },
  {
   "cell_type": "code",
   "execution_count": null,
   "metadata": {},
   "outputs": [],
   "source": [
    "students = pd.read_csv(\"./STUDENT.csv\")\n",
    "students.head()\n",
    "\n",
    "# organics = pd.read_csv(\"./organics.csv\")\n",
    "# organics.head()"
   ]
  },
  {
   "cell_type": "code",
   "execution_count": null,
   "metadata": {},
   "outputs": [],
   "source": [
    "rows, columns = students.shape; rows, columns"
   ]
  },
  {
   "cell_type": "markdown",
   "metadata": {},
   "source": [
    "---\n",
    "## Task 1. Data Selection and Distribution.\n",
    "\n",
    "(4 marks)"
   ]
  },
  {
   "cell_type": "markdown",
   "metadata": {},
   "source": [
    "### Variable Descriptions\n",
    "\n",
    "The following information would assist you in assigning the variables roles.\n",
    "\n",
    "- There are three target variables namely, G1, G2 and G3, with different types. Choose the target that suits best according to the given task.\n",
    "- Identify if the variable is an input variable or a supplementary variable.\n",
    "- Data transformation is required for a few input variables to get improved accuracy"
   ]
  },
  {
   "cell_type": "code",
   "execution_count": null,
   "metadata": {},
   "outputs": [],
   "source": [
    "red = 'background-color: Tomato'\n",
    "green = 'background-color: MediumSeaGreen'\n",
    "blue = 'background-color: DodgerBlue'\n",
    "sblue = 'background-color: SlateBlue'\n",
    "violet = 'background-color: Violet'\n",
    "gray = 'background-color: Lightgray'\n",
    "orange = 'background-color: Orange'"
   ]
  },
  {
   "cell_type": "code",
   "execution_count": null,
   "metadata": {},
   "outputs": [],
   "source": [
    "def highlight_useful(val):\n",
    "    \"\"\" highlight True as green, false as red \"\"\"\n",
    "    return '' if val is None else green if val else red"
   ]
  },
  {
   "cell_type": "code",
   "execution_count": null,
   "metadata": {},
   "outputs": [],
   "source": [
    "def highlight_type(val):\n",
    "    \"\"\" highlight based on variable type \"\"\"\n",
    "    return blue if val == 'categorical' else sblue if val == 'numerical' else ''"
   ]
  },
  {
   "cell_type": "code",
   "execution_count": null,
   "metadata": {},
   "outputs": [],
   "source": [
    "def highlight_target(val):\n",
    "    \"\"\" highlight if target variable \"\"\"\n",
    "    return orange if val else gray"
   ]
  },
  {
   "cell_type": "code",
   "execution_count": null,
   "metadata": {},
   "outputs": [],
   "source": [
    "# descriptions = {\n",
    "#     \"CUSTID\": [\"Customer Identifcation Number\", False, False, 'categorical'],\n",
    "#     \"GENDER\": [\"M = male. F = Female, U = unknown\", False, False, 'categorical'],\n",
    "#     \"DOB\": [\"Date of birth\", False, False, 'numerical'],\n",
    "#     \"EDATE\": [\"Date extracted from the daily sales database\", False, False, 'numerical'],\n",
    "#     \"AGE\": [\"Age, in years\", True, True, 'numerical'],\n",
    "#     \"AGEGRP1\": [\"Age group 1\", False, False, 'numerical'],\n",
    "#     \"AGEGRP2\": [\"Age group 2\", False, False, 'numerical'],\n",
    "#     \"TV_REG\": [\"Television Region\", True, True, 'categorical'],\n",
    "#     \"NGROUP\": [\"Neighborhood group\", True, True, 'categorical'],\n",
    "#     \"NEIGHBORHOOD\": [\"Type of residential neighborhood\", True, True, 'categorical'],\n",
    "#     \"LCDATE\": [\"Loyalty card application due\", False, False, 'numerical'],\n",
    "#     \"LTIME\": [\"Time as loyalty card member\", True, True, 'numerical'],\n",
    "#     \"ORGANICS\": [\"Number of organic products purchased\", True, True, 'numerical', True],\n",
    "#     \"BILL\": [\"Total amount spent\", True, True, 'numerical'],\n",
    "#     \"REGION\": [\"Geographic Region\", True, True, 'categorical'],\n",
    "#     \"CLASS\": [\"Customer loyalty status: tin, silver, gold, platinum\", True, True, 'categorical'],\n",
    "#     \"ORGYN\": [\"Organics Purchased? 1 = Yes, 0 = No\", True, True, 'categorical', True],\n",
    "#     \"AFFL\": [\"Affluence grade on a scale from 1 to 30\", True, True, 'numerical']\n",
    "# }\n",
    "\n",
    "\n",
    "descriptions = {\n",
    "    \"Id\": [\"student's id\", False, False, 'numerical'],\n",
    "    \"InitialName\": [\"student's initial\", False, False, 'numerical'],\n",
    "    \"School\": [\"student's school name\", True, True, 'categorical'],\n",
    "    \"Sex\": [\"student's sex\", True, True, 'categorical'],\n",
    "    \"Age\": [\"student's age\", True, True, 'numerical'],\n",
    "    \"Address\": [\"student's home address type\", True, True, 'categorical'],\n",
    "    \"Famsize\": [\"family size (≤ 3 or > 3)\", True, True, 'categorical'],\n",
    "    \"Pstatus\": [\"parent's cohabitation status (living together or apart)\", True, True, 'categorical'],\n",
    "    \"Medu\": [\"mother’s education(0 – none, 1 – primary education (4th grade), 2 – 5th to 9th grade, 3 – secondary education or 4 – higher education)\", True, True, 'numerical'],\n",
    "    \"Fedu\": [\"father’s education(0 – none, 1 – primary education (4th grade), 2 – 5th to 9th grade, 3 – secondary education or 4 – higher education)\", True, True, 'numerical'],\n",
    "    \"Mjob\": [\"mother's job\", True, True, 'categorical'],\n",
    "    \"Fjob\": [\"father's job\", True, True, 'categorical'],\n",
    "    \"Reason\": [\"reason to choose this school\", True, True, 'categorical'],\n",
    "    \"guardian\": [\"student's guardian\", True, True, 'categorical'],\n",
    "    \"traveltime\": [\"home to school travel time (1 – < 15 min., 2 – 15 to 30 min., 3 – 30 min. to 1 hour or 4 – > 1 hour)\", True, True, 'numerical'],\n",
    "    \"studytime\": [\"weekly study time (1 – < 2 hours, 2 – 2 to 5 hours, 3 – 5 to 10 hours or 4 – > 10 hours)\", True, True, 'numerical'],\n",
    "    \"Failures\": [\"number of past class failures(n if 1 ≤ n < 3, else 4)\", True, True, 'numerical'],\n",
    "    \"schoolsup\": [\"extra educational school support (yes or no)\", True, True, 'categorical'],\n",
    "    \"Famsup\": [\"family educational support (yes or no)\", True, True, 'categorical'],\n",
    "    \"Paid\": [\"extra paid classes (yes or no)\", True, True, 'categorical'],\n",
    "    \"activities\": [\"extra-curricular activities (yes or no)\", True, True, 'categorical'],\n",
    "    \"Nursery\": [\"attended nursery school (yes or no)\", True, True, 'categorical'],\n",
    "    \"Higher\": [\"wants to take higher education (yes or no)\", True, True, 'categorical'],\n",
    "    \"Internet\": [\"Internet access at home (yes or no)\", True, True, 'categorical'],\n",
    "    \"romantic\": [\"with a romantic relationship (yes or no)\", True, True, 'categorical'],\n",
    "    \"Famrel\": [\"quality of family relationships (1 – very bad to 5 – excellent)\", True, True, 'numerical'],\n",
    "    \"freetime\": [\"free time after school (1 – very low to 5 – very high)\", True, True, 'numerical'],\n",
    "    \"Gout\": [\"going out with friends (1 – very low to 5 – very high)\", True, True, 'numerical'],\n",
    "    \"Dalc\": [\"workday alcohol consumption (1 – very low to 5 – very high)\", True, True, 'numerical'],\n",
    "    \"Walc\": [\"weekend alcohol consumption (1 – very low to 5 – very high)\", True, True, 'numerical'],\n",
    "    \"Health\": [\"current health status (1 – very bad to 5 – very good)\", True, True, 'numerical'],\n",
    "    \"absences\": [\"number of school absences (0 to 75)\", True, True, 'numerical'],\n",
    "    \"G1\": [\"first period grade (0 to 20)\", True, True, 'numerical', True],\n",
    "    \"G2\": [\"second period grade (0 to 20)\", True, True, 'numerical', True],\n",
    "    \"G3\": [\"Final result (PASS/FAIL)\", True, True, 'categorical', True],\n",
    "}"
   ]
  },
  {
   "cell_type": "code",
   "execution_count": null,
   "metadata": {},
   "outputs": [],
   "source": [
    "COLUMN_INFORMATION = pd.DataFrame.from_dict(descriptions, orient='index')\n",
    "COLUMN_INFORMATION.columns = ['Description', 'For Classification', 'For Regression', 'Variable Type', 'Target']\n",
    "COLUMN_INFORMATION = COLUMN_INFORMATION[['Description', 'Target', 'Variable Type', 'For Classification', 'For Regression']]\n",
    "COLUMN_INFORMATION['Target'] = COLUMN_INFORMATION['Target'].apply(lambda cell: bool(cell))\n",
    "\n",
    "with pd.option_context('display.max_rows', None, 'display.max_columns', None, 'display.max_colwidth', -1):\n",
    "    display(\n",
    "        COLUMN_INFORMATION.style.\\\n",
    "            applymap(highlight_useful, subset=['For Classification', 'For Regression']).\\\n",
    "            applymap(highlight_type, subset='Variable Type').\\\n",
    "            applymap(highlight_target, subset='Target')\n",
    "    )"
   ]
  },
  {
   "cell_type": "markdown",
   "metadata": {},
   "source": [
    "### 1.1 What is the proportion of students who will pass?"
   ]
  },
  {
   "cell_type": "code",
   "execution_count": null,
   "metadata": {},
   "outputs": [],
   "source": [
    "G3_counts = students['G3'].value_counts()\n",
    "plt.pie(G3_counts, labels=G3_counts.index, startangle=90, shadow=True, explode=(0, 0.1), autopct='%1.1f%%')\n",
    "plt.title(\"Proportion of Students Who Will Pass\")\n",
    "plt.axis('equal')\n",
    "plt.show()"
   ]
  },
  {
   "cell_type": "markdown",
   "metadata": {},
   "source": [
    "### Dropping Unused Variables"
   ]
  },
  {
   "cell_type": "code",
   "execution_count": null,
   "metadata": {},
   "outputs": [],
   "source": [
    "# unused = []\n",
    "# organics.drop(labels=unused, inplace=True)"
   ]
  },
  {
   "cell_type": "markdown",
   "metadata": {},
   "source": [
    "### Cleaning Data"
   ]
  },
  {
   "cell_type": "code",
   "execution_count": null,
   "metadata": {},
   "outputs": [],
   "source": [
    "# Columns with NAs: AGE, "
   ]
  },
  {
   "cell_type": "code",
   "execution_count": null,
   "metadata": {},
   "outputs": [],
   "source": [
    "# filling age NAs\n",
    "# organics['AGE'].fillna(organics['AGE'].mean(), inplace=True)"
   ]
  },
  {
   "cell_type": "code",
   "execution_count": null,
   "metadata": {},
   "outputs": [],
   "source": [
    "# pa"
   ]
  },
  {
   "cell_type": "markdown",
   "metadata": {},
   "source": [
    "### Train / Val / Test Split"
   ]
  },
  {
   "cell_type": "code",
   "execution_count": null,
   "metadata": {},
   "outputs": [],
   "source": [
    "# def split_labels(n: int, test_size=0.2, val_size=0.2):\n",
    "#     \"\"\" return a list containing train/test/val labels \"\"\"\n",
    "#     t = int(n * test_size)\n",
    "#     v = int(n * val_size)\n",
    "#     labels = np.zeros(n)\n",
    "#     labels[:t] = 1\n",
    "#     labels[t:t+v] = 2\n",
    "#     labels = ['test' if el==1 else 'val' if el==2 else 'train' for el in labels]\n",
    "#     np.random.shuffle(labels)\n",
    "#     return labels"
   ]
  },
  {
   "cell_type": "markdown",
   "metadata": {},
   "source": [
    "---\n",
    "## Task 2. Predictive Modeling Using Decision Trees\n",
    "\n",
    "(4 marks)"
   ]
  },
  {
   "cell_type": "code",
   "execution_count": null,
   "metadata": {},
   "outputs": [],
   "source": [
    "# def visualise_tree(dt, feature_names=None, class_names=None):\n",
    "#     \"\"\" visualise a decision tree in a Jupyter notebook \"\"\"\n",
    "#     graph = graphviz.Source(export_graphviz(dt, out_file=None, filled=True, rounded=True, feature_names=feature_names, class_names=class_names))\n",
    "#     display(SVG(graph.pipe(format='svg')))"
   ]
  },
  {
   "cell_type": "markdown",
   "metadata": {},
   "source": [
    "### 2.1 Build a decision tree using default setting. "
   ]
  },
  {
   "cell_type": "code",
   "execution_count": null,
   "metadata": {},
   "outputs": [],
   "source": [
    "# features = ['AGE', 'BILL']\n",
    "\n",
    "# X = np.column_stack([organics[feature] for feature in features])\n",
    "\n",
    "# y = np.array(organics['ORGYN'])\n",
    "\n",
    "# Xtr, Xte, ytr, yte = train_test_split(X, y)"
   ]
  },
  {
   "cell_type": "code",
   "execution_count": null,
   "metadata": {},
   "outputs": [],
   "source": [
    "# dt = DecisionTreeClassifier()"
   ]
  },
  {
   "cell_type": "code",
   "execution_count": null,
   "metadata": {},
   "outputs": [],
   "source": [
    "# dt.fit(Xtr, ytr)"
   ]
  },
  {
   "cell_type": "markdown",
   "metadata": {},
   "source": [
    "#### a. What is the classification accuracy on training and test datasets?"
   ]
  },
  {
   "cell_type": "code",
   "execution_count": null,
   "metadata": {},
   "outputs": [],
   "source": [
    "# pd.DataFrame([dt.score(Xtr, ytr), dt.score(Xte, yte)], columns=['Accuracy'], index=['Train', 'Test'])"
   ]
  },
  {
   "cell_type": "markdown",
   "metadata": {},
   "source": [
    "#### b. Which variable is used for the first split? What are the competing splits for the first split?"
   ]
  },
  {
   "cell_type": "code",
   "execution_count": null,
   "metadata": {},
   "outputs": [],
   "source": [
    "# importances = pd.DataFrame(dt.feature_importances_, columns=['Importance'], index=features)\n",
    "# importances"
   ]
  },
  {
   "cell_type": "code",
   "execution_count": null,
   "metadata": {},
   "outputs": [],
   "source": [
    "# visualise_tree(dt, feature_names=['AGE', 'BILL'], class_names=[str(bool(c)) for c in dt.classes_])"
   ]
  },
  {
   "cell_type": "markdown",
   "metadata": {},
   "source": [
    "#### c. What are the 5 important variables in building the tree?"
   ]
  },
  {
   "cell_type": "code",
   "execution_count": null,
   "metadata": {},
   "outputs": [],
   "source": [
    "# importances[:5]"
   ]
  },
  {
   "cell_type": "markdown",
   "metadata": {},
   "source": [
    "#### d. Report if you see any evidence of model overfitting."
   ]
  },
  {
   "cell_type": "markdown",
   "metadata": {},
   "source": [
    "There is model overfitting. This is evidenced by the higher train set accuracy."
   ]
  },
  {
   "cell_type": "markdown",
   "metadata": {},
   "source": [
    "### 2.2 Build another decision tree tuned with GridSearchCV."
   ]
  },
  {
   "cell_type": "code",
   "execution_count": null,
   "metadata": {},
   "outputs": [],
   "source": [
    "# parameters = {\n",
    "#     \"criterion\": ['gini', 'entropy'],\n",
    "#     \"max_depth\": [None, 2, 5, 10, 15],\n",
    "#     \"min_samples_split\": [0.2, 0.4, 0.6, 0.8],\n",
    "#     \"min_samples_leaf\": [1, 20, 50, 80, 100]\n",
    "# }"
   ]
  },
  {
   "cell_type": "code",
   "execution_count": null,
   "metadata": {},
   "outputs": [],
   "source": [
    "# gs_dt = GridSearchCV(DecisionTreeClassifier(), parameters).fit(Xtr, ytr)"
   ]
  },
  {
   "cell_type": "markdown",
   "metadata": {},
   "source": [
    "#### a. What is the classification accuracy on training and test datasets?"
   ]
  },
  {
   "cell_type": "code",
   "execution_count": null,
   "metadata": {},
   "outputs": [],
   "source": [
    "# gs_dt.score(Xtr, ytr), gs_dt.score(Xte, yte)"
   ]
  },
  {
   "cell_type": "markdown",
   "metadata": {},
   "source": [
    "#### b. What are the parameters used? Explain your decision."
   ]
  },
  {
   "cell_type": "code",
   "execution_count": null,
   "metadata": {},
   "outputs": [],
   "source": [
    "# print(f\"Parameters used: {list(parameters.keys())}\")"
   ]
  },
  {
   "cell_type": "markdown",
   "metadata": {},
   "source": [
    "Explanation"
   ]
  },
  {
   "cell_type": "markdown",
   "metadata": {},
   "source": [
    "#### c. What are the optimal parameters for this decision tree?"
   ]
  },
  {
   "cell_type": "code",
   "execution_count": null,
   "metadata": {},
   "outputs": [],
   "source": [
    "# gs_dt.best_params_"
   ]
  },
  {
   "cell_type": "code",
   "execution_count": null,
   "metadata": {},
   "outputs": [],
   "source": [
    "# gs_dt.best_estimator_.get_params()"
   ]
  },
  {
   "cell_type": "markdown",
   "metadata": {},
   "source": [
    "#### d. Which variable is used for the first split? What are the competing splits for this first split?"
   ]
  },
  {
   "cell_type": "code",
   "execution_count": null,
   "metadata": {},
   "outputs": [],
   "source": [
    "# importances = pd.DataFrame(gs_dt.best_estimator_.feature_importances_, columns=['Importance'], index=features)\n",
    "# importances"
   ]
  },
  {
   "cell_type": "markdown",
   "metadata": {},
   "source": [
    "#### e. What are the 5 important variables in building the tree?"
   ]
  },
  {
   "cell_type": "code",
   "execution_count": null,
   "metadata": {},
   "outputs": [],
   "source": [
    "# importances = pd.DataFrame(gs_dt.best_estimator_.feature_importances_, columns=['Importance'], index=features)\n",
    "# importances[:5]"
   ]
  },
  {
   "cell_type": "markdown",
   "metadata": {},
   "source": [
    "#### f. Report if you see an evidence of model overfitting."
   ]
  },
  {
   "cell_type": "markdown",
   "metadata": {},
   "source": [
    "There is no evidence of model overfitting, the accuracy on the train and test splits is comparable."
   ]
  },
  {
   "cell_type": "markdown",
   "metadata": {},
   "source": [
    "---\n",
    "## Task 3. Predictive Modeling Using Regression\n",
    "\n",
    "(5.5 marks)"
   ]
  },
  {
   "cell_type": "markdown",
   "metadata": {},
   "source": [
    "### 1. Apply transformation/scaling methods to variables."
   ]
  },
  {
   "cell_type": "code",
   "execution_count": null,
   "metadata": {},
   "outputs": [],
   "source": [
    "# apply "
   ]
  },
  {
   "cell_type": "code",
   "execution_count": null,
   "metadata": {},
   "outputs": [],
   "source": [
    "# list affected variables"
   ]
  },
  {
   "cell_type": "markdown",
   "metadata": {},
   "source": [
    "### 2. Build regression models (with and without GridSearchCV)"
   ]
  },
  {
   "cell_type": "markdown",
   "metadata": {},
   "source": [
    "#### a. Report which variables are included in the regression model."
   ]
  },
  {
   "cell_type": "code",
   "execution_count": null,
   "metadata": {},
   "outputs": [],
   "source": []
  },
  {
   "cell_type": "markdown",
   "metadata": {},
   "source": [
    "#### b. Report the top-5 important variables."
   ]
  },
  {
   "cell_type": "code",
   "execution_count": null,
   "metadata": {},
   "outputs": [],
   "source": []
  },
  {
   "cell_type": "markdown",
   "metadata": {},
   "source": [
    "#### c. Report any sign of overfitting."
   ]
  },
  {
   "cell_type": "code",
   "execution_count": null,
   "metadata": {},
   "outputs": [],
   "source": []
  },
  {
   "cell_type": "markdown",
   "metadata": {},
   "source": [
    "#### d. What are the parameters used?"
   ]
  },
  {
   "cell_type": "code",
   "execution_count": null,
   "metadata": {},
   "outputs": [],
   "source": [
    "# explain your decision"
   ]
  },
  {
   "cell_type": "code",
   "execution_count": null,
   "metadata": {},
   "outputs": [],
   "source": [
    "# What are the optimal parameters"
   ]
  },
  {
   "cell_type": "code",
   "execution_count": null,
   "metadata": {},
   "outputs": [],
   "source": [
    "# Which regression function is being used?"
   ]
  },
  {
   "cell_type": "markdown",
   "metadata": {},
   "source": [
    "#### e. What is the classification accuracy on training and test datasets?"
   ]
  },
  {
   "cell_type": "code",
   "execution_count": null,
   "metadata": {},
   "outputs": [],
   "source": []
  },
  {
   "cell_type": "markdown",
   "metadata": {},
   "source": [
    "---\n",
    "## Task 4. Predictive Modeling Using Neural Networks\n",
    "\n",
    "(5.5 marks)"
   ]
  },
  {
   "cell_type": "markdown",
   "metadata": {},
   "source": [
    "### 1. Build a Neural Network model using the default setting."
   ]
  },
  {
   "cell_type": "markdown",
   "metadata": {},
   "source": [
    "#### a. What is the network architecture of the model?"
   ]
  },
  {
   "cell_type": "markdown",
   "metadata": {},
   "source": [
    "#### b. How many iterations are needed to train this network?"
   ]
  },
  {
   "cell_type": "markdown",
   "metadata": {},
   "source": [
    "#### c. Do you see any sign of over-fitting?"
   ]
  },
  {
   "cell_type": "markdown",
   "metadata": {},
   "source": [
    "#### d. Did the training process converge and result in the best model?"
   ]
  },
  {
   "cell_type": "markdown",
   "metadata": {},
   "source": [
    "#### e. What is the classification accuracy on the training and test datasets?"
   ]
  },
  {
   "cell_type": "markdown",
   "metadata": {},
   "source": [
    "### 2. Refine this network by refining is with GridSearchCV."
   ]
  },
  {
   "cell_type": "code",
   "execution_count": null,
   "metadata": {},
   "outputs": [],
   "source": [
    "# What parameters are used?"
   ]
  },
  {
   "cell_type": "code",
   "execution_count": null,
   "metadata": {},
   "outputs": [],
   "source": [
    "# Explain your decision."
   ]
  },
  {
   "cell_type": "markdown",
   "metadata": {},
   "source": [
    "### 3. Build  another Neural Network with inputs selected from RFE with regression.\n",
    "\n",
    "(Use the best model generated in Task 3) and selection with decision tree (use the best model from Task 2)."
   ]
  },
  {
   "cell_type": "markdown",
   "metadata": {},
   "source": [
    "#### a. Did feature selection help here? Any changes in network architecture? What inputs are being used?"
   ]
  },
  {
   "cell_type": "markdown",
   "metadata": {},
   "source": [
    "#### b. What is the classification accuracy on the train and test datasets? Any improvements?"
   ]
  },
  {
   "cell_type": "markdown",
   "metadata": {},
   "source": [
    "#### c. How many iteration are needed to train this network?"
   ]
  },
  {
   "cell_type": "markdown",
   "metadata": {},
   "source": [
    "#### d. Do you see any sign of over-fitting?"
   ]
  },
  {
   "cell_type": "markdown",
   "metadata": {},
   "source": [
    "#### e. Did the training process converge and result in the best model?"
   ]
  },
  {
   "cell_type": "markdown",
   "metadata": {},
   "source": [
    "#### f. Use GridSearchCV to tune the network to see whether the change in network architecture can further improve the performance."
   ]
  },
  {
   "cell_type": "markdown",
   "metadata": {},
   "source": [
    "### 3. Using the comparison methods, Which appears to be better?\n",
    "\n",
    "From the better model, can you identify which customers to target? Can you provide some descriptive summary of those customers?"
   ]
  },
  {
   "cell_type": "markdown",
   "metadata": {},
   "source": [
    "---\n",
    "## Task 5. Comparing Predictive Models\n",
    "\n",
    "(4 marks)"
   ]
  },
  {
   "cell_type": "markdown",
   "metadata": {},
   "source": [
    "### 1. Using the comparison methods to compare the best decsision tree model, the best regression model..."
   ]
  },
  {
   "cell_type": "markdown",
   "metadata": {},
   "source": [
    "#### a. Discuss the findings led by (a) ROC Chart and Index; (b) Accuracy Score; (c) Classification Report."
   ]
  },
  {
   "cell_type": "markdown",
   "metadata": {},
   "source": [
    "#### b. Do all the mdoels agree on the customers' characteristics? How do they vary?"
   ]
  },
  {
   "cell_type": "markdown",
   "metadata": {},
   "source": [
    "### 2. Finally, based on all models and analysis, is there a particular model you will use in decision making?"
   ]
  },
  {
   "cell_type": "markdown",
   "metadata": {},
   "source": [
    "### 3. Can you summarise positives and negaitives of each modelling method based on this analysis?"
   ]
  },
  {
   "cell_type": "markdown",
   "metadata": {},
   "source": [
    "## Conclusion"
   ]
  },
  {
   "cell_type": "markdown",
   "metadata": {},
   "source": [
    "In conclusion ..."
   ]
  }
 ],
 "metadata": {
  "kernelspec": {
   "display_name": "Python 3",
   "language": "python",
   "name": "python3"
  },
  "language_info": {
   "codemirror_mode": {
    "name": "ipython",
    "version": 3
   },
   "file_extension": ".py",
   "mimetype": "text/x-python",
   "name": "python",
   "nbconvert_exporter": "python",
   "pygments_lexer": "ipython3",
   "version": "3.6.5"
  }
 },
 "nbformat": 4,
 "nbformat_minor": 2
}
