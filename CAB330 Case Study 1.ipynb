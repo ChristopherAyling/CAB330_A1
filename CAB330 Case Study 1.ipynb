{
 "cells": [
  {
   "cell_type": "markdown",
   "metadata": {},
   "source": [
    "# CAB330 Case Study 1: Students\n",
    "\n",
    "Class: CAB330\n",
    "\n",
    "Students: \n",
    "\n",
    "- Christopher Ayling | 9713581 | christopher.ayling@connect.qut.edu.au\n",
    "- Benjamin Saljooghi | 9448233 | benjamin.saljooghi@connect.qut.edu.au\n",
    "- Jordi Smit | 10294139 | jordi.smit@connect.qut.edu.au\n",
    "\n",
    "Due Date: 9th September 2018\n",
    "\n",
    "Project Demo: Week 8 Wednesday Lab\n",
    "\n",
    "Weighting: 25%"
   ]
  },
  {
   "cell_type": "markdown",
   "metadata": {},
   "source": [
    "---\n",
    "## Setup"
   ]
  },
  {
   "cell_type": "code",
   "execution_count": 1,
   "metadata": {},
   "outputs": [],
   "source": [
    "%matplotlib inline\n",
    "%load_ext autoreload\n",
    "%autoreload 2"
   ]
  },
  {
   "cell_type": "code",
   "execution_count": 2,
   "metadata": {},
   "outputs": [],
   "source": [
    "# Manipulating Data\n",
    "import pandas as pd\n",
    "import numpy as np\n",
    "from sklearn.model_selection import train_test_split\n",
    "from sklearn.metrics import classification_report, precision_score, recall_score, f1_score, accuracy_score, roc_curve, roc_auc_score\n",
    "from sklearn.preprocessing import StandardScaler\n",
    "from sklearn import preprocessing\n",
    "from collections import defaultdict\n",
    "\n",
    "# Visualisations\n",
    "import seaborn as sns\n",
    "import matplotlib.pyplot as plt\n",
    "from IPython.display import SVG, Image\n",
    "import graphviz\n",
    "import pydot\n",
    "from io import StringIO\n",
    "from sklearn.tree import export_graphviz\n",
    "\n",
    "# Algorithms\n",
    "from sklearn.tree import DecisionTreeClassifier, DecisionTreeRegressor, export_graphviz\n",
    "from sklearn.ensemble import RandomForestClassifier, RandomForestRegressor\n",
    "from sklearn.linear_model import LinearRegression, LogisticRegression\n",
    "from sklearn.neural_network import MLPClassifier, MLPRegressor\n",
    "\n",
    "from sklearn.model_selection import GridSearchCV\n",
    "from sklearn.feature_selection import RFE, RFECV\n",
    "from sklearn.model_selection import StratifiedKFold\n",
    "\n",
    "from sklearn.preprocessing import StandardScaler"
   ]
  },
  {
   "cell_type": "code",
   "execution_count": 3,
   "metadata": {},
   "outputs": [],
   "source": [
    "randomSeed = 330\n",
    "np.random.seed(randomSeed)"
   ]
  },
  {
   "cell_type": "markdown",
   "metadata": {},
   "source": [
    "---\n",
    "## Data Loading"
   ]
  },
  {
   "cell_type": "code",
   "execution_count": 4,
   "metadata": {},
   "outputs": [
    {
     "data": {
      "text/plain": [
       "(1044, 35)"
      ]
     },
     "execution_count": 4,
     "metadata": {},
     "output_type": "execute_result"
    }
   ],
   "source": [
    "students = pd.read_csv(\"./STUDENT.csv\")\n",
    "students.head()\n",
    "\n",
    "rows, columns = students.shape; rows, columns"
   ]
  },
  {
   "cell_type": "markdown",
   "metadata": {},
   "source": [
    "---\n",
    "## Task 1. Data Selection and Distribution. (4 marks)"
   ]
  },
  {
   "cell_type": "markdown",
   "metadata": {},
   "source": [
    "### Variable Descriptions\n",
    "\n",
    "The following information would assist you in assigning the variables roles.\n",
    "\n",
    "- There are three target variables namely, G1, G2 and G3, with different types. Choose the target that suits best according to the given task.\n",
    "- Identify if the variable is an input variable or a supplementary variable.\n",
    "- Data transformation is required for a few input variables to get improved accuracy"
   ]
  },
  {
   "cell_type": "markdown",
   "metadata": {},
   "source": [
    "### 1.1 Proportion of Students Who Will Pass"
   ]
  },
  {
   "cell_type": "code",
   "execution_count": 5,
   "metadata": {},
   "outputs": [
    {
     "data": {
      "image/png": "[encoded data removed]",
      "text/plain": [
       "<Figure size 432x288 with 1 Axes>"
      ]
     },
     "metadata": {},
     "output_type": "display_data"
    }
   ],
   "source": [
    "G3_counts = students['G3'].value_counts()\n",
    "plt.pie(G3_counts, labels=G3_counts.index, startangle=90, shadow=True, explode=(0, 0.1), autopct='%1.1f%%')\n",
    "plt.title(\"Proportion of Students Who Will Pass\")\n",
    "plt.axis('equal')\n",
    "plt.show()"
   ]
  },
  {
   "cell_type": "markdown",
   "metadata": {},
   "source": [
    "### 1.2 Data Cleaning"
   ]
  },
  {
   "cell_type": "code",
   "execution_count": 6,
   "metadata": {},
   "outputs": [],
   "source": [
    "cleaned = students.copy()\n",
    "\n",
    "# impute age NAs with mean\n",
    "cleaned['age'].fillna(cleaned['age'].mean(), inplace=True)\n",
    "\n",
    "# impute reason NAs with unknown value because else it will be read as float instead of a string, which cause trouble with the hot one transformation.\n",
    "cleaned['reason'].fillna(\"-\", inplace=True)\n",
    "\n",
    "# impute school NAs with unknown value because else it will be read as float instead of a string, which cause trouble with the hot one transformation..\n",
    "cleaned['school'].fillna(\"-\", inplace=True)\n",
    "\n",
    "# drop unused columns\n",
    "cleaned.drop(columns=[\"id\", \"InitialName\"], inplace=True)\n",
    "\n",
    "#TODO maby better to remove missing target variable?\n",
    "# impute G1 NAs with mean\n",
    "cleaned['G1'].fillna(cleaned['G1'].mean(), inplace=True)\n",
    "\n",
    "# impute G2 NAs with mean\n",
    "cleaned['G2'].fillna(cleaned['G2'].mean(), inplace=True)\n",
    "\n",
    "#TODO Should we also check for outliers or inconsistencies?"
   ]
  },
  {
   "cell_type": "markdown",
   "metadata": {},
   "source": [
    "### 1.3 Level of Measurement"
   ]
  },
  {
   "cell_type": "code",
   "execution_count": 7,
   "metadata": {},
   "outputs": [
    {
     "data": {
      "text/html": [
       "<style  type=\"text/css\" >\n",
       "    #T_9552b992_b248_11e8_b501_54ee758ff7cfrow0_col1 {\n",
       "            background-color:  Lightgray;\n",
       "        }    #T_9552b992_b248_11e8_b501_54ee758ff7cfrow0_col2 {\n",
       "            background-color:  DodgerBlue;\n",
       "        }    #T_9552b992_b248_11e8_b501_54ee758ff7cfrow0_col3 {\n",
       "            background-color:  Tomato;\n",
       "        }    #T_9552b992_b248_11e8_b501_54ee758ff7cfrow0_col4 {\n",
       "            background-color:  Tomato;\n",
       "        }    #T_9552b992_b248_11e8_b501_54ee758ff7cfrow1_col1 {\n",
       "            background-color:  Lightgray;\n",
       "        }    #T_9552b992_b248_11e8_b501_54ee758ff7cfrow1_col2 {\n",
       "            background-color:  DodgerBlue;\n",
       "        }    #T_9552b992_b248_11e8_b501_54ee758ff7cfrow1_col3 {\n",
       "            background-color:  Tomato;\n",
       "        }    #T_9552b992_b248_11e8_b501_54ee758ff7cfrow1_col4 {\n",
       "            background-color:  Tomato;\n",
       "        }    #T_9552b992_b248_11e8_b501_54ee758ff7cfrow2_col1 {\n",
       "            background-color:  Lightgray;\n",
       "        }    #T_9552b992_b248_11e8_b501_54ee758ff7cfrow2_col2 {\n",
       "            background-color:  DodgerBlue;\n",
       "        }    #T_9552b992_b248_11e8_b501_54ee758ff7cfrow2_col3 {\n",
       "            background-color:  MediumSeaGreen;\n",
       "        }    #T_9552b992_b248_11e8_b501_54ee758ff7cfrow2_col4 {\n",
       "            background-color:  MediumSeaGreen;\n",
       "        }    #T_9552b992_b248_11e8_b501_54ee758ff7cfrow3_col1 {\n",
       "            background-color:  Lightgray;\n",
       "        }    #T_9552b992_b248_11e8_b501_54ee758ff7cfrow3_col2 {\n",
       "            background-color:  DodgerBlue;\n",
       "        }    #T_9552b992_b248_11e8_b501_54ee758ff7cfrow3_col3 {\n",
       "            background-color:  MediumSeaGreen;\n",
       "        }    #T_9552b992_b248_11e8_b501_54ee758ff7cfrow3_col4 {\n",
       "            background-color:  MediumSeaGreen;\n",
       "        }    #T_9552b992_b248_11e8_b501_54ee758ff7cfrow4_col1 {\n",
       "            background-color:  Lightgray;\n",
       "        }    #T_9552b992_b248_11e8_b501_54ee758ff7cfrow4_col2 {\n",
       "            background-color:  Violet;\n",
       "        }    #T_9552b992_b248_11e8_b501_54ee758ff7cfrow4_col3 {\n",
       "            background-color:  MediumSeaGreen;\n",
       "        }    #T_9552b992_b248_11e8_b501_54ee758ff7cfrow4_col4 {\n",
       "            background-color:  MediumSeaGreen;\n",
       "        }    #T_9552b992_b248_11e8_b501_54ee758ff7cfrow5_col1 {\n",
       "            background-color:  Lightgray;\n",
       "        }    #T_9552b992_b248_11e8_b501_54ee758ff7cfrow5_col2 {\n",
       "            background-color:  DodgerBlue;\n",
       "        }    #T_9552b992_b248_11e8_b501_54ee758ff7cfrow5_col3 {\n",
       "            background-color:  MediumSeaGreen;\n",
       "        }    #T_9552b992_b248_11e8_b501_54ee758ff7cfrow5_col4 {\n",
       "            background-color:  MediumSeaGreen;\n",
       "        }    #T_9552b992_b248_11e8_b501_54ee758ff7cfrow6_col1 {\n",
       "            background-color:  Lightgray;\n",
       "        }    #T_9552b992_b248_11e8_b501_54ee758ff7cfrow6_col2 {\n",
       "            background-color:  SlateBlue;\n",
       "        }    #T_9552b992_b248_11e8_b501_54ee758ff7cfrow6_col3 {\n",
       "            background-color:  MediumSeaGreen;\n",
       "        }    #T_9552b992_b248_11e8_b501_54ee758ff7cfrow6_col4 {\n",
       "            background-color:  MediumSeaGreen;\n",
       "        }    #T_9552b992_b248_11e8_b501_54ee758ff7cfrow7_col1 {\n",
       "            background-color:  Lightgray;\n",
       "        }    #T_9552b992_b248_11e8_b501_54ee758ff7cfrow7_col2 {\n",
       "            background-color:  DodgerBlue;\n",
       "        }    #T_9552b992_b248_11e8_b501_54ee758ff7cfrow7_col3 {\n",
       "            background-color:  MediumSeaGreen;\n",
       "        }    #T_9552b992_b248_11e8_b501_54ee758ff7cfrow7_col4 {\n",
       "            background-color:  MediumSeaGreen;\n",
       "        }    #T_9552b992_b248_11e8_b501_54ee758ff7cfrow8_col1 {\n",
       "            background-color:  Lightgray;\n",
       "        }    #T_9552b992_b248_11e8_b501_54ee758ff7cfrow8_col2 {\n",
       "            background-color:  SlateBlue;\n",
       "        }    #T_9552b992_b248_11e8_b501_54ee758ff7cfrow8_col3 {\n",
       "            background-color:  MediumSeaGreen;\n",
       "        }    #T_9552b992_b248_11e8_b501_54ee758ff7cfrow8_col4 {\n",
       "            background-color:  MediumSeaGreen;\n",
       "        }    #T_9552b992_b248_11e8_b501_54ee758ff7cfrow9_col1 {\n",
       "            background-color:  Lightgray;\n",
       "        }    #T_9552b992_b248_11e8_b501_54ee758ff7cfrow9_col2 {\n",
       "            background-color:  SlateBlue;\n",
       "        }    #T_9552b992_b248_11e8_b501_54ee758ff7cfrow9_col3 {\n",
       "            background-color:  MediumSeaGreen;\n",
       "        }    #T_9552b992_b248_11e8_b501_54ee758ff7cfrow9_col4 {\n",
       "            background-color:  MediumSeaGreen;\n",
       "        }    #T_9552b992_b248_11e8_b501_54ee758ff7cfrow10_col1 {\n",
       "            background-color:  Lightgray;\n",
       "        }    #T_9552b992_b248_11e8_b501_54ee758ff7cfrow10_col2 {\n",
       "            background-color:  DodgerBlue;\n",
       "        }    #T_9552b992_b248_11e8_b501_54ee758ff7cfrow10_col3 {\n",
       "            background-color:  MediumSeaGreen;\n",
       "        }    #T_9552b992_b248_11e8_b501_54ee758ff7cfrow10_col4 {\n",
       "            background-color:  MediumSeaGreen;\n",
       "        }    #T_9552b992_b248_11e8_b501_54ee758ff7cfrow11_col1 {\n",
       "            background-color:  Lightgray;\n",
       "        }    #T_9552b992_b248_11e8_b501_54ee758ff7cfrow11_col2 {\n",
       "            background-color:  DodgerBlue;\n",
       "        }    #T_9552b992_b248_11e8_b501_54ee758ff7cfrow11_col3 {\n",
       "            background-color:  MediumSeaGreen;\n",
       "        }    #T_9552b992_b248_11e8_b501_54ee758ff7cfrow11_col4 {\n",
       "            background-color:  MediumSeaGreen;\n",
       "        }    #T_9552b992_b248_11e8_b501_54ee758ff7cfrow12_col1 {\n",
       "            background-color:  Lightgray;\n",
       "        }    #T_9552b992_b248_11e8_b501_54ee758ff7cfrow12_col2 {\n",
       "            background-color:  DodgerBlue;\n",
       "        }    #T_9552b992_b248_11e8_b501_54ee758ff7cfrow12_col3 {\n",
       "            background-color:  MediumSeaGreen;\n",
       "        }    #T_9552b992_b248_11e8_b501_54ee758ff7cfrow12_col4 {\n",
       "            background-color:  MediumSeaGreen;\n",
       "        }    #T_9552b992_b248_11e8_b501_54ee758ff7cfrow13_col1 {\n",
       "            background-color:  Lightgray;\n",
       "        }    #T_9552b992_b248_11e8_b501_54ee758ff7cfrow13_col2 {\n",
       "            background-color:  DodgerBlue;\n",
       "        }    #T_9552b992_b248_11e8_b501_54ee758ff7cfrow13_col3 {\n",
       "            background-color:  MediumSeaGreen;\n",
       "        }    #T_9552b992_b248_11e8_b501_54ee758ff7cfrow13_col4 {\n",
       "            background-color:  MediumSeaGreen;\n",
       "        }    #T_9552b992_b248_11e8_b501_54ee758ff7cfrow14_col1 {\n",
       "            background-color:  Lightgray;\n",
       "        }    #T_9552b992_b248_11e8_b501_54ee758ff7cfrow14_col2 {\n",
       "            background-color:  SlateBlue;\n",
       "        }    #T_9552b992_b248_11e8_b501_54ee758ff7cfrow14_col3 {\n",
       "            background-color:  MediumSeaGreen;\n",
       "        }    #T_9552b992_b248_11e8_b501_54ee758ff7cfrow14_col4 {\n",
       "            background-color:  MediumSeaGreen;\n",
       "        }    #T_9552b992_b248_11e8_b501_54ee758ff7cfrow15_col1 {\n",
       "            background-color:  Lightgray;\n",
       "        }    #T_9552b992_b248_11e8_b501_54ee758ff7cfrow15_col2 {\n",
       "            background-color:  SlateBlue;\n",
       "        }    #T_9552b992_b248_11e8_b501_54ee758ff7cfrow15_col3 {\n",
       "            background-color:  MediumSeaGreen;\n",
       "        }    #T_9552b992_b248_11e8_b501_54ee758ff7cfrow15_col4 {\n",
       "            background-color:  MediumSeaGreen;\n",
       "        }    #T_9552b992_b248_11e8_b501_54ee758ff7cfrow16_col1 {\n",
       "            background-color:  Lightgray;\n",
       "        }    #T_9552b992_b248_11e8_b501_54ee758ff7cfrow16_col2 {\n",
       "            background-color:  SlateBlue;\n",
       "        }    #T_9552b992_b248_11e8_b501_54ee758ff7cfrow16_col3 {\n",
       "            background-color:  MediumSeaGreen;\n",
       "        }    #T_9552b992_b248_11e8_b501_54ee758ff7cfrow16_col4 {\n",
       "            background-color:  MediumSeaGreen;\n",
       "        }    #T_9552b992_b248_11e8_b501_54ee758ff7cfrow17_col1 {\n",
       "            background-color:  Lightgray;\n",
       "        }    #T_9552b992_b248_11e8_b501_54ee758ff7cfrow17_col2 {\n",
       "            background-color:  DodgerBlue;\n",
       "        }    #T_9552b992_b248_11e8_b501_54ee758ff7cfrow17_col3 {\n",
       "            background-color:  MediumSeaGreen;\n",
       "        }    #T_9552b992_b248_11e8_b501_54ee758ff7cfrow17_col4 {\n",
       "            background-color:  MediumSeaGreen;\n",
       "        }    #T_9552b992_b248_11e8_b501_54ee758ff7cfrow18_col1 {\n",
       "            background-color:  Lightgray;\n",
       "        }    #T_9552b992_b248_11e8_b501_54ee758ff7cfrow18_col2 {\n",
       "            background-color:  DodgerBlue;\n",
       "        }    #T_9552b992_b248_11e8_b501_54ee758ff7cfrow18_col3 {\n",
       "            background-color:  MediumSeaGreen;\n",
       "        }    #T_9552b992_b248_11e8_b501_54ee758ff7cfrow18_col4 {\n",
       "            background-color:  MediumSeaGreen;\n",
       "        }    #T_9552b992_b248_11e8_b501_54ee758ff7cfrow19_col1 {\n",
       "            background-color:  Lightgray;\n",
       "        }    #T_9552b992_b248_11e8_b501_54ee758ff7cfrow19_col2 {\n",
       "            background-color:  DodgerBlue;\n",
       "        }    #T_9552b992_b248_11e8_b501_54ee758ff7cfrow19_col3 {\n",
       "            background-color:  MediumSeaGreen;\n",
       "        }    #T_9552b992_b248_11e8_b501_54ee758ff7cfrow19_col4 {\n",
       "            background-color:  MediumSeaGreen;\n",
       "        }    #T_9552b992_b248_11e8_b501_54ee758ff7cfrow20_col1 {\n",
       "            background-color:  Lightgray;\n",
       "        }    #T_9552b992_b248_11e8_b501_54ee758ff7cfrow20_col2 {\n",
       "            background-color:  DodgerBlue;\n",
       "        }    #T_9552b992_b248_11e8_b501_54ee758ff7cfrow20_col3 {\n",
       "            background-color:  MediumSeaGreen;\n",
       "        }    #T_9552b992_b248_11e8_b501_54ee758ff7cfrow20_col4 {\n",
       "            background-color:  MediumSeaGreen;\n",
       "        }    #T_9552b992_b248_11e8_b501_54ee758ff7cfrow21_col1 {\n",
       "            background-color:  Lightgray;\n",
       "        }    #T_9552b992_b248_11e8_b501_54ee758ff7cfrow21_col2 {\n",
       "            background-color:  DodgerBlue;\n",
       "        }    #T_9552b992_b248_11e8_b501_54ee758ff7cfrow21_col3 {\n",
       "            background-color:  MediumSeaGreen;\n",
       "        }    #T_9552b992_b248_11e8_b501_54ee758ff7cfrow21_col4 {\n",
       "            background-color:  MediumSeaGreen;\n",
       "        }    #T_9552b992_b248_11e8_b501_54ee758ff7cfrow22_col1 {\n",
       "            background-color:  Lightgray;\n",
       "        }    #T_9552b992_b248_11e8_b501_54ee758ff7cfrow22_col2 {\n",
       "            background-color:  DodgerBlue;\n",
       "        }    #T_9552b992_b248_11e8_b501_54ee758ff7cfrow22_col3 {\n",
       "            background-color:  MediumSeaGreen;\n",
       "        }    #T_9552b992_b248_11e8_b501_54ee758ff7cfrow22_col4 {\n",
       "            background-color:  MediumSeaGreen;\n",
       "        }    #T_9552b992_b248_11e8_b501_54ee758ff7cfrow23_col1 {\n",
       "            background-color:  Lightgray;\n",
       "        }    #T_9552b992_b248_11e8_b501_54ee758ff7cfrow23_col2 {\n",
       "            background-color:  DodgerBlue;\n",
       "        }    #T_9552b992_b248_11e8_b501_54ee758ff7cfrow23_col3 {\n",
       "            background-color:  MediumSeaGreen;\n",
       "        }    #T_9552b992_b248_11e8_b501_54ee758ff7cfrow23_col4 {\n",
       "            background-color:  MediumSeaGreen;\n",
       "        }    #T_9552b992_b248_11e8_b501_54ee758ff7cfrow24_col1 {\n",
       "            background-color:  Lightgray;\n",
       "        }    #T_9552b992_b248_11e8_b501_54ee758ff7cfrow24_col2 {\n",
       "            background-color:  DodgerBlue;\n",
       "        }    #T_9552b992_b248_11e8_b501_54ee758ff7cfrow24_col3 {\n",
       "            background-color:  MediumSeaGreen;\n",
       "        }    #T_9552b992_b248_11e8_b501_54ee758ff7cfrow24_col4 {\n",
       "            background-color:  MediumSeaGreen;\n",
       "        }    #T_9552b992_b248_11e8_b501_54ee758ff7cfrow25_col1 {\n",
       "            background-color:  Lightgray;\n",
       "        }    #T_9552b992_b248_11e8_b501_54ee758ff7cfrow25_col2 {\n",
       "            background-color:  SlateBlue;\n",
       "        }    #T_9552b992_b248_11e8_b501_54ee758ff7cfrow25_col3 {\n",
       "            background-color:  MediumSeaGreen;\n",
       "        }    #T_9552b992_b248_11e8_b501_54ee758ff7cfrow25_col4 {\n",
       "            background-color:  MediumSeaGreen;\n",
       "        }    #T_9552b992_b248_11e8_b501_54ee758ff7cfrow26_col1 {\n",
       "            background-color:  Lightgray;\n",
       "        }    #T_9552b992_b248_11e8_b501_54ee758ff7cfrow26_col2 {\n",
       "            background-color:  SlateBlue;\n",
       "        }    #T_9552b992_b248_11e8_b501_54ee758ff7cfrow26_col3 {\n",
       "            background-color:  MediumSeaGreen;\n",
       "        }    #T_9552b992_b248_11e8_b501_54ee758ff7cfrow26_col4 {\n",
       "            background-color:  MediumSeaGreen;\n",
       "        }    #T_9552b992_b248_11e8_b501_54ee758ff7cfrow27_col1 {\n",
       "            background-color:  Lightgray;\n",
       "        }    #T_9552b992_b248_11e8_b501_54ee758ff7cfrow27_col2 {\n",
       "            background-color:  SlateBlue;\n",
       "        }    #T_9552b992_b248_11e8_b501_54ee758ff7cfrow27_col3 {\n",
       "            background-color:  MediumSeaGreen;\n",
       "        }    #T_9552b992_b248_11e8_b501_54ee758ff7cfrow27_col4 {\n",
       "            background-color:  MediumSeaGreen;\n",
       "        }    #T_9552b992_b248_11e8_b501_54ee758ff7cfrow28_col1 {\n",
       "            background-color:  Lightgray;\n",
       "        }    #T_9552b992_b248_11e8_b501_54ee758ff7cfrow28_col2 {\n",
       "            background-color:  SlateBlue;\n",
       "        }    #T_9552b992_b248_11e8_b501_54ee758ff7cfrow28_col3 {\n",
       "            background-color:  MediumSeaGreen;\n",
       "        }    #T_9552b992_b248_11e8_b501_54ee758ff7cfrow28_col4 {\n",
       "            background-color:  MediumSeaGreen;\n",
       "        }    #T_9552b992_b248_11e8_b501_54ee758ff7cfrow29_col1 {\n",
       "            background-color:  Lightgray;\n",
       "        }    #T_9552b992_b248_11e8_b501_54ee758ff7cfrow29_col2 {\n",
       "            background-color:  SlateBlue;\n",
       "        }    #T_9552b992_b248_11e8_b501_54ee758ff7cfrow29_col3 {\n",
       "            background-color:  MediumSeaGreen;\n",
       "        }    #T_9552b992_b248_11e8_b501_54ee758ff7cfrow29_col4 {\n",
       "            background-color:  MediumSeaGreen;\n",
       "        }    #T_9552b992_b248_11e8_b501_54ee758ff7cfrow30_col1 {\n",
       "            background-color:  Lightgray;\n",
       "        }    #T_9552b992_b248_11e8_b501_54ee758ff7cfrow30_col2 {\n",
       "            background-color:  SlateBlue;\n",
       "        }    #T_9552b992_b248_11e8_b501_54ee758ff7cfrow30_col3 {\n",
       "            background-color:  MediumSeaGreen;\n",
       "        }    #T_9552b992_b248_11e8_b501_54ee758ff7cfrow30_col4 {\n",
       "            background-color:  MediumSeaGreen;\n",
       "        }    #T_9552b992_b248_11e8_b501_54ee758ff7cfrow31_col1 {\n",
       "            background-color:  Lightgray;\n",
       "        }    #T_9552b992_b248_11e8_b501_54ee758ff7cfrow31_col2 {\n",
       "            background-color:  Violet;\n",
       "        }    #T_9552b992_b248_11e8_b501_54ee758ff7cfrow31_col3 {\n",
       "            background-color:  MediumSeaGreen;\n",
       "        }    #T_9552b992_b248_11e8_b501_54ee758ff7cfrow31_col4 {\n",
       "            background-color:  MediumSeaGreen;\n",
       "        }    #T_9552b992_b248_11e8_b501_54ee758ff7cfrow32_col1 {\n",
       "            background-color:  Lightgray;\n",
       "        }    #T_9552b992_b248_11e8_b501_54ee758ff7cfrow32_col2 {\n",
       "            background-color:  Violet;\n",
       "        }    #T_9552b992_b248_11e8_b501_54ee758ff7cfrow32_col3 {\n",
       "            background-color:  MediumSeaGreen;\n",
       "        }    #T_9552b992_b248_11e8_b501_54ee758ff7cfrow32_col4 {\n",
       "            background-color:  MediumSeaGreen;\n",
       "        }    #T_9552b992_b248_11e8_b501_54ee758ff7cfrow33_col1 {\n",
       "            background-color:  Lightgray;\n",
       "        }    #T_9552b992_b248_11e8_b501_54ee758ff7cfrow33_col2 {\n",
       "            background-color:  Violet;\n",
       "        }    #T_9552b992_b248_11e8_b501_54ee758ff7cfrow33_col3 {\n",
       "            background-color:  MediumSeaGreen;\n",
       "        }    #T_9552b992_b248_11e8_b501_54ee758ff7cfrow33_col4 {\n",
       "            background-color:  MediumSeaGreen;\n",
       "        }    #T_9552b992_b248_11e8_b501_54ee758ff7cfrow34_col1 {\n",
       "            background-color:  Orange;\n",
       "        }    #T_9552b992_b248_11e8_b501_54ee758ff7cfrow34_col2 {\n",
       "            background-color:  DodgerBlue;\n",
       "        }    #T_9552b992_b248_11e8_b501_54ee758ff7cfrow34_col3 {\n",
       "            background-color:  MediumSeaGreen;\n",
       "        }    #T_9552b992_b248_11e8_b501_54ee758ff7cfrow34_col4 {\n",
       "            background-color:  MediumSeaGreen;\n",
       "        }</style>  \n",
       "<table id=\"T_9552b992_b248_11e8_b501_54ee758ff7cf\" > \n",
       "<thead>    <tr> \n",
       "        <th class=\"blank level0\" ></th> \n",
       "        <th class=\"col_heading level0 col0\" >Description</th> \n",
       "        <th class=\"col_heading level0 col1\" >Target</th> \n",
       "        <th class=\"col_heading level0 col2\" >Variable Type</th> \n",
       "        <th class=\"col_heading level0 col3\" >For Classification</th> \n",
       "        <th class=\"col_heading level0 col4\" >For Regression</th> \n",
       "        <th class=\"col_heading level0 col5\" >Dtype</th> \n",
       "    </tr></thead> \n",
       "<tbody>    <tr> \n",
       "        <th id=\"T_9552b992_b248_11e8_b501_54ee758ff7cflevel0_row0\" class=\"row_heading level0 row0\" >id</th> \n",
       "        <td id=\"T_9552b992_b248_11e8_b501_54ee758ff7cfrow0_col0\" class=\"data row0 col0\" >student's id</td> \n",
       "        <td id=\"T_9552b992_b248_11e8_b501_54ee758ff7cfrow0_col1\" class=\"data row0 col1\" >False</td> \n",
       "        <td id=\"T_9552b992_b248_11e8_b501_54ee758ff7cfrow0_col2\" class=\"data row0 col2\" >nominal</td> \n",
       "        <td id=\"T_9552b992_b248_11e8_b501_54ee758ff7cfrow0_col3\" class=\"data row0 col3\" >False</td> \n",
       "        <td id=\"T_9552b992_b248_11e8_b501_54ee758ff7cfrow0_col4\" class=\"data row0 col4\" >False</td> \n",
       "        <td id=\"T_9552b992_b248_11e8_b501_54ee758ff7cfrow0_col5\" class=\"data row0 col5\" >Integer</td> \n",
       "    </tr>    <tr> \n",
       "        <th id=\"T_9552b992_b248_11e8_b501_54ee758ff7cflevel0_row1\" class=\"row_heading level0 row1\" >InitialName</th> \n",
       "        <td id=\"T_9552b992_b248_11e8_b501_54ee758ff7cfrow1_col0\" class=\"data row1 col0\" >student's initial</td> \n",
       "        <td id=\"T_9552b992_b248_11e8_b501_54ee758ff7cfrow1_col1\" class=\"data row1 col1\" >False</td> \n",
       "        <td id=\"T_9552b992_b248_11e8_b501_54ee758ff7cfrow1_col2\" class=\"data row1 col2\" >nominal</td> \n",
       "        <td id=\"T_9552b992_b248_11e8_b501_54ee758ff7cfrow1_col3\" class=\"data row1 col3\" >False</td> \n",
       "        <td id=\"T_9552b992_b248_11e8_b501_54ee758ff7cfrow1_col4\" class=\"data row1 col4\" >False</td> \n",
       "        <td id=\"T_9552b992_b248_11e8_b501_54ee758ff7cfrow1_col5\" class=\"data row1 col5\" >String</td> \n",
       "    </tr>    <tr> \n",
       "        <th id=\"T_9552b992_b248_11e8_b501_54ee758ff7cflevel0_row2\" class=\"row_heading level0 row2\" >school</th> \n",
       "        <td id=\"T_9552b992_b248_11e8_b501_54ee758ff7cfrow2_col0\" class=\"data row2 col0\" >student's school name</td> \n",
       "        <td id=\"T_9552b992_b248_11e8_b501_54ee758ff7cfrow2_col1\" class=\"data row2 col1\" >False</td> \n",
       "        <td id=\"T_9552b992_b248_11e8_b501_54ee758ff7cfrow2_col2\" class=\"data row2 col2\" >nominal</td> \n",
       "        <td id=\"T_9552b992_b248_11e8_b501_54ee758ff7cfrow2_col3\" class=\"data row2 col3\" >True</td> \n",
       "        <td id=\"T_9552b992_b248_11e8_b501_54ee758ff7cfrow2_col4\" class=\"data row2 col4\" >True</td> \n",
       "        <td id=\"T_9552b992_b248_11e8_b501_54ee758ff7cfrow2_col5\" class=\"data row2 col5\" >String</td> \n",
       "    </tr>    <tr> \n",
       "        <th id=\"T_9552b992_b248_11e8_b501_54ee758ff7cflevel0_row3\" class=\"row_heading level0 row3\" >sex</th> \n",
       "        <td id=\"T_9552b992_b248_11e8_b501_54ee758ff7cfrow3_col0\" class=\"data row3 col0\" >student's sex</td> \n",
       "        <td id=\"T_9552b992_b248_11e8_b501_54ee758ff7cfrow3_col1\" class=\"data row3 col1\" >False</td> \n",
       "        <td id=\"T_9552b992_b248_11e8_b501_54ee758ff7cfrow3_col2\" class=\"data row3 col2\" >nominal</td> \n",
       "        <td id=\"T_9552b992_b248_11e8_b501_54ee758ff7cfrow3_col3\" class=\"data row3 col3\" >True</td> \n",
       "        <td id=\"T_9552b992_b248_11e8_b501_54ee758ff7cfrow3_col4\" class=\"data row3 col4\" >True</td> \n",
       "        <td id=\"T_9552b992_b248_11e8_b501_54ee758ff7cfrow3_col5\" class=\"data row3 col5\" >Char</td> \n",
       "    </tr>    <tr> \n",
       "        <th id=\"T_9552b992_b248_11e8_b501_54ee758ff7cflevel0_row4\" class=\"row_heading level0 row4\" >age</th> \n",
       "        <td id=\"T_9552b992_b248_11e8_b501_54ee758ff7cfrow4_col0\" class=\"data row4 col0\" >student's age</td> \n",
       "        <td id=\"T_9552b992_b248_11e8_b501_54ee758ff7cfrow4_col1\" class=\"data row4 col1\" >False</td> \n",
       "        <td id=\"T_9552b992_b248_11e8_b501_54ee758ff7cfrow4_col2\" class=\"data row4 col2\" >numerical</td> \n",
       "        <td id=\"T_9552b992_b248_11e8_b501_54ee758ff7cfrow4_col3\" class=\"data row4 col3\" >True</td> \n",
       "        <td id=\"T_9552b992_b248_11e8_b501_54ee758ff7cfrow4_col4\" class=\"data row4 col4\" >True</td> \n",
       "        <td id=\"T_9552b992_b248_11e8_b501_54ee758ff7cfrow4_col5\" class=\"data row4 col5\" >Integer</td> \n",
       "    </tr>    <tr> \n",
       "        <th id=\"T_9552b992_b248_11e8_b501_54ee758ff7cflevel0_row5\" class=\"row_heading level0 row5\" >address</th> \n",
       "        <td id=\"T_9552b992_b248_11e8_b501_54ee758ff7cfrow5_col0\" class=\"data row5 col0\" >student's home address type</td> \n",
       "        <td id=\"T_9552b992_b248_11e8_b501_54ee758ff7cfrow5_col1\" class=\"data row5 col1\" >False</td> \n",
       "        <td id=\"T_9552b992_b248_11e8_b501_54ee758ff7cfrow5_col2\" class=\"data row5 col2\" >nominal</td> \n",
       "        <td id=\"T_9552b992_b248_11e8_b501_54ee758ff7cfrow5_col3\" class=\"data row5 col3\" >True</td> \n",
       "        <td id=\"T_9552b992_b248_11e8_b501_54ee758ff7cfrow5_col4\" class=\"data row5 col4\" >True</td> \n",
       "        <td id=\"T_9552b992_b248_11e8_b501_54ee758ff7cfrow5_col5\" class=\"data row5 col5\" >Char</td> \n",
       "    </tr>    <tr> \n",
       "        <th id=\"T_9552b992_b248_11e8_b501_54ee758ff7cflevel0_row6\" class=\"row_heading level0 row6\" >famsize</th> \n",
       "        <td id=\"T_9552b992_b248_11e8_b501_54ee758ff7cfrow6_col0\" class=\"data row6 col0\" >family size (≤ 3 or > 3)</td> \n",
       "        <td id=\"T_9552b992_b248_11e8_b501_54ee758ff7cfrow6_col1\" class=\"data row6 col1\" >False</td> \n",
       "        <td id=\"T_9552b992_b248_11e8_b501_54ee758ff7cfrow6_col2\" class=\"data row6 col2\" >ordinal</td> \n",
       "        <td id=\"T_9552b992_b248_11e8_b501_54ee758ff7cfrow6_col3\" class=\"data row6 col3\" >True</td> \n",
       "        <td id=\"T_9552b992_b248_11e8_b501_54ee758ff7cfrow6_col4\" class=\"data row6 col4\" >True</td> \n",
       "        <td id=\"T_9552b992_b248_11e8_b501_54ee758ff7cfrow6_col5\" class=\"data row6 col5\" >String</td> \n",
       "    </tr>    <tr> \n",
       "        <th id=\"T_9552b992_b248_11e8_b501_54ee758ff7cflevel0_row7\" class=\"row_heading level0 row7\" >Pstatus</th> \n",
       "        <td id=\"T_9552b992_b248_11e8_b501_54ee758ff7cfrow7_col0\" class=\"data row7 col0\" >parent's cohabitation status (living together or apart)</td> \n",
       "        <td id=\"T_9552b992_b248_11e8_b501_54ee758ff7cfrow7_col1\" class=\"data row7 col1\" >False</td> \n",
       "        <td id=\"T_9552b992_b248_11e8_b501_54ee758ff7cfrow7_col2\" class=\"data row7 col2\" >nominal</td> \n",
       "        <td id=\"T_9552b992_b248_11e8_b501_54ee758ff7cfrow7_col3\" class=\"data row7 col3\" >True</td> \n",
       "        <td id=\"T_9552b992_b248_11e8_b501_54ee758ff7cfrow7_col4\" class=\"data row7 col4\" >True</td> \n",
       "        <td id=\"T_9552b992_b248_11e8_b501_54ee758ff7cfrow7_col5\" class=\"data row7 col5\" >Char</td> \n",
       "    </tr>    <tr> \n",
       "        <th id=\"T_9552b992_b248_11e8_b501_54ee758ff7cflevel0_row8\" class=\"row_heading level0 row8\" >Medu</th> \n",
       "        <td id=\"T_9552b992_b248_11e8_b501_54ee758ff7cfrow8_col0\" class=\"data row8 col0\" >mother’s education(0 – none, 1 – primary education (4th grade), 2 – 5th to 9th grade, 3 – secondary education or 4 – higher education)</td> \n",
       "        <td id=\"T_9552b992_b248_11e8_b501_54ee758ff7cfrow8_col1\" class=\"data row8 col1\" >False</td> \n",
       "        <td id=\"T_9552b992_b248_11e8_b501_54ee758ff7cfrow8_col2\" class=\"data row8 col2\" >ordinal</td> \n",
       "        <td id=\"T_9552b992_b248_11e8_b501_54ee758ff7cfrow8_col3\" class=\"data row8 col3\" >True</td> \n",
       "        <td id=\"T_9552b992_b248_11e8_b501_54ee758ff7cfrow8_col4\" class=\"data row8 col4\" >True</td> \n",
       "        <td id=\"T_9552b992_b248_11e8_b501_54ee758ff7cfrow8_col5\" class=\"data row8 col5\" >Integer</td> \n",
       "    </tr>    <tr> \n",
       "        <th id=\"T_9552b992_b248_11e8_b501_54ee758ff7cflevel0_row9\" class=\"row_heading level0 row9\" >Fedu</th> \n",
       "        <td id=\"T_9552b992_b248_11e8_b501_54ee758ff7cfrow9_col0\" class=\"data row9 col0\" >father’s education(0 – none, 1 – primary education (4th grade), 2 – 5th to 9th grade, 3 – secondary education or 4 – higher education)</td> \n",
       "        <td id=\"T_9552b992_b248_11e8_b501_54ee758ff7cfrow9_col1\" class=\"data row9 col1\" >False</td> \n",
       "        <td id=\"T_9552b992_b248_11e8_b501_54ee758ff7cfrow9_col2\" class=\"data row9 col2\" >ordinal</td> \n",
       "        <td id=\"T_9552b992_b248_11e8_b501_54ee758ff7cfrow9_col3\" class=\"data row9 col3\" >True</td> \n",
       "        <td id=\"T_9552b992_b248_11e8_b501_54ee758ff7cfrow9_col4\" class=\"data row9 col4\" >True</td> \n",
       "        <td id=\"T_9552b992_b248_11e8_b501_54ee758ff7cfrow9_col5\" class=\"data row9 col5\" >Integer</td> \n",
       "    </tr>    <tr> \n",
       "        <th id=\"T_9552b992_b248_11e8_b501_54ee758ff7cflevel0_row10\" class=\"row_heading level0 row10\" >Mjob</th> \n",
       "        <td id=\"T_9552b992_b248_11e8_b501_54ee758ff7cfrow10_col0\" class=\"data row10 col0\" >mother's job</td> \n",
       "        <td id=\"T_9552b992_b248_11e8_b501_54ee758ff7cfrow10_col1\" class=\"data row10 col1\" >False</td> \n",
       "        <td id=\"T_9552b992_b248_11e8_b501_54ee758ff7cfrow10_col2\" class=\"data row10 col2\" >nominal</td> \n",
       "        <td id=\"T_9552b992_b248_11e8_b501_54ee758ff7cfrow10_col3\" class=\"data row10 col3\" >True</td> \n",
       "        <td id=\"T_9552b992_b248_11e8_b501_54ee758ff7cfrow10_col4\" class=\"data row10 col4\" >True</td> \n",
       "        <td id=\"T_9552b992_b248_11e8_b501_54ee758ff7cfrow10_col5\" class=\"data row10 col5\" >String</td> \n",
       "    </tr>    <tr> \n",
       "        <th id=\"T_9552b992_b248_11e8_b501_54ee758ff7cflevel0_row11\" class=\"row_heading level0 row11\" >Fjob</th> \n",
       "        <td id=\"T_9552b992_b248_11e8_b501_54ee758ff7cfrow11_col0\" class=\"data row11 col0\" >father's job</td> \n",
       "        <td id=\"T_9552b992_b248_11e8_b501_54ee758ff7cfrow11_col1\" class=\"data row11 col1\" >False</td> \n",
       "        <td id=\"T_9552b992_b248_11e8_b501_54ee758ff7cfrow11_col2\" class=\"data row11 col2\" >nominal</td> \n",
       "        <td id=\"T_9552b992_b248_11e8_b501_54ee758ff7cfrow11_col3\" class=\"data row11 col3\" >True</td> \n",
       "        <td id=\"T_9552b992_b248_11e8_b501_54ee758ff7cfrow11_col4\" class=\"data row11 col4\" >True</td> \n",
       "        <td id=\"T_9552b992_b248_11e8_b501_54ee758ff7cfrow11_col5\" class=\"data row11 col5\" >String</td> \n",
       "    </tr>    <tr> \n",
       "        <th id=\"T_9552b992_b248_11e8_b501_54ee758ff7cflevel0_row12\" class=\"row_heading level0 row12\" >reason</th> \n",
       "        <td id=\"T_9552b992_b248_11e8_b501_54ee758ff7cfrow12_col0\" class=\"data row12 col0\" >reason to choose this school</td> \n",
       "        <td id=\"T_9552b992_b248_11e8_b501_54ee758ff7cfrow12_col1\" class=\"data row12 col1\" >False</td> \n",
       "        <td id=\"T_9552b992_b248_11e8_b501_54ee758ff7cfrow12_col2\" class=\"data row12 col2\" >nominal</td> \n",
       "        <td id=\"T_9552b992_b248_11e8_b501_54ee758ff7cfrow12_col3\" class=\"data row12 col3\" >True</td> \n",
       "        <td id=\"T_9552b992_b248_11e8_b501_54ee758ff7cfrow12_col4\" class=\"data row12 col4\" >True</td> \n",
       "        <td id=\"T_9552b992_b248_11e8_b501_54ee758ff7cfrow12_col5\" class=\"data row12 col5\" >String</td> \n",
       "    </tr>    <tr> \n",
       "        <th id=\"T_9552b992_b248_11e8_b501_54ee758ff7cflevel0_row13\" class=\"row_heading level0 row13\" >guardian</th> \n",
       "        <td id=\"T_9552b992_b248_11e8_b501_54ee758ff7cfrow13_col0\" class=\"data row13 col0\" >student's guardian</td> \n",
       "        <td id=\"T_9552b992_b248_11e8_b501_54ee758ff7cfrow13_col1\" class=\"data row13 col1\" >False</td> \n",
       "        <td id=\"T_9552b992_b248_11e8_b501_54ee758ff7cfrow13_col2\" class=\"data row13 col2\" >nominal</td> \n",
       "        <td id=\"T_9552b992_b248_11e8_b501_54ee758ff7cfrow13_col3\" class=\"data row13 col3\" >True</td> \n",
       "        <td id=\"T_9552b992_b248_11e8_b501_54ee758ff7cfrow13_col4\" class=\"data row13 col4\" >True</td> \n",
       "        <td id=\"T_9552b992_b248_11e8_b501_54ee758ff7cfrow13_col5\" class=\"data row13 col5\" >String</td> \n",
       "    </tr>    <tr> \n",
       "        <th id=\"T_9552b992_b248_11e8_b501_54ee758ff7cflevel0_row14\" class=\"row_heading level0 row14\" >traveltime</th> \n",
       "        <td id=\"T_9552b992_b248_11e8_b501_54ee758ff7cfrow14_col0\" class=\"data row14 col0\" >home to school travel time (1 – < 15 min., 2 – 15 to 30 min., 3 – 30 min. to 1 hour or 4 – > 1 hour)</td> \n",
       "        <td id=\"T_9552b992_b248_11e8_b501_54ee758ff7cfrow14_col1\" class=\"data row14 col1\" >False</td> \n",
       "        <td id=\"T_9552b992_b248_11e8_b501_54ee758ff7cfrow14_col2\" class=\"data row14 col2\" >ordinal</td> \n",
       "        <td id=\"T_9552b992_b248_11e8_b501_54ee758ff7cfrow14_col3\" class=\"data row14 col3\" >True</td> \n",
       "        <td id=\"T_9552b992_b248_11e8_b501_54ee758ff7cfrow14_col4\" class=\"data row14 col4\" >True</td> \n",
       "        <td id=\"T_9552b992_b248_11e8_b501_54ee758ff7cfrow14_col5\" class=\"data row14 col5\" >Integer</td> \n",
       "    </tr>    <tr> \n",
       "        <th id=\"T_9552b992_b248_11e8_b501_54ee758ff7cflevel0_row15\" class=\"row_heading level0 row15\" >studytime</th> \n",
       "        <td id=\"T_9552b992_b248_11e8_b501_54ee758ff7cfrow15_col0\" class=\"data row15 col0\" >weekly study time (1 – < 2 hours, 2 – 2 to 5 hours, 3 – 5 to 10 hours or 4 – > 10 hours)</td> \n",
       "        <td id=\"T_9552b992_b248_11e8_b501_54ee758ff7cfrow15_col1\" class=\"data row15 col1\" >False</td> \n",
       "        <td id=\"T_9552b992_b248_11e8_b501_54ee758ff7cfrow15_col2\" class=\"data row15 col2\" >ordinal</td> \n",
       "        <td id=\"T_9552b992_b248_11e8_b501_54ee758ff7cfrow15_col3\" class=\"data row15 col3\" >True</td> \n",
       "        <td id=\"T_9552b992_b248_11e8_b501_54ee758ff7cfrow15_col4\" class=\"data row15 col4\" >True</td> \n",
       "        <td id=\"T_9552b992_b248_11e8_b501_54ee758ff7cfrow15_col5\" class=\"data row15 col5\" >Integer</td> \n",
       "    </tr>    <tr> \n",
       "        <th id=\"T_9552b992_b248_11e8_b501_54ee758ff7cflevel0_row16\" class=\"row_heading level0 row16\" >failures</th> \n",
       "        <td id=\"T_9552b992_b248_11e8_b501_54ee758ff7cfrow16_col0\" class=\"data row16 col0\" >number of past class failures(n if 1 ≤ n < 3, else 4)</td> \n",
       "        <td id=\"T_9552b992_b248_11e8_b501_54ee758ff7cfrow16_col1\" class=\"data row16 col1\" >False</td> \n",
       "        <td id=\"T_9552b992_b248_11e8_b501_54ee758ff7cfrow16_col2\" class=\"data row16 col2\" >ordinal</td> \n",
       "        <td id=\"T_9552b992_b248_11e8_b501_54ee758ff7cfrow16_col3\" class=\"data row16 col3\" >True</td> \n",
       "        <td id=\"T_9552b992_b248_11e8_b501_54ee758ff7cfrow16_col4\" class=\"data row16 col4\" >True</td> \n",
       "        <td id=\"T_9552b992_b248_11e8_b501_54ee758ff7cfrow16_col5\" class=\"data row16 col5\" >Integer</td> \n",
       "    </tr>    <tr> \n",
       "        <th id=\"T_9552b992_b248_11e8_b501_54ee758ff7cflevel0_row17\" class=\"row_heading level0 row17\" >schoolsup</th> \n",
       "        <td id=\"T_9552b992_b248_11e8_b501_54ee758ff7cfrow17_col0\" class=\"data row17 col0\" >extra educational school support (yes or no)</td> \n",
       "        <td id=\"T_9552b992_b248_11e8_b501_54ee758ff7cfrow17_col1\" class=\"data row17 col1\" >False</td> \n",
       "        <td id=\"T_9552b992_b248_11e8_b501_54ee758ff7cfrow17_col2\" class=\"data row17 col2\" >nominal</td> \n",
       "        <td id=\"T_9552b992_b248_11e8_b501_54ee758ff7cfrow17_col3\" class=\"data row17 col3\" >True</td> \n",
       "        <td id=\"T_9552b992_b248_11e8_b501_54ee758ff7cfrow17_col4\" class=\"data row17 col4\" >True</td> \n",
       "        <td id=\"T_9552b992_b248_11e8_b501_54ee758ff7cfrow17_col5\" class=\"data row17 col5\" >String</td> \n",
       "    </tr>    <tr> \n",
       "        <th id=\"T_9552b992_b248_11e8_b501_54ee758ff7cflevel0_row18\" class=\"row_heading level0 row18\" >famsup</th> \n",
       "        <td id=\"T_9552b992_b248_11e8_b501_54ee758ff7cfrow18_col0\" class=\"data row18 col0\" >family educational support (yes or no)</td> \n",
       "        <td id=\"T_9552b992_b248_11e8_b501_54ee758ff7cfrow18_col1\" class=\"data row18 col1\" >False</td> \n",
       "        <td id=\"T_9552b992_b248_11e8_b501_54ee758ff7cfrow18_col2\" class=\"data row18 col2\" >nominal</td> \n",
       "        <td id=\"T_9552b992_b248_11e8_b501_54ee758ff7cfrow18_col3\" class=\"data row18 col3\" >True</td> \n",
       "        <td id=\"T_9552b992_b248_11e8_b501_54ee758ff7cfrow18_col4\" class=\"data row18 col4\" >True</td> \n",
       "        <td id=\"T_9552b992_b248_11e8_b501_54ee758ff7cfrow18_col5\" class=\"data row18 col5\" >String</td> \n",
       "    </tr>    <tr> \n",
       "        <th id=\"T_9552b992_b248_11e8_b501_54ee758ff7cflevel0_row19\" class=\"row_heading level0 row19\" >paid</th> \n",
       "        <td id=\"T_9552b992_b248_11e8_b501_54ee758ff7cfrow19_col0\" class=\"data row19 col0\" >extra paid classes (yes or no)</td> \n",
       "        <td id=\"T_9552b992_b248_11e8_b501_54ee758ff7cfrow19_col1\" class=\"data row19 col1\" >False</td> \n",
       "        <td id=\"T_9552b992_b248_11e8_b501_54ee758ff7cfrow19_col2\" class=\"data row19 col2\" >nominal</td> \n",
       "        <td id=\"T_9552b992_b248_11e8_b501_54ee758ff7cfrow19_col3\" class=\"data row19 col3\" >True</td> \n",
       "        <td id=\"T_9552b992_b248_11e8_b501_54ee758ff7cfrow19_col4\" class=\"data row19 col4\" >True</td> \n",
       "        <td id=\"T_9552b992_b248_11e8_b501_54ee758ff7cfrow19_col5\" class=\"data row19 col5\" >String</td> \n",
       "    </tr>    <tr> \n",
       "        <th id=\"T_9552b992_b248_11e8_b501_54ee758ff7cflevel0_row20\" class=\"row_heading level0 row20\" >activities</th> \n",
       "        <td id=\"T_9552b992_b248_11e8_b501_54ee758ff7cfrow20_col0\" class=\"data row20 col0\" >extra-curricular activities (yes or no)</td> \n",
       "        <td id=\"T_9552b992_b248_11e8_b501_54ee758ff7cfrow20_col1\" class=\"data row20 col1\" >False</td> \n",
       "        <td id=\"T_9552b992_b248_11e8_b501_54ee758ff7cfrow20_col2\" class=\"data row20 col2\" >nominal</td> \n",
       "        <td id=\"T_9552b992_b248_11e8_b501_54ee758ff7cfrow20_col3\" class=\"data row20 col3\" >True</td> \n",
       "        <td id=\"T_9552b992_b248_11e8_b501_54ee758ff7cfrow20_col4\" class=\"data row20 col4\" >True</td> \n",
       "        <td id=\"T_9552b992_b248_11e8_b501_54ee758ff7cfrow20_col5\" class=\"data row20 col5\" >String</td> \n",
       "    </tr>    <tr> \n",
       "        <th id=\"T_9552b992_b248_11e8_b501_54ee758ff7cflevel0_row21\" class=\"row_heading level0 row21\" >nursery</th> \n",
       "        <td id=\"T_9552b992_b248_11e8_b501_54ee758ff7cfrow21_col0\" class=\"data row21 col0\" >attended nursery school (yes or no)</td> \n",
       "        <td id=\"T_9552b992_b248_11e8_b501_54ee758ff7cfrow21_col1\" class=\"data row21 col1\" >False</td> \n",
       "        <td id=\"T_9552b992_b248_11e8_b501_54ee758ff7cfrow21_col2\" class=\"data row21 col2\" >nominal</td> \n",
       "        <td id=\"T_9552b992_b248_11e8_b501_54ee758ff7cfrow21_col3\" class=\"data row21 col3\" >True</td> \n",
       "        <td id=\"T_9552b992_b248_11e8_b501_54ee758ff7cfrow21_col4\" class=\"data row21 col4\" >True</td> \n",
       "        <td id=\"T_9552b992_b248_11e8_b501_54ee758ff7cfrow21_col5\" class=\"data row21 col5\" >String</td> \n",
       "    </tr>    <tr> \n",
       "        <th id=\"T_9552b992_b248_11e8_b501_54ee758ff7cflevel0_row22\" class=\"row_heading level0 row22\" >higher</th> \n",
       "        <td id=\"T_9552b992_b248_11e8_b501_54ee758ff7cfrow22_col0\" class=\"data row22 col0\" >wants to take higher education (yes or no)</td> \n",
       "        <td id=\"T_9552b992_b248_11e8_b501_54ee758ff7cfrow22_col1\" class=\"data row22 col1\" >False</td> \n",
       "        <td id=\"T_9552b992_b248_11e8_b501_54ee758ff7cfrow22_col2\" class=\"data row22 col2\" >nominal</td> \n",
       "        <td id=\"T_9552b992_b248_11e8_b501_54ee758ff7cfrow22_col3\" class=\"data row22 col3\" >True</td> \n",
       "        <td id=\"T_9552b992_b248_11e8_b501_54ee758ff7cfrow22_col4\" class=\"data row22 col4\" >True</td> \n",
       "        <td id=\"T_9552b992_b248_11e8_b501_54ee758ff7cfrow22_col5\" class=\"data row22 col5\" >String</td> \n",
       "    </tr>    <tr> \n",
       "        <th id=\"T_9552b992_b248_11e8_b501_54ee758ff7cflevel0_row23\" class=\"row_heading level0 row23\" >internet</th> \n",
       "        <td id=\"T_9552b992_b248_11e8_b501_54ee758ff7cfrow23_col0\" class=\"data row23 col0\" >Internet access at home (yes or no)</td> \n",
       "        <td id=\"T_9552b992_b248_11e8_b501_54ee758ff7cfrow23_col1\" class=\"data row23 col1\" >False</td> \n",
       "        <td id=\"T_9552b992_b248_11e8_b501_54ee758ff7cfrow23_col2\" class=\"data row23 col2\" >nominal</td> \n",
       "        <td id=\"T_9552b992_b248_11e8_b501_54ee758ff7cfrow23_col3\" class=\"data row23 col3\" >True</td> \n",
       "        <td id=\"T_9552b992_b248_11e8_b501_54ee758ff7cfrow23_col4\" class=\"data row23 col4\" >True</td> \n",
       "        <td id=\"T_9552b992_b248_11e8_b501_54ee758ff7cfrow23_col5\" class=\"data row23 col5\" >String</td> \n",
       "    </tr>    <tr> \n",
       "        <th id=\"T_9552b992_b248_11e8_b501_54ee758ff7cflevel0_row24\" class=\"row_heading level0 row24\" >romantic</th> \n",
       "        <td id=\"T_9552b992_b248_11e8_b501_54ee758ff7cfrow24_col0\" class=\"data row24 col0\" >with a romantic relationship (yes or no)</td> \n",
       "        <td id=\"T_9552b992_b248_11e8_b501_54ee758ff7cfrow24_col1\" class=\"data row24 col1\" >False</td> \n",
       "        <td id=\"T_9552b992_b248_11e8_b501_54ee758ff7cfrow24_col2\" class=\"data row24 col2\" >nominal</td> \n",
       "        <td id=\"T_9552b992_b248_11e8_b501_54ee758ff7cfrow24_col3\" class=\"data row24 col3\" >True</td> \n",
       "        <td id=\"T_9552b992_b248_11e8_b501_54ee758ff7cfrow24_col4\" class=\"data row24 col4\" >True</td> \n",
       "        <td id=\"T_9552b992_b248_11e8_b501_54ee758ff7cfrow24_col5\" class=\"data row24 col5\" >String</td> \n",
       "    </tr>    <tr> \n",
       "        <th id=\"T_9552b992_b248_11e8_b501_54ee758ff7cflevel0_row25\" class=\"row_heading level0 row25\" >famrel</th> \n",
       "        <td id=\"T_9552b992_b248_11e8_b501_54ee758ff7cfrow25_col0\" class=\"data row25 col0\" >quality of family relationships (1 – very bad to 5 – excellent)</td> \n",
       "        <td id=\"T_9552b992_b248_11e8_b501_54ee758ff7cfrow25_col1\" class=\"data row25 col1\" >False</td> \n",
       "        <td id=\"T_9552b992_b248_11e8_b501_54ee758ff7cfrow25_col2\" class=\"data row25 col2\" >ordinal</td> \n",
       "        <td id=\"T_9552b992_b248_11e8_b501_54ee758ff7cfrow25_col3\" class=\"data row25 col3\" >True</td> \n",
       "        <td id=\"T_9552b992_b248_11e8_b501_54ee758ff7cfrow25_col4\" class=\"data row25 col4\" >True</td> \n",
       "        <td id=\"T_9552b992_b248_11e8_b501_54ee758ff7cfrow25_col5\" class=\"data row25 col5\" >Integer</td> \n",
       "    </tr>    <tr> \n",
       "        <th id=\"T_9552b992_b248_11e8_b501_54ee758ff7cflevel0_row26\" class=\"row_heading level0 row26\" >freetime</th> \n",
       "        <td id=\"T_9552b992_b248_11e8_b501_54ee758ff7cfrow26_col0\" class=\"data row26 col0\" >free time after school (1 – very low to 5 – very high)</td> \n",
       "        <td id=\"T_9552b992_b248_11e8_b501_54ee758ff7cfrow26_col1\" class=\"data row26 col1\" >False</td> \n",
       "        <td id=\"T_9552b992_b248_11e8_b501_54ee758ff7cfrow26_col2\" class=\"data row26 col2\" >ordinal</td> \n",
       "        <td id=\"T_9552b992_b248_11e8_b501_54ee758ff7cfrow26_col3\" class=\"data row26 col3\" >True</td> \n",
       "        <td id=\"T_9552b992_b248_11e8_b501_54ee758ff7cfrow26_col4\" class=\"data row26 col4\" >True</td> \n",
       "        <td id=\"T_9552b992_b248_11e8_b501_54ee758ff7cfrow26_col5\" class=\"data row26 col5\" >Integer</td> \n",
       "    </tr>    <tr> \n",
       "        <th id=\"T_9552b992_b248_11e8_b501_54ee758ff7cflevel0_row27\" class=\"row_heading level0 row27\" >goout</th> \n",
       "        <td id=\"T_9552b992_b248_11e8_b501_54ee758ff7cfrow27_col0\" class=\"data row27 col0\" >going out with friends (1 – very low to 5 – very high)</td> \n",
       "        <td id=\"T_9552b992_b248_11e8_b501_54ee758ff7cfrow27_col1\" class=\"data row27 col1\" >False</td> \n",
       "        <td id=\"T_9552b992_b248_11e8_b501_54ee758ff7cfrow27_col2\" class=\"data row27 col2\" >ordinal</td> \n",
       "        <td id=\"T_9552b992_b248_11e8_b501_54ee758ff7cfrow27_col3\" class=\"data row27 col3\" >True</td> \n",
       "        <td id=\"T_9552b992_b248_11e8_b501_54ee758ff7cfrow27_col4\" class=\"data row27 col4\" >True</td> \n",
       "        <td id=\"T_9552b992_b248_11e8_b501_54ee758ff7cfrow27_col5\" class=\"data row27 col5\" >Integer</td> \n",
       "    </tr>    <tr> \n",
       "        <th id=\"T_9552b992_b248_11e8_b501_54ee758ff7cflevel0_row28\" class=\"row_heading level0 row28\" >Dalc</th> \n",
       "        <td id=\"T_9552b992_b248_11e8_b501_54ee758ff7cfrow28_col0\" class=\"data row28 col0\" >workday alcohol consumption (1 – very low to 5 – very high)</td> \n",
       "        <td id=\"T_9552b992_b248_11e8_b501_54ee758ff7cfrow28_col1\" class=\"data row28 col1\" >False</td> \n",
       "        <td id=\"T_9552b992_b248_11e8_b501_54ee758ff7cfrow28_col2\" class=\"data row28 col2\" >ordinal</td> \n",
       "        <td id=\"T_9552b992_b248_11e8_b501_54ee758ff7cfrow28_col3\" class=\"data row28 col3\" >True</td> \n",
       "        <td id=\"T_9552b992_b248_11e8_b501_54ee758ff7cfrow28_col4\" class=\"data row28 col4\" >True</td> \n",
       "        <td id=\"T_9552b992_b248_11e8_b501_54ee758ff7cfrow28_col5\" class=\"data row28 col5\" >Integer</td> \n",
       "    </tr>    <tr> \n",
       "        <th id=\"T_9552b992_b248_11e8_b501_54ee758ff7cflevel0_row29\" class=\"row_heading level0 row29\" >Walc</th> \n",
       "        <td id=\"T_9552b992_b248_11e8_b501_54ee758ff7cfrow29_col0\" class=\"data row29 col0\" >weekend alcohol consumption (1 – very low to 5 – very high)</td> \n",
       "        <td id=\"T_9552b992_b248_11e8_b501_54ee758ff7cfrow29_col1\" class=\"data row29 col1\" >False</td> \n",
       "        <td id=\"T_9552b992_b248_11e8_b501_54ee758ff7cfrow29_col2\" class=\"data row29 col2\" >ordinal</td> \n",
       "        <td id=\"T_9552b992_b248_11e8_b501_54ee758ff7cfrow29_col3\" class=\"data row29 col3\" >True</td> \n",
       "        <td id=\"T_9552b992_b248_11e8_b501_54ee758ff7cfrow29_col4\" class=\"data row29 col4\" >True</td> \n",
       "        <td id=\"T_9552b992_b248_11e8_b501_54ee758ff7cfrow29_col5\" class=\"data row29 col5\" >Integer</td> \n",
       "    </tr>    <tr> \n",
       "        <th id=\"T_9552b992_b248_11e8_b501_54ee758ff7cflevel0_row30\" class=\"row_heading level0 row30\" >health</th> \n",
       "        <td id=\"T_9552b992_b248_11e8_b501_54ee758ff7cfrow30_col0\" class=\"data row30 col0\" >current health status (1 – very bad to 5 – very good)</td> \n",
       "        <td id=\"T_9552b992_b248_11e8_b501_54ee758ff7cfrow30_col1\" class=\"data row30 col1\" >False</td> \n",
       "        <td id=\"T_9552b992_b248_11e8_b501_54ee758ff7cfrow30_col2\" class=\"data row30 col2\" >ordinal</td> \n",
       "        <td id=\"T_9552b992_b248_11e8_b501_54ee758ff7cfrow30_col3\" class=\"data row30 col3\" >True</td> \n",
       "        <td id=\"T_9552b992_b248_11e8_b501_54ee758ff7cfrow30_col4\" class=\"data row30 col4\" >True</td> \n",
       "        <td id=\"T_9552b992_b248_11e8_b501_54ee758ff7cfrow30_col5\" class=\"data row30 col5\" >Integer</td> \n",
       "    </tr>    <tr> \n",
       "        <th id=\"T_9552b992_b248_11e8_b501_54ee758ff7cflevel0_row31\" class=\"row_heading level0 row31\" >absences</th> \n",
       "        <td id=\"T_9552b992_b248_11e8_b501_54ee758ff7cfrow31_col0\" class=\"data row31 col0\" >number of school absences (0 to 75)</td> \n",
       "        <td id=\"T_9552b992_b248_11e8_b501_54ee758ff7cfrow31_col1\" class=\"data row31 col1\" >False</td> \n",
       "        <td id=\"T_9552b992_b248_11e8_b501_54ee758ff7cfrow31_col2\" class=\"data row31 col2\" >numerical</td> \n",
       "        <td id=\"T_9552b992_b248_11e8_b501_54ee758ff7cfrow31_col3\" class=\"data row31 col3\" >True</td> \n",
       "        <td id=\"T_9552b992_b248_11e8_b501_54ee758ff7cfrow31_col4\" class=\"data row31 col4\" >True</td> \n",
       "        <td id=\"T_9552b992_b248_11e8_b501_54ee758ff7cfrow31_col5\" class=\"data row31 col5\" >Integer</td> \n",
       "    </tr>    <tr> \n",
       "        <th id=\"T_9552b992_b248_11e8_b501_54ee758ff7cflevel0_row32\" class=\"row_heading level0 row32\" >G1</th> \n",
       "        <td id=\"T_9552b992_b248_11e8_b501_54ee758ff7cfrow32_col0\" class=\"data row32 col0\" >first period grade (0 to 20)</td> \n",
       "        <td id=\"T_9552b992_b248_11e8_b501_54ee758ff7cfrow32_col1\" class=\"data row32 col1\" >False</td> \n",
       "        <td id=\"T_9552b992_b248_11e8_b501_54ee758ff7cfrow32_col2\" class=\"data row32 col2\" >numerical</td> \n",
       "        <td id=\"T_9552b992_b248_11e8_b501_54ee758ff7cfrow32_col3\" class=\"data row32 col3\" >True</td> \n",
       "        <td id=\"T_9552b992_b248_11e8_b501_54ee758ff7cfrow32_col4\" class=\"data row32 col4\" >True</td> \n",
       "        <td id=\"T_9552b992_b248_11e8_b501_54ee758ff7cfrow32_col5\" class=\"data row32 col5\" >Float</td> \n",
       "    </tr>    <tr> \n",
       "        <th id=\"T_9552b992_b248_11e8_b501_54ee758ff7cflevel0_row33\" class=\"row_heading level0 row33\" >G2</th> \n",
       "        <td id=\"T_9552b992_b248_11e8_b501_54ee758ff7cfrow33_col0\" class=\"data row33 col0\" >second period grade (0 to 20)</td> \n",
       "        <td id=\"T_9552b992_b248_11e8_b501_54ee758ff7cfrow33_col1\" class=\"data row33 col1\" >False</td> \n",
       "        <td id=\"T_9552b992_b248_11e8_b501_54ee758ff7cfrow33_col2\" class=\"data row33 col2\" >numerical</td> \n",
       "        <td id=\"T_9552b992_b248_11e8_b501_54ee758ff7cfrow33_col3\" class=\"data row33 col3\" >True</td> \n",
       "        <td id=\"T_9552b992_b248_11e8_b501_54ee758ff7cfrow33_col4\" class=\"data row33 col4\" >True</td> \n",
       "        <td id=\"T_9552b992_b248_11e8_b501_54ee758ff7cfrow33_col5\" class=\"data row33 col5\" >Float</td> \n",
       "    </tr>    <tr> \n",
       "        <th id=\"T_9552b992_b248_11e8_b501_54ee758ff7cflevel0_row34\" class=\"row_heading level0 row34\" >G3</th> \n",
       "        <td id=\"T_9552b992_b248_11e8_b501_54ee758ff7cfrow34_col0\" class=\"data row34 col0\" >Final result (PASS/FAIL)</td> \n",
       "        <td id=\"T_9552b992_b248_11e8_b501_54ee758ff7cfrow34_col1\" class=\"data row34 col1\" >True</td> \n",
       "        <td id=\"T_9552b992_b248_11e8_b501_54ee758ff7cfrow34_col2\" class=\"data row34 col2\" >nominal</td> \n",
       "        <td id=\"T_9552b992_b248_11e8_b501_54ee758ff7cfrow34_col3\" class=\"data row34 col3\" >True</td> \n",
       "        <td id=\"T_9552b992_b248_11e8_b501_54ee758ff7cfrow34_col4\" class=\"data row34 col4\" >True</td> \n",
       "        <td id=\"T_9552b992_b248_11e8_b501_54ee758ff7cfrow34_col5\" class=\"data row34 col5\" >String</td> \n",
       "    </tr></tbody> \n",
       "</table> "
      ],
      "text/plain": [
       "<pandas.io.formats.style.Styler at 0x137cdfd1588>"
      ]
     },
     "metadata": {},
     "output_type": "display_data"
    }
   ],
   "source": [
    "descriptions = {\n",
    "    \"id\": [\"student's id\", False, False, 'nominal', False, \"Integer\"],\n",
    "    \"InitialName\": [\"student's initial\", False, False, 'nominal', False,  \"String\"],\n",
    "    \"school\": [\"student's school name\", True, True, 'nominal', False, \"String\"],\n",
    "    \"sex\": [\"student's sex\", True, True, 'nominal', False, \"Char\"],\n",
    "    \"age\": [\"student's age\", True, True, 'numerical', False, \"Integer\"],\n",
    "    \"address\": [\"student's home address type\", True, True, 'nominal', False, \"Char\"],\n",
    "    \"famsize\": [\"family size (≤ 3 or > 3)\", True, True, 'ordinal', False, \"String\"],\n",
    "    \"Pstatus\": [\"parent's cohabitation status (living together or apart)\", True, True, 'nominal', False, \"Char\"],\n",
    "    \"Medu\": [\"mother’s education(0 – none, 1 – primary education (4th grade), 2 – 5th to 9th grade, 3 – secondary education or 4 – higher education)\", True, True, 'ordinal',False, \"Integer\"],\n",
    "    \"Fedu\": [\"father’s education(0 – none, 1 – primary education (4th grade), 2 – 5th to 9th grade, 3 – secondary education or 4 – higher education)\", True, True, 'ordinal', False, \"Integer\"],\n",
    "    \"Mjob\": [\"mother's job\", True, True, 'nominal',False, \"String\"],\n",
    "    \"Fjob\": [\"father's job\", True, True, 'nominal',False, \"String\"],\n",
    "    \"reason\": [\"reason to choose this school\", True, True, 'nominal',False, \"String\"],\n",
    "    \"guardian\": [\"student's guardian\", True, True, 'nominal',False, \"String\"],\n",
    "    \"traveltime\": [\"home to school travel time (1 – < 15 min., 2 – 15 to 30 min., 3 – 30 min. to 1 hour or 4 – > 1 hour)\", True, True, 'ordinal',False, \"Integer\"],\n",
    "    \"studytime\": [\"weekly study time (1 – < 2 hours, 2 – 2 to 5 hours, 3 – 5 to 10 hours or 4 – > 10 hours)\", True, True, 'ordinal',False, \"Integer\"],\n",
    "    \"failures\": [\"number of past class failures(n if 1 ≤ n < 3, else 4)\", True, True, 'ordinal', False, \"Integer\"],\n",
    "    \"schoolsup\": [\"extra educational school support (yes or no)\", True, True, 'nominal', False, \"String\"],\n",
    "    \"famsup\": [\"family educational support (yes or no)\", True, True, 'nominal', False, \"String\"],\n",
    "    \"paid\": [\"extra paid classes (yes or no)\", True, True, 'nominal', False, \"String\"],\n",
    "    \"activities\": [\"extra-curricular activities (yes or no)\", True, True, 'nominal', False, \"String\"],\n",
    "    \"nursery\": [\"attended nursery school (yes or no)\", True, True, 'nominal', False, \"String\"],\n",
    "    \"higher\": [\"wants to take higher education (yes or no)\", True, True, 'nominal', False, \"String\"],\n",
    "    \"internet\": [\"Internet access at home (yes or no)\", True, True, 'nominal', False, \"String\"],\n",
    "    \"romantic\": [\"with a romantic relationship (yes or no)\", True, True, 'nominal', False, \"String\"],\n",
    "    \"famrel\": [\"quality of family relationships (1 – very bad to 5 – excellent)\", True, True, 'ordinal', False, \"Integer\"],\n",
    "    \"freetime\": [\"free time after school (1 – very low to 5 – very high)\", True, True, 'ordinal', False, \"Integer\"],\n",
    "    \"goout\": [\"going out with friends (1 – very low to 5 – very high)\", True, True, 'ordinal', False, \"Integer\"],\n",
    "    \"Dalc\": [\"workday alcohol consumption (1 – very low to 5 – very high)\", True, True, 'ordinal', False, \"Integer\"],\n",
    "    \"Walc\": [\"weekend alcohol consumption (1 – very low to 5 – very high)\", True, True, 'ordinal', False, \"Integer\"],\n",
    "    \"health\": [\"current health status (1 – very bad to 5 – very good)\", True, True, 'ordinal',False, \"Integer\"],\n",
    "    \"absences\": [\"number of school absences (0 to 75)\", True, True, 'numerical', False, \"Integer\"],\n",
    "    \"G1\": [\"first period grade (0 to 20)\", True, True, 'numerical', False, \"Float\"],\n",
    "    \"G2\": [\"second period grade (0 to 20)\", True, True, 'numerical', False, \"Float\"],\n",
    "    \"G3\": [\"Final result (PASS/FAIL)\", True, True, 'nominal', True, \"String\"],\n",
    "}\n",
    "\n",
    "red = 'background-color: Tomato'\n",
    "green = 'background-color: MediumSeaGreen'\n",
    "blue = 'background-color: DodgerBlue'\n",
    "sblue = 'background-color: SlateBlue'\n",
    "violet = 'background-color: Violet'\n",
    "gray = 'background-color: Lightgray'\n",
    "orange = 'background-color: Orange'\n",
    "\n",
    "def highlight_useful(val):\n",
    "    \"\"\" highlight True as green, false as red \"\"\"\n",
    "    return '' if val is None else green if val else red\n",
    "\n",
    "def highlight_type(val):\n",
    "    \"\"\" highlight based on variable type \"\"\"\n",
    "    if val == 'nominal':\n",
    "        return blue\n",
    "    elif val == 'ordinal':\n",
    "        return sblue\n",
    "    elif  val == 'numerical':\n",
    "        return violet\n",
    "    \n",
    "def highlight_target(val):\n",
    "    \"\"\" highlight if target variable \"\"\"\n",
    "    return orange if val else gray\n",
    "\n",
    "\n",
    "COLUMN_INFORMATION = pd.DataFrame.from_dict(descriptions, orient='index')\n",
    "COLUMN_INFORMATION.columns = ['Description', 'For Classification', 'For Regression', 'Variable Type', 'Target', \"Dtype\"]\n",
    "COLUMN_INFORMATION = COLUMN_INFORMATION[['Description', 'Target', 'Variable Type',  'For Classification', 'For Regression', \"Dtype\"]]\n",
    "COLUMN_INFORMATION['Target'] = COLUMN_INFORMATION['Target'].apply(lambda cell: bool(cell))\n",
    "\n",
    "with pd.option_context('display.max_rows', None, 'display.max_columns', None, 'display.max_colwidth', -1):\n",
    "    display(\n",
    "        COLUMN_INFORMATION.style.\\\n",
    "            applymap(highlight_useful, subset=['For Classification', 'For Regression']).\\\n",
    "            applymap(highlight_type, subset='Variable Type').\\\n",
    "            applymap(highlight_target, subset='Target')\n",
    "    )"
   ]
  },
  {
   "cell_type": "markdown",
   "metadata": {},
   "source": [
    "### 1.4 Distribution Scheme"
   ]
  },
  {
   "cell_type": "code",
   "execution_count": 8,
   "metadata": {},
   "outputs": [],
   "source": [
    "target_variables = ['G3']\n",
    "features = cleaned.loc[:, cleaned.columns.difference(target_variables)]\n",
    "targets = cleaned.loc[:, target_variables]\n",
    "\n",
    "test_size = 0.2\n",
    "training_size = 1.0 - test_size\n",
    "X_training, X_test, Y_training, Y_test = train_test_split(features, targets, test_size=test_size, train_size=training_size, random_state=randomSeed, shuffle=False)"
   ]
  },
  {
   "cell_type": "code",
   "execution_count": 9,
   "metadata": {},
   "outputs": [],
   "source": [
    "accuracy_overview = {\n",
    "    \"decision_tree\": {},\n",
    "    \"regression\": {},\n",
    "    \"neural_network\": {},\n",
    "}\n",
    "\n",
    "def format_accuracy_overview(Y, predicted_Y, most_important_features):\n",
    "    return {\n",
    "        \"precision\": precision_score(Y, predicted_Y),\n",
    "        \"recall\": recall_score(Y, predicted_Y),\n",
    "        \"f1\": f1_score(Y, predicted_Y),\n",
    "        \"accuracy\": accuracy_score(Y, predicted_Y),\n",
    "        \"ROC\": roc_curve(Y, predicted_Y),\n",
    "        \"AUC\": roc_auc_score(Y, predicted_Y),\n",
    "        \"most_important_features\": most_important_features\n",
    "    }"
   ]
  },
  {
   "cell_type": "markdown",
   "metadata": {},
   "source": [
    "---\n",
    "## Task 2. Predictive Modeling Using Decision Trees\n",
    "\n",
    "(4 marks)"
   ]
  },
  {
   "cell_type": "markdown",
   "metadata": {},
   "source": [
    "### 2.1 Build a decision tree using default setting. "
   ]
  },
  {
   "cell_type": "code",
   "execution_count": 10,
   "metadata": {},
   "outputs": [],
   "source": [
    "#Create a lable encoder for each of the nominal and ordinal features.\n",
    "DT_label_encoders = {}\n",
    "for name in descriptions:\n",
    "    if (\"nominal\" in descriptions[name] or \"ordinal\" in descriptions[name]) and name in cleaned.columns.values.tolist():\n",
    "        lb = preprocessing.LabelEncoder()\n",
    "        #Check cleanded data for every possible class. If only done on training data it might miss some.\n",
    "        lb.fit(cleaned[name].tolist())\n",
    "        DT_label_encoders[name] = lb \n",
    "\n",
    "def transform_features(Data, encoders):\n",
    "    \"\"\"Transforms data based on the provided encoder\"\"\"\n",
    "    Data_copy = Data.copy()\n",
    "    for col_name in Data_copy.columns.values.tolist():\n",
    "        if col_name in encoders:\n",
    "            #Get encoder\n",
    "            encoder = encoders[col_name]\n",
    "            #Transform the data in this col\n",
    "            col_values = Data_copy[col_name].tolist()\n",
    "            Data_copy[col_name] = encoder.transform(col_values)\n",
    "            \n",
    "    return Data_copy\n",
    "\n",
    "def transform_features_to_DT(Data):\n",
    "    \"\"\"Transforms the nominal and ordinal features into a format that can be compared by the decision tree\"\"\"\n",
    "    return transform_features(Data, DT_label_encoders)"
   ]
  },
  {
   "cell_type": "code",
   "execution_count": 11,
   "metadata": {},
   "outputs": [
    {
     "data": {
      "text/plain": [
       "DecisionTreeClassifier(class_weight=None, criterion='gini', max_depth=None,\n",
       "            max_features=None, max_leaf_nodes=None,\n",
       "            min_impurity_decrease=0.0, min_impurity_split=None,\n",
       "            min_samples_leaf=1, min_samples_split=2,\n",
       "            min_weight_fraction_leaf=0.0, presort=False, random_state=330,\n",
       "            splitter='best')"
      ]
     },
     "execution_count": 11,
     "metadata": {},
     "output_type": "execute_result"
    }
   ],
   "source": [
    "#Transform the training data into a format with which the decision tree can work.\n",
    "X_training_decision_tree_format = transform_features_to_DT(X_training) \n",
    "Y_training_decision_tree_format = transform_features_to_DT(Y_training) \n",
    "\n",
    "\n",
    "#Create a decision tree and train it on the formated training data.\n",
    "dt = DecisionTreeClassifier(random_state=randomSeed)\n",
    "dt.fit(X_training_decision_tree_format, Y_training_decision_tree_format)"
   ]
  },
  {
   "cell_type": "markdown",
   "metadata": {},
   "source": [
    "#### a. What is the classification accuracy on training and test datasets?"
   ]
  },
  {
   "cell_type": "code",
   "execution_count": 12,
   "metadata": {},
   "outputs": [
    {
     "data": {
      "text/html": [
       "<div>\n",
       "<style scoped>\n",
       "    .dataframe tbody tr th:only-of-type {\n",
       "        vertical-align: middle;\n",
       "    }\n",
       "\n",
       "    .dataframe tbody tr th {\n",
       "        vertical-align: top;\n",
       "    }\n",
       "\n",
       "    .dataframe thead th {\n",
       "        text-align: right;\n",
       "    }\n",
       "</style>\n",
       "<table border=\"1\" class=\"dataframe\">\n",
       "  <thead>\n",
       "    <tr style=\"text-align: right;\">\n",
       "      <th></th>\n",
       "      <th>G3</th>\n",
       "    </tr>\n",
       "  </thead>\n",
       "  <tbody>\n",
       "    <tr>\n",
       "      <th>Train accuracy</th>\n",
       "      <td>1.000000</td>\n",
       "    </tr>\n",
       "    <tr>\n",
       "      <th>Test accuracy</th>\n",
       "      <td>0.827751</td>\n",
       "    </tr>\n",
       "  </tbody>\n",
       "</table>\n",
       "</div>"
      ],
      "text/plain": [
       "                      G3\n",
       "Train accuracy  1.000000\n",
       "Test accuracy   0.827751"
      ]
     },
     "execution_count": 12,
     "metadata": {},
     "output_type": "execute_result"
    }
   ],
   "source": [
    "#Transform test data\n",
    "X_test_decision_tree_format = transform_features_to_DT(X_test) \n",
    "Y_test_decision_tree_format = transform_features_to_DT(Y_test) \n",
    "\n",
    "#Create a dataframe to display the values.\n",
    "training_score = dt.score(X_training_decision_tree_format, Y_training_decision_tree_format)\n",
    "test_score = dt.score(X_test_decision_tree_format, Y_test_decision_tree_format)    \n",
    "dt_preformance = pd.DataFrame([training_score, test_score], columns=target_variables, index=['Train accuracy', 'Test accuracy'])\n",
    "dt_preformance"
   ]
  },
  {
   "cell_type": "markdown",
   "metadata": {},
   "source": [
    "#### b. List the decision rules"
   ]
  },
  {
   "cell_type": "code",
   "execution_count": 13,
   "metadata": {},
   "outputs": [],
   "source": [
    "dt_features = X_training_decision_tree_format.columns.values.tolist()\n",
    "dotfile = StringIO()\n",
    "export_graphviz(dt, out_file=dotfile, feature_names=dt_features)\n",
    "graph = pydot.graph_from_dot_data(dotfile.getvalue())\n",
    "graph[0].write_png(\"default_tree.png\") # saved in the following file - will return True if successful"
   ]
  },
  {
   "cell_type": "markdown",
   "metadata": {},
   "source": [
    "The unique decision rules:\n",
    " - G2 <= 10.45\n",
    " - G2 <-=9.55\n",
    " - G1 <= 9.75\n",
    " - goout <=0.5\n",
    " - failures <= 0.5\n",
    " - sex <= 0.5\n",
    " - G2 <= 9.35\n",
    " - Medu <= 9.35\n",
    " - goout <= 3.5\n",
    " - Dalc < 3.5\n",
    " - G1 <= 9.85\n",
    " - age <= 17.5\n",
    " - Fedu <= 1.5\n",
    " - Fjob <= 0.5\n",
    " - studytime <= 1.0\n",
    " - age <= 16.868\n",
    " - guardian <= 1.5\n",
    " - absences <= 6.0\n",
    " - absences <= 9.0\n",
    " - G1 <= 11.225\n",
    " - famrel <= 2.5\n",
    " - walc <= 0.5\n",
    " - guardian <= 0.5\n",
    " - walc <= 2.5\n",
    " - dalc <= 0.5\n",
    " - Mjob <= 1.5\n",
    " - Medu <= 1.5\n",
    " - adress <= 0.5\n",
    " - Fedu <= 2.5\n",
    " - health <= 3.0\n",
    " - school <= 1.5\n",
    " - reason <= 2.5\n",
    " - freetime <= 2.5\n",
    " - G2 <= 11.35\n",
    " - G1 <= 11.55\n",
    " - traveltime <= 0.5\n",
    " - Fjob <= 1.5\n",
    " - reason <= 0.5\n",
    " - Walc <= 3.5\n",
    " - Walc <= 0.5\n",
    " - health <= 0.5\n",
    " - G1 <= 10.85\n",
    " - reason <= 1.5\n",
    " - paid <= 0.5\n",
    " - activities <= 0.5\n",
    " - nursery <= 0.5\n",
    " - G1 <= 10.55\n",
    " - famrel <= 3.5\n",
    " - G2 <= 11.55\n",
    " - G1 <= 12.85\n",
    " - schoolsup <= 0.5\n",
    " - absences <= 1.0\n",
    " - goout <= 05\n",
    " - Walc < 3.5\n",
    "\n",
    "The complete decision tree:\n",
    "\n",
    "![](default_tree.png)\n"
   ]
  },
  {
   "cell_type": "markdown",
   "metadata": {},
   "source": [
    "#### c. What are the 5 important variables in building the tree?"
   ]
  },
  {
   "cell_type": "code",
   "execution_count": 14,
   "metadata": {},
   "outputs": [
    {
     "data": {
      "text/html": [
       "<div>\n",
       "<style scoped>\n",
       "    .dataframe tbody tr th:only-of-type {\n",
       "        vertical-align: middle;\n",
       "    }\n",
       "\n",
       "    .dataframe tbody tr th {\n",
       "        vertical-align: top;\n",
       "    }\n",
       "\n",
       "    .dataframe thead th {\n",
       "        text-align: right;\n",
       "    }\n",
       "</style>\n",
       "<table border=\"1\" class=\"dataframe\">\n",
       "  <thead>\n",
       "    <tr style=\"text-align: right;\">\n",
       "      <th></th>\n",
       "      <th>G3</th>\n",
       "    </tr>\n",
       "  </thead>\n",
       "  <tbody>\n",
       "    <tr>\n",
       "      <th>G2</th>\n",
       "      <td>0.732581</td>\n",
       "    </tr>\n",
       "    <tr>\n",
       "      <th>G1</th>\n",
       "      <td>0.053456</td>\n",
       "    </tr>\n",
       "    <tr>\n",
       "      <th>Walc</th>\n",
       "      <td>0.031882</td>\n",
       "    </tr>\n",
       "    <tr>\n",
       "      <th>Fedu</th>\n",
       "      <td>0.018104</td>\n",
       "    </tr>\n",
       "    <tr>\n",
       "      <th>health</th>\n",
       "      <td>0.014787</td>\n",
       "    </tr>\n",
       "  </tbody>\n",
       "</table>\n",
       "</div>"
      ],
      "text/plain": [
       "              G3\n",
       "G2      0.732581\n",
       "G1      0.053456\n",
       "Walc    0.031882\n",
       "Fedu    0.018104\n",
       "health  0.014787"
      ]
     },
     "execution_count": 14,
     "metadata": {},
     "output_type": "execute_result"
    }
   ],
   "source": [
    "importances = dt.feature_importances_\n",
    "importances_dt = pd.DataFrame(importances, index=dt_features, columns=[\"G3\"])\n",
    "importances_dt.nlargest(5, \"G3\")"
   ]
  },
  {
   "cell_type": "markdown",
   "metadata": {},
   "source": [
    "#### d. Report if you see any evidence of model overfitting."
   ]
  },
  {
   "cell_type": "markdown",
   "metadata": {},
   "source": [
    "There is model overfitting on the training set since the decision tree has a 100% accuracy at the training set while it only has a 82.8% accuracy on the test set. This can also be seen in the tree since it has become extremely complicated with very many paths. This a classic example of overfitting."
   ]
  },
  {
   "cell_type": "markdown",
   "metadata": {},
   "source": [
    "### 2.2 Build another decision tree tuned with GridSearchCV."
   ]
  },
  {
   "cell_type": "code",
   "execution_count": 15,
   "metadata": {},
   "outputs": [
    {
     "data": {
      "text/plain": [
       "GridSearchCV(cv=None, error_score='raise',\n",
       "       estimator=DecisionTreeClassifier(class_weight=None, criterion='gini', max_depth=None,\n",
       "            max_features=None, max_leaf_nodes=None,\n",
       "            min_impurity_decrease=0.0, min_impurity_split=None,\n",
       "            min_samples_leaf=1, min_samples_split=2,\n",
       "            min_weight_fraction_leaf=0.0, presort=False, random_state=330,\n",
       "            splitter='best'),\n",
       "       fit_params=None, iid=True, n_jobs=8,\n",
       "       param_grid={'max_depth': [None, 1, 2, 3, 4, 5], 'min_samples_split': [0.001, 0.005, 0.01, 0.05, 0.1], 'min_samples_leaf': [1, 2, 4, 8, 16, 32], 'criterion': ['gini', 'entropy'], 'splitter': ['best', 'random'], 'max_features': [None, 'auto', 'sqrt', 'log2'], 'max_leaf_nodes': [None, 2, 3, 4, 5, 6]},\n",
       "       pre_dispatch='2*n_jobs', refit=True, return_train_score='warn',\n",
       "       scoring=None, verbose=0)"
      ]
     },
     "execution_count": 15,
     "metadata": {},
     "output_type": "execute_result"
    }
   ],
   "source": [
    "#The parameters to be searched\n",
    "parameters = {\n",
    "     \"max_depth\": [None, 1, 2, 3, 4, 5],\n",
    "     \"min_samples_split\": [0.001, 0.005, 0.01, 0.05, 0.1],\n",
    "     \"min_samples_leaf\": [1, 2, 4, 8, 16, 32],\n",
    "     \"criterion\": ['gini', 'entropy'],\n",
    "     \"splitter\" : [\"best\", \"random\"],\n",
    "     \"max_features\": [None, \"auto\", \"sqrt\", \"log2\"],\n",
    "     \"max_leaf_nodes\": [None, 2, 3, 4, 5, 6],\n",
    "}\n",
    "#creates and starts a grids search\n",
    "gs_dt = GridSearchCV(DecisionTreeClassifier(random_state=randomSeed), parameters, n_jobs=8)\n",
    "gs_dt.fit(X_training_decision_tree_format, Y_training_decision_tree_format)"
   ]
  },
  {
   "cell_type": "markdown",
   "metadata": {},
   "source": [
    "#### a. What is the classification accuracy on training and test datasets?"
   ]
  },
  {
   "cell_type": "code",
   "execution_count": 16,
   "metadata": {},
   "outputs": [
    {
     "data": {
      "text/html": [
       "<div>\n",
       "<style scoped>\n",
       "    .dataframe tbody tr th:only-of-type {\n",
       "        vertical-align: middle;\n",
       "    }\n",
       "\n",
       "    .dataframe tbody tr th {\n",
       "        vertical-align: top;\n",
       "    }\n",
       "\n",
       "    .dataframe thead th {\n",
       "        text-align: right;\n",
       "    }\n",
       "</style>\n",
       "<table border=\"1\" class=\"dataframe\">\n",
       "  <thead>\n",
       "    <tr style=\"text-align: right;\">\n",
       "      <th></th>\n",
       "      <th>G3 grid</th>\n",
       "    </tr>\n",
       "  </thead>\n",
       "  <tbody>\n",
       "    <tr>\n",
       "      <th>Train accuracy</th>\n",
       "      <td>0.932934</td>\n",
       "    </tr>\n",
       "    <tr>\n",
       "      <th>Test accuracy</th>\n",
       "      <td>0.866029</td>\n",
       "    </tr>\n",
       "  </tbody>\n",
       "</table>\n",
       "</div>"
      ],
      "text/plain": [
       "                 G3 grid\n",
       "Train accuracy  0.932934\n",
       "Test accuracy   0.866029"
      ]
     },
     "execution_count": 16,
     "metadata": {},
     "output_type": "execute_result"
    }
   ],
   "source": [
    "#Calc scores\n",
    "training_score = gs_dt.score(X_training_decision_tree_format, Y_training_decision_tree_format)\n",
    "test_score = gs_dt.score(X_test_decision_tree_format, Y_test_decision_tree_format)\n",
    "\n",
    "#Display training and test score\n",
    "dt_grid_preformance = pd.DataFrame([training_score, test_score], columns=[\"G3 grid\"], index=['Train accuracy', 'Test accuracy'])\n",
    "dt_grid_preformance"
   ]
  },
  {
   "cell_type": "code",
   "execution_count": 17,
   "metadata": {},
   "outputs": [],
   "source": [
    "dt_y_predicted = gs_dt.best_estimator_.predict(X_test_decision_tree_format)\n",
    "dt_score_overview = classification_report(Y_test_decision_tree_format, dt_y_predicted)"
   ]
  },
  {
   "cell_type": "markdown",
   "metadata": {},
   "source": [
    "#### b. What are the parameters used? Explain your decision."
   ]
  },
  {
   "cell_type": "markdown",
   "metadata": {},
   "source": [
    "The following parameters are being considered: \n",
    " - **max_depth**: Limits the maximum depth of the tree. If None, then nodes are expanded until all leaves are pure or until all leaves contain less than min_samples_split samples.\n",
    " - **min_samples_split**: The minimum number of samples required to split an internal node.\n",
    " - **min_samples_leaf**: The minimum number of samples required to be at a leaf node.\n",
    " - **criterion**: The function to measure the quality of a split. Examples are Gini impurity and entropy/information gain.\n",
    " - **splitter**: The strategy used to choose the split at each node. Examples are best which choices the best criterion criteria or random which preforms a random split.\n",
    " - **max_features**:  Limits the number of features to consider when looking for the best split. For Example sqrt limits it to sqrt (total_number_of_features).\n",
    " - **max_leaf_nodes**:  Limits the number of leaf nodes. Nodes with relative reduction in impurity are added first to ensure the best possible tree with the constaint.\n",
    " \n",
    "We decided to use the kitchen sink approach. We looked up the default values of the parameters and provided the grid search with a random range of values arround these default values. Then we the GridSearch run on multiple threads/jobs and we see which parameters return the optimal values.\n",
    "\n"
   ]
  },
  {
   "cell_type": "markdown",
   "metadata": {},
   "source": [
    "#### c. What are the optimal parameters for this decision tree?"
   ]
  },
  {
   "cell_type": "code",
   "execution_count": 18,
   "metadata": {},
   "outputs": [
    {
     "name": "stdout",
     "output_type": "stream",
     "text": [
      "The following parameters result in the best decision tree:\n",
      "   -max_depth: None\n",
      "   -min_samples_split: 0.001\n",
      "   -min_samples_leaf: 8\n",
      "   -criterion: gini\n",
      "   -splitter: best\n",
      "   -max_features: None\n",
      "   -max_leaf_nodes: 6\n"
     ]
    }
   ],
   "source": [
    "print(f\"The following parameters result in the best decision tree:\")\n",
    "for name in parameters:\n",
    "    print(f\"   -{name}: {gs_dt.best_params_[name]}\")"
   ]
  },
  {
   "cell_type": "markdown",
   "metadata": {},
   "source": [
    "#### d. Which variable is used for the first split? What are the competing splits for this first split?"
   ]
  },
  {
   "cell_type": "code",
   "execution_count": 19,
   "metadata": {},
   "outputs": [],
   "source": [
    "dt_features = X_training_decision_tree_format.columns.values.tolist()\n",
    "dotfile = StringIO()\n",
    "export_graphviz(gs_dt.best_estimator_, out_file=dotfile, feature_names=dt_features)\n",
    "graph = pydot.graph_from_dot_data(dotfile.getvalue())\n",
    "graph[0].write_png(\"grid_tree.png\") # saved in the following file - will return True if successful\n"
   ]
  },
  {
   "cell_type": "markdown",
   "metadata": {},
   "source": [
    "The first split is done based on the following rule: G2 <= 10.45. The split rules at the second level are G2 <= 9.55 & G2 <= 11.35.\n",
    "Which is the same as the tree with the default parameter. The only different is that this tree has far less leaf nodes.\n",
    "\n",
    "The result:\n",
    "\n",
    "![](grid_tree.png)"
   ]
  },
  {
   "cell_type": "markdown",
   "metadata": {},
   "source": [
    "#### e. What are the 5 important variables in building the tree?"
   ]
  },
  {
   "cell_type": "code",
   "execution_count": 20,
   "metadata": {},
   "outputs": [
    {
     "data": {
      "text/html": [
       "<div>\n",
       "<style scoped>\n",
       "    .dataframe tbody tr th:only-of-type {\n",
       "        vertical-align: middle;\n",
       "    }\n",
       "\n",
       "    .dataframe tbody tr th {\n",
       "        vertical-align: top;\n",
       "    }\n",
       "\n",
       "    .dataframe thead th {\n",
       "        text-align: right;\n",
       "    }\n",
       "</style>\n",
       "<table border=\"1\" class=\"dataframe\">\n",
       "  <thead>\n",
       "    <tr style=\"text-align: right;\">\n",
       "      <th></th>\n",
       "      <th>G3</th>\n",
       "    </tr>\n",
       "  </thead>\n",
       "  <tbody>\n",
       "    <tr>\n",
       "      <th>G2</th>\n",
       "      <td>0.958757</td>\n",
       "    </tr>\n",
       "    <tr>\n",
       "      <th>G1</th>\n",
       "      <td>0.041243</td>\n",
       "    </tr>\n",
       "    <tr>\n",
       "      <th>Dalc</th>\n",
       "      <td>0.000000</td>\n",
       "    </tr>\n",
       "    <tr>\n",
       "      <th>Fedu</th>\n",
       "      <td>0.000000</td>\n",
       "    </tr>\n",
       "    <tr>\n",
       "      <th>Fjob</th>\n",
       "      <td>0.000000</td>\n",
       "    </tr>\n",
       "  </tbody>\n",
       "</table>\n",
       "</div>"
      ],
      "text/plain": [
       "            G3\n",
       "G2    0.958757\n",
       "G1    0.041243\n",
       "Dalc  0.000000\n",
       "Fedu  0.000000\n",
       "Fjob  0.000000"
      ]
     },
     "execution_count": 20,
     "metadata": {},
     "output_type": "execute_result"
    }
   ],
   "source": [
    "#Get the importances of each feature\n",
    "importances = gs_dt.best_estimator_.feature_importances_\n",
    "\n",
    "#display the 5 most important features\n",
    "importances_dt_gs = pd.DataFrame(importances, index=dt_features, columns=[\"G3\"])\n",
    "importances_dt_gs\n",
    "importances_dt_gs.nlargest(5, \"G3\")"
   ]
  },
  {
   "cell_type": "code",
   "execution_count": 21,
   "metadata": {},
   "outputs": [
    {
     "name": "stdout",
     "output_type": "stream",
     "text": [
      "{'precision': 0.8640776699029126, 'recall': 0.8640776699029126, 'f1': 0.8640776699029126, 'accuracy': 0.8660287081339713, 'ROC': (array([0.        , 0.13207547, 1.        ]), array([0.        , 0.86407767, 1.        ]), array([2, 1, 0], dtype=int64)), 'AUC': 0.8660010991023998, 'most_important_features': ['G2', 'G1', 'Dalc', 'Fedu', 'Fjob']}\n"
     ]
    }
   ],
   "source": [
    "dt_5_most_imporant_features = importances_dt_gs.nlargest(5, \"G3\").index.values.tolist()\n",
    "accuracy_overview[\"decision_tree\"] = format_accuracy_overview(Y_test_decision_tree_format, dt_y_predicted, dt_5_most_imporant_features)\n",
    "print(accuracy_overview[\"decision_tree\"])"
   ]
  },
  {
   "cell_type": "markdown",
   "metadata": {},
   "source": [
    "#### f. Report if you see an evidence of model overfitting."
   ]
  },
  {
   "cell_type": "markdown",
   "metadata": {},
   "source": [
    "There is no evidence of model overfitting, the accuracy on the train and test sets moved much closer to each other. The tree has also become much simpler compared to the original one as can be seen in the visualization image. This is also a good indicater that there is no overfitting."
   ]
  },
  {
   "cell_type": "markdown",
   "metadata": {},
   "source": [
    "### 2.3 What is the significant difference do you see between these two decision tree models? How do they compare performance-wise? Explain why those changes may have happened."
   ]
  },
  {
   "cell_type": "markdown",
   "metadata": {},
   "source": [
    "**What is the significant difference do you see between these two decision tree models?**\n",
    "When you compare the visualization of the trees, the first thing you notice is that the grid tree is much smaller and simpler than the original one. \n",
    "The grid tree also does not have duplicated rules. The original thee had some duplicated rules in different branches. The original tree did this to fit the training data perfectly which resulted into over-fitting.\n",
    "\n",
    "**How do they compare performance-wise**\n",
    "The original tree fitted the training data perfectly  but only achieved an 82% accuracy on the test data due to over-fitting. While the grid tree only achieve a 93% accuracy on the training data, it achieved a 86% accuracy on the test data. Thus the grid tree is much better at generalizing, which result into a higher accuracy on data it has never seen before. Making the grid tree the better one.\n",
    "\n",
    "**Explain why those changes may have happened**\n",
    "These changes happen due to the grid search. Sklearning's grid search uses K-fold validation on each possible configuration. The K-fold validation prevents\n",
    " the training algorithm from over-fitting in combination with the configuration parameters. Eventually the search returns the configuration that has the highest K-fold score which result into a tree data is not over-fitted (assuming that the training data is representative).\n",
    "In our case this resulted into a much smaller tree. A much smaller tree means that there are fewer rules and that the decision rules are much more general and have to focus on the most important features. This means that the tree cannot perfectly fit the training data and over-fit, which makes it preform better on data it has never seen before."
   ]
  },
  {
   "cell_type": "code",
   "execution_count": 22,
   "metadata": {},
   "outputs": [
    {
     "name": "stdout",
     "output_type": "stream",
     "text": [
      "                      G3   G3 grid\n",
      "Test accuracy   0.827751  0.866029\n",
      "Train accuracy  1.000000  0.932934\n"
     ]
    }
   ],
   "source": [
    "comparision = pd.DataFrame([], columns=[])\n",
    "print(comparision.append(dt_preformance[\"G3\"]).append(dt_grid_preformance[\"G3 grid\"]).transpose())"
   ]
  },
  {
   "cell_type": "markdown",
   "metadata": {},
   "source": [
    "### 2.4 From the better model, can you identify which students to target for further consultation? Can you provide some descriptive summary of those students?"
   ]
  },
  {
   "cell_type": "markdown",
   "metadata": {},
   "source": [
    "The following rules identify students that will most likely fail.\n",
    "\n",
    "- `if G2 <= 9.55` There are 206 students in this group and 95.6% of them eventually failed. So this is the most important group to watch.\n",
    "- `if 9.55 < G2 <= 10.45 & G1 <= 11.225` There are 73 students in this group and 72.6% of them eventually failed. So this is the second most important group to watch.\n",
    "\n",
    "The following rules are far less interesting but still indicate students with a small changes of failing. \n",
    "- `if 10.45 < G2 <= 11.35 & G1 <= 11.55` There are 77 students in this group and 27.3% of them eventually failed.\n",
    "- `if 9.55 < G2 <= 10.45 & G1 > 11.225` There are 16 students in this group and 18.8% of them eventually failed. \n",
    "\n",
    "As can be seen in the rules above only the grades provide a good indication about wheter the students will pass or not."
   ]
  },
  {
   "cell_type": "markdown",
   "metadata": {},
   "source": [
    "---\n",
    "# Task 3. Predictive Modeling Using Regression\n",
    "\n",
    "(5.5 marks)"
   ]
  },
  {
   "cell_type": "markdown",
   "metadata": {},
   "source": [
    "## 3.1 Apply transformation/scaling methods to variables."
   ]
  },
  {
   "cell_type": "code",
   "execution_count": 23,
   "metadata": {},
   "outputs": [
    {
     "data": {
      "text/html": [
       "<div>\n",
       "<style scoped>\n",
       "    .dataframe tbody tr th:only-of-type {\n",
       "        vertical-align: middle;\n",
       "    }\n",
       "\n",
       "    .dataframe tbody tr th {\n",
       "        vertical-align: top;\n",
       "    }\n",
       "\n",
       "    .dataframe thead th {\n",
       "        text-align: right;\n",
       "    }\n",
       "</style>\n",
       "<table border=\"1\" class=\"dataframe\">\n",
       "  <thead>\n",
       "    <tr style=\"text-align: right;\">\n",
       "      <th></th>\n",
       "      <th>age</th>\n",
       "      <th>Medu</th>\n",
       "      <th>Fedu</th>\n",
       "      <th>traveltime</th>\n",
       "      <th>studytime</th>\n",
       "      <th>failures</th>\n",
       "      <th>famrel</th>\n",
       "      <th>freetime</th>\n",
       "      <th>goout</th>\n",
       "      <th>Dalc</th>\n",
       "      <th>Walc</th>\n",
       "      <th>health</th>\n",
       "      <th>absences</th>\n",
       "      <th>G1</th>\n",
       "      <th>G2</th>\n",
       "      <th>school_-</th>\n",
       "      <th>school_DCHS</th>\n",
       "      <th>school_THS</th>\n",
       "      <th>address_R</th>\n",
       "      <th>address_U</th>\n",
       "      <th>Mjob_at_home</th>\n",
       "      <th>Mjob_health</th>\n",
       "      <th>Mjob_other</th>\n",
       "      <th>Mjob_services</th>\n",
       "      <th>Mjob_teacher</th>\n",
       "      <th>Fjob_at_home</th>\n",
       "      <th>Fjob_health</th>\n",
       "      <th>Fjob_other</th>\n",
       "      <th>Fjob_services</th>\n",
       "      <th>Fjob_teacher</th>\n",
       "      <th>reason_-</th>\n",
       "      <th>reason_course</th>\n",
       "      <th>reason_home</th>\n",
       "      <th>reason_other</th>\n",
       "      <th>reason_reputation</th>\n",
       "      <th>guardian_father</th>\n",
       "      <th>guardian_mother</th>\n",
       "      <th>guardian_other</th>\n",
       "      <th>schoolsup</th>\n",
       "      <th>famsup</th>\n",
       "      <th>paid</th>\n",
       "      <th>activities</th>\n",
       "      <th>nursery</th>\n",
       "      <th>higher</th>\n",
       "      <th>internet</th>\n",
       "      <th>romantic</th>\n",
       "      <th>sex</th>\n",
       "      <th>famsize</th>\n",
       "      <th>Pstatus</th>\n",
       "      <th>G3</th>\n",
       "    </tr>\n",
       "  </thead>\n",
       "  <tbody>\n",
       "    <tr>\n",
       "      <th>0</th>\n",
       "      <td>18.000000</td>\n",
       "      <td>4</td>\n",
       "      <td>4</td>\n",
       "      <td>2</td>\n",
       "      <td>2</td>\n",
       "      <td>0</td>\n",
       "      <td>4</td>\n",
       "      <td>3</td>\n",
       "      <td>4</td>\n",
       "      <td>1</td>\n",
       "      <td>1</td>\n",
       "      <td>3</td>\n",
       "      <td>6</td>\n",
       "      <td>4.9</td>\n",
       "      <td>6.5</td>\n",
       "      <td>0</td>\n",
       "      <td>1</td>\n",
       "      <td>0</td>\n",
       "      <td>0</td>\n",
       "      <td>1</td>\n",
       "      <td>1</td>\n",
       "      <td>0</td>\n",
       "      <td>0</td>\n",
       "      <td>0</td>\n",
       "      <td>0</td>\n",
       "      <td>0</td>\n",
       "      <td>0</td>\n",
       "      <td>0</td>\n",
       "      <td>0</td>\n",
       "      <td>1</td>\n",
       "      <td>1</td>\n",
       "      <td>0</td>\n",
       "      <td>0</td>\n",
       "      <td>0</td>\n",
       "      <td>0</td>\n",
       "      <td>0</td>\n",
       "      <td>1</td>\n",
       "      <td>0</td>\n",
       "      <td>1</td>\n",
       "      <td>0</td>\n",
       "      <td>0</td>\n",
       "      <td>0</td>\n",
       "      <td>1</td>\n",
       "      <td>1</td>\n",
       "      <td>0</td>\n",
       "      <td>0</td>\n",
       "      <td>0</td>\n",
       "      <td>1</td>\n",
       "      <td>0</td>\n",
       "      <td>0</td>\n",
       "    </tr>\n",
       "    <tr>\n",
       "      <th>1</th>\n",
       "      <td>17.000000</td>\n",
       "      <td>1</td>\n",
       "      <td>1</td>\n",
       "      <td>1</td>\n",
       "      <td>2</td>\n",
       "      <td>0</td>\n",
       "      <td>5</td>\n",
       "      <td>3</td>\n",
       "      <td>3</td>\n",
       "      <td>1</td>\n",
       "      <td>1</td>\n",
       "      <td>3</td>\n",
       "      <td>4</td>\n",
       "      <td>5.2</td>\n",
       "      <td>5.1</td>\n",
       "      <td>0</td>\n",
       "      <td>1</td>\n",
       "      <td>0</td>\n",
       "      <td>0</td>\n",
       "      <td>1</td>\n",
       "      <td>1</td>\n",
       "      <td>0</td>\n",
       "      <td>0</td>\n",
       "      <td>0</td>\n",
       "      <td>0</td>\n",
       "      <td>0</td>\n",
       "      <td>0</td>\n",
       "      <td>1</td>\n",
       "      <td>0</td>\n",
       "      <td>0</td>\n",
       "      <td>1</td>\n",
       "      <td>0</td>\n",
       "      <td>0</td>\n",
       "      <td>0</td>\n",
       "      <td>0</td>\n",
       "      <td>1</td>\n",
       "      <td>0</td>\n",
       "      <td>0</td>\n",
       "      <td>0</td>\n",
       "      <td>1</td>\n",
       "      <td>0</td>\n",
       "      <td>0</td>\n",
       "      <td>0</td>\n",
       "      <td>1</td>\n",
       "      <td>1</td>\n",
       "      <td>0</td>\n",
       "      <td>0</td>\n",
       "      <td>1</td>\n",
       "      <td>1</td>\n",
       "      <td>0</td>\n",
       "    </tr>\n",
       "    <tr>\n",
       "      <th>...</th>\n",
       "      <td>...</td>\n",
       "      <td>...</td>\n",
       "      <td>...</td>\n",
       "      <td>...</td>\n",
       "      <td>...</td>\n",
       "      <td>...</td>\n",
       "      <td>...</td>\n",
       "      <td>...</td>\n",
       "      <td>...</td>\n",
       "      <td>...</td>\n",
       "      <td>...</td>\n",
       "      <td>...</td>\n",
       "      <td>...</td>\n",
       "      <td>...</td>\n",
       "      <td>...</td>\n",
       "      <td>...</td>\n",
       "      <td>...</td>\n",
       "      <td>...</td>\n",
       "      <td>...</td>\n",
       "      <td>...</td>\n",
       "      <td>...</td>\n",
       "      <td>...</td>\n",
       "      <td>...</td>\n",
       "      <td>...</td>\n",
       "      <td>...</td>\n",
       "      <td>...</td>\n",
       "      <td>...</td>\n",
       "      <td>...</td>\n",
       "      <td>...</td>\n",
       "      <td>...</td>\n",
       "      <td>...</td>\n",
       "      <td>...</td>\n",
       "      <td>...</td>\n",
       "      <td>...</td>\n",
       "      <td>...</td>\n",
       "      <td>...</td>\n",
       "      <td>...</td>\n",
       "      <td>...</td>\n",
       "      <td>...</td>\n",
       "      <td>...</td>\n",
       "      <td>...</td>\n",
       "      <td>...</td>\n",
       "      <td>...</td>\n",
       "      <td>...</td>\n",
       "      <td>...</td>\n",
       "      <td>...</td>\n",
       "      <td>...</td>\n",
       "      <td>...</td>\n",
       "      <td>...</td>\n",
       "      <td>...</td>\n",
       "    </tr>\n",
       "    <tr>\n",
       "      <th>1042</th>\n",
       "      <td>16.736354</td>\n",
       "      <td>3</td>\n",
       "      <td>1</td>\n",
       "      <td>2</td>\n",
       "      <td>1</td>\n",
       "      <td>0</td>\n",
       "      <td>2</td>\n",
       "      <td>4</td>\n",
       "      <td>5</td>\n",
       "      <td>3</td>\n",
       "      <td>4</td>\n",
       "      <td>2</td>\n",
       "      <td>6</td>\n",
       "      <td>9.7</td>\n",
       "      <td>10.5</td>\n",
       "      <td>0</td>\n",
       "      <td>0</td>\n",
       "      <td>1</td>\n",
       "      <td>0</td>\n",
       "      <td>1</td>\n",
       "      <td>0</td>\n",
       "      <td>0</td>\n",
       "      <td>0</td>\n",
       "      <td>1</td>\n",
       "      <td>0</td>\n",
       "      <td>0</td>\n",
       "      <td>0</td>\n",
       "      <td>0</td>\n",
       "      <td>1</td>\n",
       "      <td>0</td>\n",
       "      <td>1</td>\n",
       "      <td>0</td>\n",
       "      <td>0</td>\n",
       "      <td>0</td>\n",
       "      <td>0</td>\n",
       "      <td>0</td>\n",
       "      <td>1</td>\n",
       "      <td>0</td>\n",
       "      <td>0</td>\n",
       "      <td>0</td>\n",
       "      <td>0</td>\n",
       "      <td>0</td>\n",
       "      <td>0</td>\n",
       "      <td>1</td>\n",
       "      <td>1</td>\n",
       "      <td>0</td>\n",
       "      <td>1</td>\n",
       "      <td>0</td>\n",
       "      <td>1</td>\n",
       "      <td>0</td>\n",
       "    </tr>\n",
       "    <tr>\n",
       "      <th>1043</th>\n",
       "      <td>18.000000</td>\n",
       "      <td>3</td>\n",
       "      <td>2</td>\n",
       "      <td>3</td>\n",
       "      <td>1</td>\n",
       "      <td>0</td>\n",
       "      <td>4</td>\n",
       "      <td>4</td>\n",
       "      <td>1</td>\n",
       "      <td>3</td>\n",
       "      <td>4</td>\n",
       "      <td>5</td>\n",
       "      <td>4</td>\n",
       "      <td>10.1</td>\n",
       "      <td>11.2</td>\n",
       "      <td>0</td>\n",
       "      <td>0</td>\n",
       "      <td>1</td>\n",
       "      <td>1</td>\n",
       "      <td>0</td>\n",
       "      <td>0</td>\n",
       "      <td>0</td>\n",
       "      <td>0</td>\n",
       "      <td>1</td>\n",
       "      <td>0</td>\n",
       "      <td>0</td>\n",
       "      <td>0</td>\n",
       "      <td>1</td>\n",
       "      <td>0</td>\n",
       "      <td>0</td>\n",
       "      <td>1</td>\n",
       "      <td>0</td>\n",
       "      <td>0</td>\n",
       "      <td>0</td>\n",
       "      <td>0</td>\n",
       "      <td>0</td>\n",
       "      <td>1</td>\n",
       "      <td>0</td>\n",
       "      <td>0</td>\n",
       "      <td>0</td>\n",
       "      <td>0</td>\n",
       "      <td>0</td>\n",
       "      <td>0</td>\n",
       "      <td>1</td>\n",
       "      <td>1</td>\n",
       "      <td>0</td>\n",
       "      <td>1</td>\n",
       "      <td>0</td>\n",
       "      <td>1</td>\n",
       "      <td>1</td>\n",
       "    </tr>\n",
       "  </tbody>\n",
       "</table>\n",
       "<p>1044 rows × 50 columns</p>\n",
       "</div>"
      ],
      "text/plain": [
       "            age  Medu  Fedu  traveltime  studytime  failures  famrel  \\\n",
       "0     18.000000     4     4           2          2         0       4   \n",
       "1     17.000000     1     1           1          2         0       5   \n",
       "...         ...   ...   ...         ...        ...       ...     ...   \n",
       "1042  16.736354     3     1           2          1         0       2   \n",
       "1043  18.000000     3     2           3          1         0       4   \n",
       "\n",
       "      freetime  goout  Dalc  Walc  health  absences    G1    G2  school_-  \\\n",
       "0            3      4     1     1       3         6   4.9   6.5         0   \n",
       "1            3      3     1     1       3         4   5.2   5.1         0   \n",
       "...        ...    ...   ...   ...     ...       ...   ...   ...       ...   \n",
       "1042         4      5     3     4       2         6   9.7  10.5         0   \n",
       "1043         4      1     3     4       5         4  10.1  11.2         0   \n",
       "\n",
       "      school_DCHS  school_THS  address_R  address_U  Mjob_at_home  \\\n",
       "0               1           0          0          1             1   \n",
       "1               1           0          0          1             1   \n",
       "...           ...         ...        ...        ...           ...   \n",
       "1042            0           1          0          1             0   \n",
       "1043            0           1          1          0             0   \n",
       "\n",
       "      Mjob_health  Mjob_other  Mjob_services  Mjob_teacher  Fjob_at_home  \\\n",
       "0               0           0              0             0             0   \n",
       "1               0           0              0             0             0   \n",
       "...           ...         ...            ...           ...           ...   \n",
       "1042            0           0              1             0             0   \n",
       "1043            0           0              1             0             0   \n",
       "\n",
       "      Fjob_health  Fjob_other  Fjob_services  Fjob_teacher  reason_-  \\\n",
       "0               0           0              0             1         1   \n",
       "1               0           1              0             0         1   \n",
       "...           ...         ...            ...           ...       ...   \n",
       "1042            0           0              1             0         1   \n",
       "1043            0           1              0             0         1   \n",
       "\n",
       "      reason_course  reason_home  reason_other  reason_reputation  \\\n",
       "0                 0            0             0                  0   \n",
       "1                 0            0             0                  0   \n",
       "...             ...          ...           ...                ...   \n",
       "1042              0            0             0                  0   \n",
       "1043              0            0             0                  0   \n",
       "\n",
       "      guardian_father  guardian_mother  guardian_other  schoolsup  famsup  \\\n",
       "0                   0                1               0          1       0   \n",
       "1                   1                0               0          0       1   \n",
       "...               ...              ...             ...        ...     ...   \n",
       "1042                0                1               0          0       0   \n",
       "1043                0                1               0          0       0   \n",
       "\n",
       "      paid  activities  nursery  higher  internet  romantic  sex  famsize  \\\n",
       "0        0           0        1       1         0         0    0        1   \n",
       "1        0           0        0       1         1         0    0        1   \n",
       "...    ...         ...      ...     ...       ...       ...  ...      ...   \n",
       "1042     0           0        0       1         1         0    1        0   \n",
       "1043     0           0        0       1         1         0    1        0   \n",
       "\n",
       "      Pstatus  G3  \n",
       "0           0   0  \n",
       "1           1   0  \n",
       "...       ...  ..  \n",
       "1042        1   0  \n",
       "1043        1   1  \n",
       "\n",
       "[1044 rows x 50 columns]"
      ]
     },
     "metadata": {},
     "output_type": "display_data"
    }
   ],
   "source": [
    "def one_hot(data, column):\n",
    "    dummies = pd.get_dummies(data[column], prefix=column)\n",
    "    data = data.drop(column, axis=1)\n",
    "    data = data.join(dummies)\n",
    "    return data\n",
    "\n",
    "def binary(data, column, map):\n",
    "    new_col = data[column].map(map)\n",
    "    data = data.drop(column, axis=1)\n",
    "    data = data.join(new_col)\n",
    "    return data\n",
    "    \n",
    "def transform(data):\n",
    "    one_hot_cols = ['school', 'address', 'Mjob', 'Fjob', 'reason', 'guardian']\n",
    "    yes_no_cols = ['schoolsup', 'famsup', 'paid', 'activities', 'nursery', 'higher', 'internet', 'romantic']\n",
    "    yes_no_map = {'no':0, 'yes':1}\n",
    "    \n",
    "    for col in one_hot_cols:\n",
    "        data = one_hot(data, col)\n",
    "    \n",
    "    for col in yes_no_cols:\n",
    "        data = binary(data, col, yes_no_map)\n",
    "    \n",
    "    data = binary(data, 'sex', {'F':0, 'M':1})\n",
    "    data = binary(data, 'famsize', {'LE3':0, 'GT3':1})\n",
    "    data = binary(data, 'Pstatus', {'A':0, 'T':1})\n",
    "    data = binary(data, 'G3', {'FAIL':0, 'PASS':1})    \n",
    "    return data\n",
    "\n",
    "# get a copy of the data set and transform it\n",
    "reg_data = transform(cleaned.copy())\n",
    "\n",
    "# visualize transformed data\n",
    "with pd.option_context('display.max_rows', 5, 'display.max_columns', None):\n",
    "    display(reg_data)\n",
    "\n",
    "# split transformed data into features and targets\n",
    "reg_features = reg_data.loc[:, reg_data.columns.difference(target_variables)]\n",
    "reg_targets = reg_data.loc[:, target_variables]\n",
    "\n",
    "# train test split the transformed data\n",
    "reg_X_train_frame, reg_X_test_frame, reg_Y_train_frame, reg_Y_test_frame = train_test_split(reg_features, reg_targets, test_size=test_size, train_size=training_size, random_state=randomSeed, shuffle=False)\n",
    "    \n",
    "# convert to numpy matrices\n",
    "reg_X_train = reg_X_train_frame.values\n",
    "reg_X_test = reg_X_test_frame.values\n",
    "reg_Y_train = reg_Y_train_frame.values\n",
    "reg_Y_test = reg_Y_test_frame.values\n",
    "# make Y arrays one-dimensional\n",
    "reg_Y_train =  np.ravel(reg_Y_train)\n",
    "reg_Y_test = np.ravel(reg_Y_test)\n",
    "\n",
    "# apply scaling\n",
    "scaler = StandardScaler()\n",
    "# learn the mean and std.dev of variables from training data\n",
    "# then use the learned values to transform training data\n",
    "reg_X_train = scaler.fit_transform(reg_X_train, reg_Y_train)    \n",
    "# transform the test data with the scaler that was trained on the training data\n",
    "reg_X_test = scaler.transform(reg_X_test)\n"
   ]
  },
  {
   "cell_type": "markdown",
   "metadata": {},
   "source": [
    "## 3.2 Build regression models "
   ]
  },
  {
   "cell_type": "code",
   "execution_count": 24,
   "metadata": {},
   "outputs": [
    {
     "data": {
      "text/plain": [
       "GridSearchCV(cv=10, error_score='raise',\n",
       "       estimator=LogisticRegression(C=1.0, class_weight=None, dual=False, fit_intercept=True,\n",
       "          intercept_scaling=1, max_iter=100, multi_class='ovr', n_jobs=1,\n",
       "          penalty='l2', random_state=None, solver='liblinear', tol=0.0001,\n",
       "          verbose=0, warm_start=False),\n",
       "       fit_params=None, iid=True, n_jobs=-1,\n",
       "       param_grid={'C': [1e-06, 1e-05, 0.0001, 0.001, 0.01, 0.1, 1, 10, 100, 1000]},\n",
       "       pre_dispatch='2*n_jobs', refit=True, return_train_score='warn',\n",
       "       scoring=None, verbose=0)"
      ]
     },
     "execution_count": 24,
     "metadata": {},
     "output_type": "execute_result"
    }
   ],
   "source": [
    "models = {\n",
    "    \"reg\": None,\n",
    "    \"reg_cv\": None,\n",
    "    \"reg_rfe\": None,\n",
    "    \"reg_cv_rfe\": None,\n",
    "}\n",
    "\n",
    "# Evaluation\n",
    "def report_overfitting(model_name, X_train, X_test):\n",
    "    print(\"Train accuracy:\", models[model_name].score(X_train, reg_Y_train))\n",
    "    print(\"Test accuracy:\", models[model_name].score(X_test, reg_Y_test))\n",
    "    \n",
    "def report_accuracy(model_name, X_test):\n",
    "    print(classification_report(reg_Y_test, models[model_name].predict(X_test)))\n",
    "    \n",
    "models[\"reg\"] = LogisticRegression()\n",
    "models[\"reg\"].fit(reg_X_train, reg_Y_train)\n",
    "\n",
    "params = {'C': [pow(10, x) for x in range(-6, 4)]}\n",
    "models[\"reg_cv\"] = GridSearchCV(LogisticRegression(), params, cv=10, n_jobs=-1)\n",
    "models[\"reg_cv\"].fit(reg_X_train, reg_Y_train)"
   ]
  },
  {
   "cell_type": "markdown",
   "metadata": {},
   "source": [
    "### a. Report which variables are included in the regression model."
   ]
  },
  {
   "cell_type": "code",
   "execution_count": 25,
   "metadata": {},
   "outputs": [
    {
     "name": "stdout",
     "output_type": "stream",
     "text": [
      "Index(['Dalc', 'Fedu', 'Fjob_at_home', 'Fjob_health', 'Fjob_other',\n",
      "       'Fjob_services', 'Fjob_teacher', 'G1', 'G2', 'Medu', 'Mjob_at_home',\n",
      "       'Mjob_health', 'Mjob_other', 'Mjob_services', 'Mjob_teacher', 'Pstatus',\n",
      "       'Walc', 'absences', 'activities', 'address_R', 'address_U', 'age',\n",
      "       'failures', 'famrel', 'famsize', 'famsup', 'freetime', 'goout',\n",
      "       'guardian_father', 'guardian_mother', 'guardian_other', 'health',\n",
      "       'higher', 'internet', 'nursery', 'paid', 'reason_-', 'reason_course',\n",
      "       'reason_home', 'reason_other', 'reason_reputation', 'romantic',\n",
      "       'school_-', 'school_DCHS', 'school_THS', 'schoolsup', 'sex',\n",
      "       'studytime', 'traveltime'],\n",
      "      dtype='object')\n"
     ]
    }
   ],
   "source": [
    "feature_names = reg_X_train_frame.columns\n",
    "print(feature_names)"
   ]
  },
  {
   "cell_type": "markdown",
   "metadata": {},
   "source": [
    "### b. Report the top-5 important variables."
   ]
  },
  {
   "cell_type": "code",
   "execution_count": 26,
   "metadata": {},
   "outputs": [
    {
     "name": "stdout",
     "output_type": "stream",
     "text": [
      "G2 4.459714248715304\n",
      "G1 1.2174390063689162\n",
      "failures -0.4579282270370132\n",
      "Fjob_health -0.32779220697922123\n",
      "nursery -0.2861715807809837\n"
     ]
    }
   ],
   "source": [
    "coef = models[\"reg\"].coef_[0]\n",
    "indices = np.argsort(np.absolute(coef))\n",
    "indices = np.flip(indices, axis=0)\n",
    "top_5 = [(feature_names[i], coef[i]) for i in indices[:5]]\n",
    "for feature, coefficient in top_5:\n",
    "    print(feature, coefficient) "
   ]
  },
  {
   "cell_type": "markdown",
   "metadata": {},
   "source": [
    "### c. Report any sign of overfitting."
   ]
  },
  {
   "cell_type": "code",
   "execution_count": 27,
   "metadata": {},
   "outputs": [
    {
     "name": "stdout",
     "output_type": "stream",
     "text": [
      "Without GridSearchCV\n",
      "Train accuracy: 0.9353293413173652\n",
      "Test accuracy: 0.8516746411483254\n",
      "\n",
      "With GridSearchCV\n",
      "Train accuracy: 0.9341317365269461\n",
      "Test accuracy: 0.8421052631578947\n"
     ]
    }
   ],
   "source": [
    "print(\"Without GridSearchCV\")\n",
    "report_overfitting(\"reg\", reg_X_train, reg_X_test)\n",
    "\n",
    "print(\"\\nWith GridSearchCV\")\n",
    "report_overfitting(\"reg_cv\", reg_X_train, reg_X_test)"
   ]
  },
  {
   "cell_type": "markdown",
   "metadata": {},
   "source": [
    "### d. What are the parameters used?"
   ]
  },
  {
   "cell_type": "code",
   "execution_count": 28,
   "metadata": {},
   "outputs": [
    {
     "name": "stdout",
     "output_type": "stream",
     "text": [
      "Parameters:\n",
      "{'C': 1.0, 'class_weight': None, 'dual': False, 'fit_intercept': True, 'intercept_scaling': 1, 'max_iter': 100, 'multi_class': 'ovr', 'n_jobs': 1, 'penalty': 'l2', 'random_state': None, 'solver': 'liblinear', 'tol': 0.0001, 'verbose': 0, 'warm_start': False} \n",
      "\n",
      "These parameters are used because they are the defaults.\n",
      "\n",
      "Optimal parameters:\n",
      "{'C': 100} \n",
      "\n",
      "Logistic regression is used because we have a binary classification problem.\n"
     ]
    }
   ],
   "source": [
    "# What are the parameters?\n",
    "print(\"Parameters:\")\n",
    "print(models[\"reg\"].get_params(), \"\\n\")\n",
    "    \n",
    "# Explain your decision.\n",
    "print(\"These parameters are used because they are the defaults.\\n\")\n",
    "\n",
    "# What are the optimal parameters?\n",
    "print(\"Optimal parameters:\")\n",
    "print(models[\"reg_cv\"].best_params_, \"\\n\")\n",
    "\n",
    "# Which regression function is being used?\n",
    "print(\"Logistic regression is used because we have a binary classification problem.\")"
   ]
  },
  {
   "cell_type": "markdown",
   "metadata": {},
   "source": [
    "### e. What is the classification accuracy on training and test datasets?"
   ]
  },
  {
   "cell_type": "code",
   "execution_count": 29,
   "metadata": {},
   "outputs": [
    {
     "name": "stdout",
     "output_type": "stream",
     "text": [
      "Without GridSearchCV\n",
      "             precision    recall  f1-score   support\n",
      "\n",
      "          0       0.81      0.92      0.86       106\n",
      "          1       0.91      0.78      0.84       103\n",
      "\n",
      "avg / total       0.86      0.85      0.85       209\n",
      "\n",
      "\n",
      "With GridSearchCV\n",
      "             precision    recall  f1-score   support\n",
      "\n",
      "          0       0.80      0.92      0.86       106\n",
      "          1       0.91      0.76      0.83       103\n",
      "\n",
      "avg / total       0.85      0.84      0.84       209\n",
      "\n"
     ]
    }
   ],
   "source": [
    "print(\"Without GridSearchCV\")\n",
    "report_accuracy(\"reg\", reg_X_test)\n",
    "\n",
    "print(\"\\nWith GridSearchCV\")\n",
    "report_accuracy(\"reg_cv\", reg_X_test)"
   ]
  },
  {
   "cell_type": "markdown",
   "metadata": {},
   "source": [
    "## 3.3 Build another regression model using the subset of inputs selected by RFE and selection by model methods"
   ]
  },
  {
   "cell_type": "code",
   "execution_count": 30,
   "metadata": {},
   "outputs": [
    {
     "data": {
      "text/plain": [
       "GridSearchCV(cv=10, error_score='raise',\n",
       "       estimator=LogisticRegression(C=1.0, class_weight=None, dual=False, fit_intercept=True,\n",
       "          intercept_scaling=1, max_iter=100, multi_class='ovr', n_jobs=1,\n",
       "          penalty='l2', random_state=None, solver='liblinear', tol=0.0001,\n",
       "          verbose=0, warm_start=False),\n",
       "       fit_params=None, iid=True, n_jobs=-1,\n",
       "       param_grid={'C': [1e-06, 1e-05, 0.0001, 0.001, 0.01, 0.1, 1, 10, 100, 1000]},\n",
       "       pre_dispatch='2*n_jobs', refit=True, return_train_score='warn',\n",
       "       scoring=None, verbose=0)"
      ]
     },
     "execution_count": 30,
     "metadata": {},
     "output_type": "execute_result"
    }
   ],
   "source": [
    "rfe = RFECV(estimator = LogisticRegression(), cv=10)\n",
    "rfe.fit(reg_X_train, reg_Y_train)\n",
    "reg_X_train_sel = rfe.transform(reg_X_train)\n",
    "reg_X_test_sel = rfe.transform(reg_X_test)\n",
    "\n",
    "models[\"reg_rfe\"] = LogisticRegression()\n",
    "models[\"reg_rfe\"].fit(reg_X_train_sel, reg_Y_train)\n",
    "\n",
    "# hyperparameters = dict(C=np.logspace(0, 4, 10), penalty=['l1', 'l2'])\n",
    "# models[\"reg_cv_rfe\"] = GridSearchCV(LogisticRegression(), hyperparameters, cv=10, n_jobs=-1)\n",
    "# models[\"reg_cv_rfe\"].fit(reg_X_train_sel, reg_Y_train)\n",
    "# models[\"reg_cv_rfe\"] = LogisticRegressionCV()\n",
    "# models[\"reg_cv_rfe\"].fit(reg_X_train_sel, reg_Y_train)\n",
    "\n",
    "params = {'C': [pow(10, x) for x in range(-6, 4)]}\n",
    "models[\"reg_cv_rfe\"] = GridSearchCV(LogisticRegression(), params, cv=10, n_jobs=-1)\n",
    "models[\"reg_cv_rfe\"].fit(reg_X_train_sel, reg_Y_train)"
   ]
  },
  {
   "cell_type": "markdown",
   "metadata": {},
   "source": [
    "###  a. Report which variables are included in the regression model."
   ]
  },
  {
   "cell_type": "code",
   "execution_count": 31,
   "metadata": {},
   "outputs": [
    {
     "name": "stdout",
     "output_type": "stream",
     "text": [
      "G1\n",
      "G2\n"
     ]
    }
   ],
   "source": [
    "for boolean, feature in zip(rfe.support_, feature_names):\n",
    "    if boolean:\n",
    "        print(feature)"
   ]
  },
  {
   "cell_type": "markdown",
   "metadata": {},
   "source": [
    "### b. Report the top-5 important variables."
   ]
  },
  {
   "cell_type": "code",
   "execution_count": 32,
   "metadata": {},
   "outputs": [
    {
     "name": "stdout",
     "output_type": "stream",
     "text": [
      "['G1', 'G2', 'failures', 'school_THS', 'Fjob_health']\n"
     ]
    }
   ],
   "source": [
    "rfe_sorted_features = []\n",
    "for i in range(len(rfe.ranking_)):\n",
    "    for index in range(len(rfe.ranking_)):\n",
    "        rank = rfe.ranking_[index]\n",
    "        if (rank == i+1):\n",
    "            rfe_sorted_features.append(feature_names[index])\n",
    "print(rfe_sorted_features[:5])"
   ]
  },
  {
   "cell_type": "markdown",
   "metadata": {},
   "source": [
    "### c. Report any sign of overfitting."
   ]
  },
  {
   "cell_type": "code",
   "execution_count": 33,
   "metadata": {},
   "outputs": [
    {
     "name": "stdout",
     "output_type": "stream",
     "text": [
      "Without GridSearchCV\n",
      "Train accuracy: 0.9173652694610779\n",
      "Test accuracy: 0.8899521531100478\n",
      "\n",
      "With GridSearchCV\n",
      "Train accuracy: 0.9233532934131736\n",
      "Test accuracy: 0.8995215311004785\n"
     ]
    }
   ],
   "source": [
    "print(\"Without GridSearchCV\")\n",
    "report_overfitting(\"reg_rfe\", reg_X_train_sel, reg_X_test_sel)\n",
    "\n",
    "print(\"\\nWith GridSearchCV\")\n",
    "report_overfitting(\"reg_cv_rfe\", reg_X_train_sel, reg_X_test_sel)"
   ]
  },
  {
   "cell_type": "markdown",
   "metadata": {},
   "source": [
    "### d. What is the classification accuracy on training and test datasets?"
   ]
  },
  {
   "cell_type": "code",
   "execution_count": 34,
   "metadata": {},
   "outputs": [
    {
     "name": "stdout",
     "output_type": "stream",
     "text": [
      "Without GirdSearhCV\n",
      "             precision    recall  f1-score   support\n",
      "\n",
      "          0       0.89      0.90      0.89       106\n",
      "          1       0.89      0.88      0.89       103\n",
      "\n",
      "avg / total       0.89      0.89      0.89       209\n",
      "\n",
      "With GirdSearhCV\n",
      "             precision    recall  f1-score   support\n",
      "\n",
      "          0       0.89      0.92      0.90       106\n",
      "          1       0.91      0.88      0.90       103\n",
      "\n",
      "avg / total       0.90      0.90      0.90       209\n",
      "\n"
     ]
    }
   ],
   "source": [
    "print(\"Without GirdSearhCV\")\n",
    "report_accuracy(\"reg_rfe\", reg_X_test_sel)\n",
    "\n",
    "print(\"With GirdSearhCV\")\n",
    "report_accuracy(\"reg_cv_rfe\", reg_X_test_sel)"
   ]
  },
  {
   "cell_type": "markdown",
   "metadata": {},
   "source": [
    "## 3.4 Which of the regression models appears to be better?"
   ]
  },
  {
   "cell_type": "code",
   "execution_count": 35,
   "metadata": {},
   "outputs": [
    {
     "name": "stdout",
     "output_type": "stream",
     "text": [
      "Comparing all regression models f score, regression with RFE and GridsearchCV produces the best accuracy and f-score.\n",
      "Different accuracies, different number of variables, and different learned parameters.\n",
      "GridSearchCV determines the optimal hyperparameters which could influence the learned parameters. RFE eliminates most variables.\n"
     ]
    }
   ],
   "source": [
    "# Use comparison statistics.\n",
    "print(\"Comparing all regression models f score, regression with RFE and GridsearchCV produces the best accuracy and f-score.\")\n",
    "\n",
    "# Is there any difference between two models (i.e one with selected variables and another with all variables)? \n",
    "print(\"Different accuracies, different number of variables, and different learned parameters.\")\n",
    "\n",
    "# Explain why those changes may have happened.\n",
    "print(\"GridSearchCV determines the optimal hyperparameters which could influence the learned parameters. RFE eliminates most variables.\")"
   ]
  },
  {
   "cell_type": "markdown",
   "metadata": {},
   "source": [
    "## 3.5 From the better model, can you identify which students to target? "
   ]
  },
  {
   "cell_type": "code",
   "execution_count": 36,
   "metadata": {},
   "outputs": [
    {
     "name": "stdout",
     "output_type": "stream",
     "text": [
      "Good G1 and G2 score with low number of failures.\n"
     ]
    }
   ],
   "source": [
    "# Can you provide some descriptive summary of those students?\n",
    "print(\"Good G1 and G2 score with low number of failures.\")"
   ]
  },
  {
   "cell_type": "code",
   "execution_count": 37,
   "metadata": {},
   "outputs": [
    {
     "name": "stdout",
     "output_type": "stream",
     "text": [
      "{'precision': 0.91, 'recall': 0.883495145631068, 'f1': 0.896551724137931, 'accuracy': 0.8995215311004785, 'ROC': (array([0.        , 0.08490566, 1.        ]), array([0.        , 0.88349515, 1.        ]), array([2, 1, 0], dtype=int64)), 'AUC': 0.8992947426268547, 'most_important_features': ['G1', 'G2', 'failures', 'school_THS', 'Fjob_health']}\n"
     ]
    }
   ],
   "source": [
    "# Nominate RFE as best model\n",
    "accuracy_overview[\"regression\"] = format_accuracy_overview(reg_Y_test, models[\"reg_cv_rfe\"].predict(reg_X_test_sel), rfe_sorted_features[:5])\n",
    "print(accuracy_overview[\"regression\"])"
   ]
  },
  {
   "cell_type": "markdown",
   "metadata": {},
   "source": [
    "---\n",
    "## Task 4. Predictive Modeling Using Neural Networks\n",
    "\n",
    "(5.5 marks)"
   ]
  },
  {
   "cell_type": "code",
   "execution_count": 38,
   "metadata": {},
   "outputs": [],
   "source": [
    "Xtr_nn, ytr_nn = reg_X_train, reg_Y_train\n",
    "Xte_nn, yte_nn = reg_X_test, reg_Y_test"
   ]
  },
  {
   "cell_type": "markdown",
   "metadata": {},
   "source": [
    "### 1. Build a Neural Network model using the default setting."
   ]
  },
  {
   "cell_type": "code",
   "execution_count": 39,
   "metadata": {},
   "outputs": [],
   "source": [
    "mlp = MLPClassifier().fit(Xtr_nn, ytr_nn)"
   ]
  },
  {
   "cell_type": "markdown",
   "metadata": {},
   "source": [
    "#### a. What is the network architecture of the model?"
   ]
  },
  {
   "cell_type": "code",
   "execution_count": 40,
   "metadata": {},
   "outputs": [
    {
     "name": "stdout",
     "output_type": "stream",
     "text": [
      "the default neural network has 1 hidden layers(s) of size (100,) which uses relu activations\n"
     ]
    }
   ],
   "source": [
    "print(f\"the default neural network has {len(mlp.hidden_layer_sizes)} hidden layers(s) of size {mlp.hidden_layer_sizes} which uses {mlp.activation} activations\")"
   ]
  },
  {
   "cell_type": "markdown",
   "metadata": {},
   "source": [
    "#### b. How many iterations are needed to train this network?"
   ]
  },
  {
   "cell_type": "code",
   "execution_count": 41,
   "metadata": {},
   "outputs": [
    {
     "name": "stdout",
     "output_type": "stream",
     "text": [
      "the default neural network trained for 173 iterations\n"
     ]
    }
   ],
   "source": [
    "print(f\"the default neural network trained for {len(mlp.loss_curve_)} iterations\")"
   ]
  },
  {
   "cell_type": "markdown",
   "metadata": {},
   "source": [
    "#### c. Do you see any sign of over-fitting?"
   ]
  },
  {
   "cell_type": "markdown",
   "metadata": {},
   "source": [
    "Over fitting is evident due to the almost perfect score on the training set and a score of approximately 87% on the test set."
   ]
  },
  {
   "cell_type": "code",
   "execution_count": 42,
   "metadata": {},
   "outputs": [
    {
     "data": {
      "text/plain": [
       "(0.9988023952095808, 0.84688995215311)"
      ]
     },
     "execution_count": 42,
     "metadata": {},
     "output_type": "execute_result"
    }
   ],
   "source": [
    "mlp.score(Xtr_nn, ytr_nn), mlp.score(Xte_nn, yte_nn)"
   ]
  },
  {
   "cell_type": "code",
   "execution_count": 43,
   "metadata": {},
   "outputs": [
    {
     "data": {
      "text/plain": [
       "[<matplotlib.lines.Line2D at 0x137d0b6f7b8>]"
      ]
     },
     "execution_count": 43,
     "metadata": {},
     "output_type": "execute_result"
    },
    {
     "data": {
      "image/png": "[encoded data removed]",
      "text/plain": [
       "<Figure size 432x288 with 1 Axes>"
      ]
     },
     "metadata": {},
     "output_type": "display_data"
    }
   ],
   "source": [
    "plt.plot(mlp.loss_curve_)"
   ]
  },
  {
   "cell_type": "markdown",
   "metadata": {},
   "source": [
    "#### d. Did the training process converge and result in the best model?"
   ]
  },
  {
   "cell_type": "markdown",
   "metadata": {},
   "source": [
    "The training process converged and then proceeded to overfit, this is seen by the final loss of the model being higher than the best loss"
   ]
  },
  {
   "cell_type": "code",
   "execution_count": 44,
   "metadata": {},
   "outputs": [
    {
     "data": {
      "text/plain": [
       "(0.022598285692443074, 0.022599943947803007)"
      ]
     },
     "execution_count": 44,
     "metadata": {},
     "output_type": "execute_result"
    }
   ],
   "source": [
    "mlp.best_loss_, mlp.loss_"
   ]
  },
  {
   "cell_type": "markdown",
   "metadata": {},
   "source": [
    "#### e. What is the classification accuracy on the training and test datasets?"
   ]
  },
  {
   "cell_type": "code",
   "execution_count": 45,
   "metadata": {},
   "outputs": [
    {
     "name": "stdout",
     "output_type": "stream",
     "text": [
      "The classification on the training set compared to the test set is 0.9988023952095808/0.84688995215311\n"
     ]
    }
   ],
   "source": [
    "print(f\"The classification on the training set compared to the test set is {mlp.score(Xtr_nn, ytr_nn)}/{mlp.score(Xte_nn, yte_nn)}\")"
   ]
  },
  {
   "cell_type": "markdown",
   "metadata": {},
   "source": [
    "### 2. Refine this network by refining is with GridSearchCV."
   ]
  },
  {
   "cell_type": "markdown",
   "metadata": {},
   "source": [
    "In this section a neural network's hyperparameters are tuned using GridSearchCV.\n",
    "\n",
    "* `hidden_layer_size` was optimized to ensure that that a the complexity of the model was appropriate for the problem\n",
    "* `activation` was optimized to ensure that the activation function of the model is capaable of representing the problm. Relu is max(0, x) and allows only relevant signals to pass through to the next layer. tanh is good when the sign of the signal is relevant but the magnitude needs to be limited. logistic is a mix of the two.\n",
    "* `learning_rate` and `learning_rate_init` were used to ensure that the network had the ability to fine tune itself to find the best minima.\n",
    "\n",
    "source: https://www.quora.com/How-should-I-choose-a-proper-activation-function-for-the-neural-network?share=1"
   ]
  },
  {
   "cell_type": "code",
   "execution_count": 46,
   "metadata": {},
   "outputs": [],
   "source": [
    "params = {\n",
    "    \"hidden_layer_sizes\": [(50), (100), (100, 100)],\n",
    "    \"activation\": ['logistic', 'tanh', 'relu'],\n",
    "    \"learning_rate_init\": [0.0001, 0.001, 0.1, 0.5, 1],\n",
    "    \"learning_rate\": [\"constant\", \"invscaling\", \"adaptive\"]\n",
    "}\n",
    "\n",
    "gs_mlp = GridSearchCV(MLPClassifier(max_iter=1000), params, n_jobs=-1).fit(Xtr_nn, ytr_nn)"
   ]
  },
  {
   "cell_type": "code",
   "execution_count": 47,
   "metadata": {},
   "outputs": [
    {
     "data": {
      "text/plain": [
       "[<matplotlib.lines.Line2D at 0x137d0417c50>]"
      ]
     },
     "execution_count": 47,
     "metadata": {},
     "output_type": "execute_result"
    },
    {
     "data": {
      "image/png": "[encoded data removed]",
      "text/plain": [
       "<Figure size 432x288 with 1 Axes>"
      ]
     },
     "metadata": {},
     "output_type": "display_data"
    }
   ],
   "source": [
    "plt.plot(gs_mlp.best_estimator_.loss_curve_)"
   ]
  },
  {
   "cell_type": "markdown",
   "metadata": {},
   "source": [
    "The neural network using GridSearchCV showed no sign of improvement over the default parameters."
   ]
  },
  {
   "cell_type": "code",
   "execution_count": 48,
   "metadata": {},
   "outputs": [
    {
     "data": {
      "text/plain": [
       "(0.9952095808383233, 0.8229665071770335)"
      ]
     },
     "execution_count": 48,
     "metadata": {},
     "output_type": "execute_result"
    }
   ],
   "source": [
    "gs_mlp.score(Xtr_nn, ytr_nn), gs_mlp.score(Xte_nn, yte_nn)"
   ]
  },
  {
   "cell_type": "code",
   "execution_count": 49,
   "metadata": {},
   "outputs": [
    {
     "name": "stdout",
     "output_type": "stream",
     "text": [
      "the default neural network has hidden layers(s) of size (100, 100) which uses tanh activations\n"
     ]
    }
   ],
   "source": [
    "print(f\"the default neural network has hidden layers(s) of size {gs_mlp.best_estimator_.hidden_layer_sizes} which uses {gs_mlp.best_estimator_.activation} activations\")"
   ]
  },
  {
   "cell_type": "code",
   "execution_count": 50,
   "metadata": {},
   "outputs": [
    {
     "name": "stdout",
     "output_type": "stream",
     "text": [
      "the neural network was trained in 612 iterations\n"
     ]
    }
   ],
   "source": [
    "print(f\"the neural network was trained in {len(gs_mlp.best_estimator_.loss_curve_)} iterations\")"
   ]
  },
  {
   "cell_type": "markdown",
   "metadata": {},
   "source": [
    "### 3. Build  another Neural Network with inputs selected from RFE with regression.\n",
    "\n",
    "(Use the best model generated in Task 3) and selection with decision tree (use the best model from Task 2)."
   ]
  },
  {
   "cell_type": "code",
   "execution_count": 51,
   "metadata": {},
   "outputs": [],
   "source": [
    "Xtr_nn_rfe, Xte_nn_rfe = rfe.transform(reg_X_train), rfe.transform(reg_X_test)\n",
    "ytr_nn_rfe, yte_nn_rfe = ytr_nn, yte_nn"
   ]
  },
  {
   "cell_type": "markdown",
   "metadata": {},
   "source": [
    "#### a. Did feature selection help here? Any changes in network architecture? What inputs are being used?"
   ]
  },
  {
   "cell_type": "markdown",
   "metadata": {},
   "source": [
    "The inputs being used are G1 and G2, feature selection has increased performance and training time measurably, requiring only 100 epochs. The architecture used is is the default."
   ]
  },
  {
   "cell_type": "code",
   "execution_count": 52,
   "metadata": {},
   "outputs": [
    {
     "data": {
      "text/plain": [
       "'train acc:0.9221556886227545 test acc: 0.8851674641148325'"
      ]
     },
     "metadata": {},
     "output_type": "display_data"
    },
    {
     "data": {
      "text/plain": [
       "'best loss: 0.1916956868343936 loss:0.1916956868343936'"
      ]
     },
     "metadata": {},
     "output_type": "display_data"
    },
    {
     "data": {
      "text/plain": [
       "MLPClassifier(activation='relu', alpha=0.0001, batch_size='auto', beta_1=0.9,\n",
       "       beta_2=0.999, early_stopping=False, epsilon=1e-08,\n",
       "       hidden_layer_sizes=(100,), learning_rate='constant',\n",
       "       learning_rate_init=0.001, max_iter=1000, momentum=0.9,\n",
       "       nesterovs_momentum=True, power_t=0.5, random_state=None,\n",
       "       shuffle=True, solver='adam', tol=0.0001, validation_fraction=0.1,\n",
       "       verbose=False, warm_start=False)"
      ]
     },
     "metadata": {},
     "output_type": "display_data"
    },
    {
     "data": {
      "image/png": "[encoded data removed]",
      "text/plain": [
       "<Figure size 432x288 with 1 Axes>"
      ]
     },
     "metadata": {},
     "output_type": "display_data"
    }
   ],
   "source": [
    "mlp_rfe = MLPClassifier(max_iter=1000).fit(Xtr_nn_rfe, ytr_nn_rfe)\n",
    "\n",
    "plt.plot(mlp_rfe.loss_curve_)\n",
    "display(\n",
    "    f\"train acc:{mlp_rfe.score(Xtr_nn_rfe, ytr_nn_rfe)} test acc: {mlp_rfe.score(Xte_nn_rfe, yte_nn_rfe)}\",\n",
    "    f\"best loss: {mlp_rfe.best_loss_} loss:{mlp_rfe.loss_}\",\n",
    "    mlp_rfe\n",
    ")"
   ]
  },
  {
   "cell_type": "markdown",
   "metadata": {},
   "source": [
    "#### b. What is the classification accuracy on the train and test datasets? Any improvements?"
   ]
  },
  {
   "cell_type": "code",
   "execution_count": 53,
   "metadata": {},
   "outputs": [
    {
     "data": {
      "text/plain": [
       "'train acc:0.9221556886227545 test acc: 0.8851674641148325'"
      ]
     },
     "execution_count": 53,
     "metadata": {},
     "output_type": "execute_result"
    }
   ],
   "source": [
    "f\"train acc:{mlp_rfe.score(Xtr_nn_rfe, ytr_nn_rfe)} test acc: {mlp_rfe.score(Xte_nn_rfe, yte_nn_rfe)}\""
   ]
  },
  {
   "cell_type": "markdown",
   "metadata": {},
   "source": [
    "#### c. How many iteration are needed to train this network?"
   ]
  },
  {
   "cell_type": "code",
   "execution_count": 54,
   "metadata": {},
   "outputs": [
    {
     "name": "stdout",
     "output_type": "stream",
     "text": [
      "the model was trained in only 95 iterations\n"
     ]
    }
   ],
   "source": [
    "print(f\"the model was trained in only {len(mlp_rfe.loss_curve_)} iterations\")"
   ]
  },
  {
   "cell_type": "markdown",
   "metadata": {},
   "source": [
    "#### d. Do you see any sign of over-fitting?"
   ]
  },
  {
   "cell_type": "markdown",
   "metadata": {},
   "source": [
    "No, the difference between the train and test performance for the GridSearch/RFE model only approximately 4%, this is insignificant and is much lower than the 16% difference found in the pure GridSearch model."
   ]
  },
  {
   "cell_type": "markdown",
   "metadata": {},
   "source": [
    "#### e. Did the training process converge and result in the best model?"
   ]
  },
  {
   "cell_type": "markdown",
   "metadata": {},
   "source": [
    "Yes, the training process converged."
   ]
  },
  {
   "cell_type": "markdown",
   "metadata": {},
   "source": [
    "#### f. Use GridSearchCV to tune the network to see whether the change in network architecture can further improve the performance."
   ]
  },
  {
   "cell_type": "code",
   "execution_count": 55,
   "metadata": {},
   "outputs": [
    {
     "data": {
      "text/plain": [
       "'train acc:0.9269461077844311 test acc: 0.8755980861244019'"
      ]
     },
     "metadata": {},
     "output_type": "display_data"
    },
    {
     "data": {
      "text/plain": [
       "'best loss: 0.1914733923491039 loss:0.1959313025488057'"
      ]
     },
     "metadata": {},
     "output_type": "display_data"
    },
    {
     "data": {
      "text/plain": [
       "GridSearchCV(cv=None, error_score='raise',\n",
       "       estimator=MLPClassifier(activation='relu', alpha=0.0001, batch_size='auto', beta_1=0.9,\n",
       "       beta_2=0.999, early_stopping=False, epsilon=1e-08,\n",
       "       hidden_layer_sizes=(100,), learning_rate='constant',\n",
       "       learning_rate_init=0.001, max_iter=1000, momentum=0.9,\n",
       "       nesterovs_momentum=True, power_t=0.5, random_state=None,\n",
       "       shuffle=True, solver='adam', tol=0.0001, validation_fraction=0.1,\n",
       "       verbose=False, warm_start=False),\n",
       "       fit_params=None, iid=True, n_jobs=-1,\n",
       "       param_grid={'hidden_layer_sizes': [50, 100, (100, 100)], 'activation': ['logistic', 'tanh', 'relu'], 'learning_rate_init': [0.0001, 0.001, 0.1, 0.5, 1], 'learning_rate': ['constant', 'invscaling', 'adaptive']},\n",
       "       pre_dispatch='2*n_jobs', refit=True, return_train_score='warn',\n",
       "       scoring=None, verbose=0)"
      ]
     },
     "metadata": {},
     "output_type": "display_data"
    },
    {
     "data": {
      "image/png": "[encoded data removed]",
      "text/plain": [
       "<Figure size 432x288 with 1 Axes>"
      ]
     },
     "metadata": {},
     "output_type": "display_data"
    }
   ],
   "source": [
    "params = {\n",
    "    \"hidden_layer_sizes\": [(50), (100), (100, 100)],\n",
    "    \"activation\": ['logistic', 'tanh', 'relu'],\n",
    "    \"learning_rate_init\": [0.0001, 0.001, 0.1, 0.5, 1],\n",
    "    \"learning_rate\": [\"constant\", \"invscaling\", \"adaptive\"]\n",
    "}\n",
    "\n",
    "gs_mlp_rfe = GridSearchCV(MLPClassifier(max_iter=1000), params, n_jobs=-1).fit(Xtr_nn_rfe, ytr_nn_rfe)\n",
    "\n",
    "plt.plot(gs_mlp_rfe.best_estimator_.loss_curve_)\n",
    "display(\n",
    "    f\"train acc:{gs_mlp_rfe.score(Xtr_nn_rfe, ytr_nn_rfe)} test acc: {gs_mlp_rfe.score(Xte_nn_rfe, yte_nn_rfe)}\",\n",
    "    f\"best loss: {gs_mlp_rfe.best_estimator_.best_loss_} loss:{gs_mlp_rfe.best_estimator_.loss_}\",\n",
    "    gs_mlp_rfe\n",
    ")"
   ]
  },
  {
   "cell_type": "code",
   "execution_count": 56,
   "metadata": {},
   "outputs": [
    {
     "name": "stdout",
     "output_type": "stream",
     "text": [
      "The parameters used are the same as the those used for the earlier neural network gridsearch, for the same reasons. This model trained in 8 epochs and did not reach a stable minima.\n"
     ]
    }
   ],
   "source": [
    "print(f\"The parameters used are the same as the those used for the earlier neural network gridsearch, for the same reasons. This model trained in {len(gs_mlp_rfe.best_estimator_.loss_curve_)} epochs and did not reach a stable minima.\")"
   ]
  },
  {
   "cell_type": "code",
   "execution_count": 57,
   "metadata": {},
   "outputs": [],
   "source": [
    "accuracy_overview['neural_network'] = format_accuracy_overview(yte_nn_rfe, mlp_rfe.predict(Xte_nn_rfe), [])"
   ]
  },
  {
   "cell_type": "markdown",
   "metadata": {},
   "source": [
    "### 3. Using the comparison methods, Which appears to be better?\n",
    "\n",
    "From the better model, can you identify which customers to target? Can you provide some descriptive summary of those customers?"
   ]
  },
  {
   "cell_type": "code",
   "execution_count": 58,
   "metadata": {},
   "outputs": [
    {
     "name": "stdout",
     "output_type": "stream",
     "text": [
      "0.8640776699029126 0.8660010991023998\n",
      "0.896551724137931 0.8992947426268547\n",
      "0.8823529411764707 0.8850064114306649\n"
     ]
    }
   ],
   "source": [
    "print(accuracy_overview[\"decision_tree\"][\"f1\"], accuracy_overview[\"decision_tree\"][\"AUC\"])\n",
    "\n",
    "print(accuracy_overview[\"regression\"][\"f1\"], accuracy_overview[\"regression\"][\"AUC\"])\n",
    "\n",
    "print(accuracy_overview[\"neural_network\"][\"f1\"], accuracy_overview[\"neural_network\"][\"AUC\"])"
   ]
  },
  {
   "cell_type": "code",
   "execution_count": 71,
   "metadata": {},
   "outputs": [
    {
     "data": {
      "text/plain": [
       "49"
      ]
     },
     "execution_count": 71,
     "metadata": {},
     "output_type": "execute_result"
    }
   ],
   "source": [
    "len(Xtr_nn[0])"
   ]
  },
  {
   "cell_type": "code",
   "execution_count": 59,
   "metadata": {},
   "outputs": [
    {
     "data": {
      "text/plain": [
       "{'precision': 0.91,\n",
       " 'recall': 0.883495145631068,\n",
       " 'f1': 0.896551724137931,\n",
       " 'accuracy': 0.8995215311004785,\n",
       " 'ROC': (array([0.        , 0.08490566, 1.        ]),\n",
       "  array([0.        , 0.88349515, 1.        ]),\n",
       "  array([2, 1, 0], dtype=int64)),\n",
       " 'AUC': 0.8992947426268547,\n",
       " 'most_important_features': ['G1',\n",
       "  'G2',\n",
       "  'failures',\n",
       "  'school_THS',\n",
       "  'Fjob_health']}"
      ]
     },
     "execution_count": 59,
     "metadata": {},
     "output_type": "execute_result"
    }
   ],
   "source": [
    "accuracy_overview['regression']"
   ]
  },
  {
   "cell_type": "markdown",
   "metadata": {},
   "source": [
    "The modle wich performs the best is the logistic regression model. The regression model (like all other models) relies exclusively on the student's G1 and G2 scores."
   ]
  },
  {
   "cell_type": "markdown",
   "metadata": {},
   "source": [
    "---\n",
    "## Task 5. Comparing Predictive Models\n",
    "\n",
    "(4 marks)"
   ]
  },
  {
   "cell_type": "markdown",
   "metadata": {},
   "source": [
    "### 1. Using the comparison methods to compare the best decsision tree model, the best regression model..."
   ]
  },
  {
   "cell_type": "markdown",
   "metadata": {},
   "source": [
    "#### a. Discuss the findings led by (a) ROC Chart and Index; (b) Accuracy Score; (c) Classification Report."
   ]
  },
  {
   "cell_type": "code",
   "execution_count": 91,
   "metadata": {},
   "outputs": [
    {
     "name": "stdout",
     "output_type": "stream",
     "text": [
      "GridSearchCV + RFE + NN Classification Accuracy: 0.8755980861244019\n",
      "GridSearchCV + RFE + NN Classification Report\n",
      "              precision    recall  f1-score   support\n",
      "\n",
      "          0       0.88      0.88      0.88       106\n",
      "          1       0.87      0.87      0.87       103\n",
      "\n",
      "avg / total       0.88      0.88      0.88       209\n",
      "\n"
     ]
    }
   ],
   "source": [
    "print(f\"GridSearchCV + RFE + NN Classification Accuracy: {gs_mlp_rfe.score(Xte_nn_rfe, yte_nn_rfe)}\")\n",
    "print(\"GridSearchCV + RFE + NN Classification Report\\n\", classification_report(yte_nn_rfe, gs_mlp_rfe.predict(Xte_nn_rfe)))"
   ]
  },
  {
   "cell_type": "markdown",
   "metadata": {},
   "source": [
    "#### b. Do all the models agree on the customers' characteristics? How do they vary?"
   ]
  },
  {
   "cell_type": "code",
   "execution_count": 61,
   "metadata": {},
   "outputs": [
    {
     "name": "stdout",
     "output_type": "stream",
     "text": [
      "['G2', 'G1', 'Dalc', 'Fedu', 'Fjob']\n",
      "['G1', 'G2', 'failures', 'school_THS', 'Fjob_health']\n",
      "[]\n"
     ]
    }
   ],
   "source": [
    "print(accuracy_overview[\"decision_tree\"][\"most_important_features\"])\n",
    "print(accuracy_overview[\"regression\"][\"most_important_features\"])\n",
    "print(accuracy_overview[\"neural_network\"][\"most_important_features\"])"
   ]
  },
  {
   "cell_type": "markdown",
   "metadata": {},
   "source": [
    "All models agree that G2 and G1 are most important.\n",
    "\n",
    "Decisions tree only cares about G2 and G1."
   ]
  },
  {
   "cell_type": "markdown",
   "metadata": {},
   "source": [
    "### 2. Finally, based on all models and analysis, is there a particular model you will use in decision making?"
   ]
  },
  {
   "cell_type": "markdown",
   "metadata": {},
   "source": [
    "### 3. Can you summarise positives and negaitives of each modelling method based on this analysis?"
   ]
  },
  {
   "cell_type": "markdown",
   "metadata": {},
   "source": [
    "#### Decision tree\n",
    "**Pros:**\n",
    " - Very easy to interpret. The model can be summarized into 2 simple if then rules. As can be seen in the image at 2.2.d.\n",
    " - Is very robust. It can handle most data types. Only catagorical data has to be encoded.\n",
    " - Relatively fast training time.\n",
    "\n",
    "**Cons:**\n",
    " - Cannot handel complicated relationship. This is the reason why the accuracy is not higher than 86% on the test data.\n",
    " - Is very sensitive to overfitting. As can be seen in the default decision tree that had a 100% accuracy on the training set while it only had a 82% accuracy on the test set."
   ]
  },
  {
   "cell_type": "markdown",
   "metadata": {},
   "source": [
    "#### Regression\n",
    "**Pros:**\n",
    " - List item\n",
    " - \n",
    "\n",
    "**Cons:**\n",
    " - List item\n",
    " - "
   ]
  },
  {
   "cell_type": "markdown",
   "metadata": {},
   "source": [
    "#### Neural network\n",
    "**Pros:**\n",
    " - High predictive accuracy\n",
    " - Can work with data which isn't linearly seperable.\n",
    " - Can scale complexity of model to suit problem\n",
    " - Training can be parrallelized\n",
    "\n",
    "**Cons:**\n",
    " - Long training time\n",
    " - Blackbox, hard to interpret results\n",
    " - Many hyper parameters\n",
    " - Can overfit easily\n",
    " - requires appropriate preprocessing of data"
   ]
  },
  {
   "cell_type": "code",
   "execution_count": null,
   "metadata": {},
   "outputs": [],
   "source": []
  }
 ],
 "metadata": {
  "kernelspec": {
   "display_name": "Python [default]",
   "language": "python",
   "name": "python3"
  },
  "language_info": {
   "codemirror_mode": {
    "name": "ipython",
    "version": 3
   },
   "file_extension": ".py",
   "mimetype": "text/x-python",
   "name": "python",
   "nbconvert_exporter": "python",
   "pygments_lexer": "ipython3",
   "version": "3.6.5"
  }
 },
 "nbformat": 4,
 "nbformat_minor": 2
}
