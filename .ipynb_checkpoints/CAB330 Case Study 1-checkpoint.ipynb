{
 "cells": [
  {
   "cell_type": "markdown",
   "metadata": {},
   "source": [
    "# CAB330 Case Study 1: Organics\n",
    "\n",
    "A supermarket has just begun offering a line of organic products.\n",
    "\n",
    "The supermarket has a customer loyalty program.\n",
    "\n",
    "The supermarket provided coupons for the organic products to loyalty members.\n",
    "\n",
    "This is their story.\n",
    "\n",
    "---\n",
    "\n",
    "__*Your task is to determine which customers are likely to purchase recently offered organic products.*__\n",
    "\n",
    "---\n",
    "\n",
    "Class: CAB330\n",
    "\n",
    "Student: Christopher Ayling || christopher.ayling@connect.qut.edu.au\n",
    "\n",
    "Due Date: 10th September 2018\n",
    "\n",
    "Project Demo: Week 8 Lab\n",
    "\n",
    "Weighting: 25%"
   ]
  },
  {
   "cell_type": "markdown",
   "metadata": {},
   "source": [
    "## Setup"
   ]
  },
  {
   "cell_type": "code",
   "execution_count": 1,
   "metadata": {},
   "outputs": [],
   "source": [
    "%matplotlib inline\n",
    "%load_ext autoreload\n",
    "%autoreload 2"
   ]
  },
  {
   "cell_type": "code",
   "execution_count": 47,
   "metadata": {},
   "outputs": [],
   "source": [
    "# Manipulating Data\n",
    "import pandas as pd\n",
    "import numpy as np\n",
    "from sklearn.model_selection import train_test_split\n",
    "\n",
    "# Visualisations\n",
    "import seaborn as sns\n",
    "import matplotlib.pyplot as plt\n",
    "from IPython.display import SVG, Image\n",
    "import graphviz\n",
    "\n",
    "# Algorithms\n",
    "from sklearn.tree import DecisionTreeClassifier, DecisionTreeRegressor, export_graphviz\n",
    "from sklearn.ensemble import RandomForestClassifier, RandomForestRegressor\n",
    "from sklearn.linear_model import LinearRegression\n",
    "from sklearn.neural_network import MLPClassifier, MLPRegressor\n",
    "\n",
    "from sklearn.model_selection import GridSearchCV"
   ]
  },
  {
   "cell_type": "code",
   "execution_count": 3,
   "metadata": {},
   "outputs": [],
   "source": [
    "np.random.seed(330)"
   ]
  },
  {
   "cell_type": "markdown",
   "metadata": {},
   "source": [
    "## Data Loading"
   ]
  },
  {
   "cell_type": "code",
   "execution_count": 4,
   "metadata": {},
   "outputs": [
    {
     "data": {
      "text/html": [
       "<div>\n",
       "<style scoped>\n",
       "    .dataframe tbody tr th:only-of-type {\n",
       "        vertical-align: middle;\n",
       "    }\n",
       "\n",
       "    .dataframe tbody tr th {\n",
       "        vertical-align: top;\n",
       "    }\n",
       "\n",
       "    .dataframe thead th {\n",
       "        text-align: right;\n",
       "    }\n",
       "</style>\n",
       "<table border=\"1\" class=\"dataframe\">\n",
       "  <thead>\n",
       "    <tr style=\"text-align: right;\">\n",
       "      <th></th>\n",
       "      <th>CUSTID</th>\n",
       "      <th>GENDER</th>\n",
       "      <th>DOB</th>\n",
       "      <th>EDATE</th>\n",
       "      <th>AGE</th>\n",
       "      <th>AGEGRP1</th>\n",
       "      <th>AGEGRP2</th>\n",
       "      <th>TV_REG</th>\n",
       "      <th>NGROUP</th>\n",
       "      <th>NEIGHBORHOOD</th>\n",
       "      <th>LCDATE</th>\n",
       "      <th>ORGANICS</th>\n",
       "      <th>BILL</th>\n",
       "      <th>REGION</th>\n",
       "      <th>CLASS</th>\n",
       "      <th>ORGYN</th>\n",
       "      <th>AFFL</th>\n",
       "      <th>LTIME</th>\n",
       "    </tr>\n",
       "  </thead>\n",
       "  <tbody>\n",
       "    <tr>\n",
       "      <th>0</th>\n",
       "      <td>140</td>\n",
       "      <td>U</td>\n",
       "      <td>1921-09-16</td>\n",
       "      <td>1998-02-23</td>\n",
       "      <td>76.0</td>\n",
       "      <td>60-80</td>\n",
       "      <td>70-80</td>\n",
       "      <td>Wales &amp; West</td>\n",
       "      <td>C</td>\n",
       "      <td>16.0</td>\n",
       "      <td>1994-11-07</td>\n",
       "      <td>0</td>\n",
       "      <td>16000.00</td>\n",
       "      <td>Midlands</td>\n",
       "      <td>Gold</td>\n",
       "      <td>0</td>\n",
       "      <td>10.0</td>\n",
       "      <td>4.0</td>\n",
       "    </tr>\n",
       "    <tr>\n",
       "      <th>1</th>\n",
       "      <td>620</td>\n",
       "      <td>U</td>\n",
       "      <td>1949-02-12</td>\n",
       "      <td>1998-02-23</td>\n",
       "      <td>49.0</td>\n",
       "      <td>40-60</td>\n",
       "      <td>40-50</td>\n",
       "      <td>Wales &amp; West</td>\n",
       "      <td>D</td>\n",
       "      <td>35.0</td>\n",
       "      <td>1993-06-04</td>\n",
       "      <td>0</td>\n",
       "      <td>6000.00</td>\n",
       "      <td>Midlands</td>\n",
       "      <td>Gold</td>\n",
       "      <td>0</td>\n",
       "      <td>4.0</td>\n",
       "      <td>5.0</td>\n",
       "    </tr>\n",
       "    <tr>\n",
       "      <th>2</th>\n",
       "      <td>868</td>\n",
       "      <td>F</td>\n",
       "      <td>1927-11-27</td>\n",
       "      <td>1998-02-23</td>\n",
       "      <td>70.0</td>\n",
       "      <td>60-80</td>\n",
       "      <td>70-80</td>\n",
       "      <td>Wales &amp; West</td>\n",
       "      <td>D</td>\n",
       "      <td>27.0</td>\n",
       "      <td>1990-08-02</td>\n",
       "      <td>1</td>\n",
       "      <td>0.02</td>\n",
       "      <td>Midlands</td>\n",
       "      <td>Silver</td>\n",
       "      <td>1</td>\n",
       "      <td>5.0</td>\n",
       "      <td>8.0</td>\n",
       "    </tr>\n",
       "    <tr>\n",
       "      <th>3</th>\n",
       "      <td>1120</td>\n",
       "      <td>M</td>\n",
       "      <td>1932-04-10</td>\n",
       "      <td>1998-02-23</td>\n",
       "      <td>65.0</td>\n",
       "      <td>60-80</td>\n",
       "      <td>60-70</td>\n",
       "      <td>Midlands</td>\n",
       "      <td>F</td>\n",
       "      <td>51.0</td>\n",
       "      <td>1991-07-01</td>\n",
       "      <td>1</td>\n",
       "      <td>0.01</td>\n",
       "      <td>Midlands</td>\n",
       "      <td>Tin</td>\n",
       "      <td>1</td>\n",
       "      <td>10.0</td>\n",
       "      <td>7.0</td>\n",
       "    </tr>\n",
       "    <tr>\n",
       "      <th>4</th>\n",
       "      <td>2313</td>\n",
       "      <td>F</td>\n",
       "      <td>1929-05-21</td>\n",
       "      <td>1998-02-23</td>\n",
       "      <td>68.0</td>\n",
       "      <td>60-80</td>\n",
       "      <td>60-70</td>\n",
       "      <td>Midlands</td>\n",
       "      <td>A</td>\n",
       "      <td>4.0</td>\n",
       "      <td>1990-03-01</td>\n",
       "      <td>0</td>\n",
       "      <td>0.01</td>\n",
       "      <td>Midlands</td>\n",
       "      <td>Tin</td>\n",
       "      <td>0</td>\n",
       "      <td>11.0</td>\n",
       "      <td>8.0</td>\n",
       "    </tr>\n",
       "  </tbody>\n",
       "</table>\n",
       "</div>"
      ],
      "text/plain": [
       "   CUSTID GENDER         DOB       EDATE   AGE AGEGRP1 AGEGRP2        TV_REG  \\\n",
       "0     140      U  1921-09-16  1998-02-23  76.0   60-80   70-80  Wales & West   \n",
       "1     620      U  1949-02-12  1998-02-23  49.0   40-60   40-50  Wales & West   \n",
       "2     868      F  1927-11-27  1998-02-23  70.0   60-80   70-80  Wales & West   \n",
       "3    1120      M  1932-04-10  1998-02-23  65.0   60-80   60-70      Midlands   \n",
       "4    2313      F  1929-05-21  1998-02-23  68.0   60-80   60-70      Midlands   \n",
       "\n",
       "  NGROUP  NEIGHBORHOOD      LCDATE  ORGANICS      BILL    REGION   CLASS  \\\n",
       "0      C          16.0  1994-11-07         0  16000.00  Midlands    Gold   \n",
       "1      D          35.0  1993-06-04         0   6000.00  Midlands    Gold   \n",
       "2      D          27.0  1990-08-02         1      0.02  Midlands  Silver   \n",
       "3      F          51.0  1991-07-01         1      0.01  Midlands     Tin   \n",
       "4      A           4.0  1990-03-01         0      0.01  Midlands     Tin   \n",
       "\n",
       "   ORGYN  AFFL  LTIME  \n",
       "0      0  10.0    4.0  \n",
       "1      0   4.0    5.0  \n",
       "2      1   5.0    8.0  \n",
       "3      1  10.0    7.0  \n",
       "4      0  11.0    8.0  "
      ]
     },
     "execution_count": 4,
     "metadata": {},
     "output_type": "execute_result"
    }
   ],
   "source": [
    "organics = pd.read_csv(\"./organics.csv\")\n",
    "organics.head()"
   ]
  },
  {
   "cell_type": "code",
   "execution_count": 5,
   "metadata": {},
   "outputs": [
    {
     "data": {
      "text/plain": [
       "(22223, 18)"
      ]
     },
     "execution_count": 5,
     "metadata": {},
     "output_type": "execute_result"
    }
   ],
   "source": [
    "rows, columns = organics.shape; rows, columns"
   ]
  },
  {
   "cell_type": "markdown",
   "metadata": {},
   "source": [
    "## Task 1. Data Selection and Distribution.\n",
    "\n",
    "(4 marks)"
   ]
  },
  {
   "cell_type": "markdown",
   "metadata": {},
   "source": [
    "### Variable Descriptions\n",
    "\n",
    "The following information would assist you in assigning the variables roles:\n",
    "\n",
    "* Varibles DOB, AGE, AGEGRP1, and AGEGRP2 are all different measurements for the same information.\n",
    "\n",
    "* Variable NGROUP contains collapsed levels of the variable NEIGHBORHOOD\n",
    "\n",
    "* Variables LCDATE and LTIME represent the same information in two different formats.\n",
    "\n",
    "* There are two target variables, namely ORGANICS and ORGYN, with different types. Choose the target which suits the task."
   ]
  },
  {
   "cell_type": "code",
   "execution_count": 6,
   "metadata": {},
   "outputs": [],
   "source": [
    "descriptions = {\n",
    "    \"CUSTID\": \"Customer Identifcation Number\",\n",
    "    \"GENDER\": \"M = male. F = Female, U = unknown\",\n",
    "    \"DOB\": \"Date of birth\",\n",
    "    \"EDATE\": \"Date extracted from the daily sales database\",\n",
    "    \"AGE\": \"Age, in years\",\n",
    "    \"AGEGRP1\": \"Age group 1\",\n",
    "    \"AGEGRP2\": \"Age group 2\",\n",
    "    \"TV_REG\": \"Television Region\",\n",
    "    \"NGROUP\": \"Neighborhood group\",\n",
    "    \"NEIGHBORHOOD\": \"Type of residential neighborhood\",\n",
    "    \"LCDATE\": \"Loyalty card application due\",\n",
    "    \"LTIME\": \"Time as loyalty card member\",\n",
    "    \"ORGANICS\": \"Number of organic products purchased\",\n",
    "    \"BILL\": \"Total amount spent\",\n",
    "    \"REGION\": \"Geographic Region\",\n",
    "    \"CLASS\": \"Customer loyalty status: tin, silver, gold, platinum\",\n",
    "    \"ORGYN\": \"Organics Purchased? 1 = Yes, 0 = No\",\n",
    "    \"AFFL\": \"Affluence grade on a scale from 1 to 30\"\n",
    "}"
   ]
  },
  {
   "cell_type": "markdown",
   "metadata": {},
   "source": [
    "### 1.1 What is the proportion of individuals who purchased organic products?"
   ]
  },
  {
   "cell_type": "code",
   "execution_count": 7,
   "metadata": {},
   "outputs": [
    {
     "data": {
      "image/png": "[encoded data removed]",
      "text/plain": [
       "<Figure size 432x288 with 1 Axes>"
      ]
     },
     "metadata": {},
     "output_type": "display_data"
    }
   ],
   "source": [
    "buyer_counts = organics['ORGYN'].value_counts()\n",
    "buyer_counts.index = ['Y' if index else 'N' for index in buyer_counts.index]\n",
    "plt.pie(buyer_counts, labels=buyer_counts.index, startangle=90, shadow=True, explode=(0, 0.1), autopct='%1.1f%%')\n",
    "plt.title(\"Proportion of Individuals Who Purchased Organic Products\")\n",
    "plt.axis('equal')\n",
    "plt.show()"
   ]
  },
  {
   "cell_type": "markdown",
   "metadata": {},
   "source": [
    "### Dropping Unused Variables"
   ]
  },
  {
   "cell_type": "code",
   "execution_count": 8,
   "metadata": {},
   "outputs": [],
   "source": [
    "unused = []\n",
    "organics.drop(labels=unused, inplace=True)"
   ]
  },
  {
   "cell_type": "markdown",
   "metadata": {},
   "source": [
    "### Cleaning Data"
   ]
  },
  {
   "cell_type": "code",
   "execution_count": 9,
   "metadata": {},
   "outputs": [],
   "source": [
    "# Columns with NAs: AGE, "
   ]
  },
  {
   "cell_type": "code",
   "execution_count": 91,
   "metadata": {},
   "outputs": [],
   "source": [
    "# filling age NAs\n",
    "organics['AGE'].fillna(organics['AGE'].mean(), inplace=True)"
   ]
  },
  {
   "cell_type": "code",
   "execution_count": null,
   "metadata": {},
   "outputs": [],
   "source": [
    "pa"
   ]
  },
  {
   "cell_type": "markdown",
   "metadata": {},
   "source": [
    "### Train / Val / Test Split"
   ]
  },
  {
   "cell_type": "code",
   "execution_count": 10,
   "metadata": {},
   "outputs": [],
   "source": [
    "def split_labels(n: int, test_size=0.2, val_size=0.2):\n",
    "    \"\"\" return a list containing train/test/val labels \"\"\"\n",
    "    t = int(n * test_size)\n",
    "    v = int(n * val_size)\n",
    "    labels = np.zeros(n)\n",
    "    labels[:t] = 1\n",
    "    labels[t:t+v] = 2\n",
    "    labels = ['test' if el==1 else 'val' if el==2 else 'train' for el in labels]\n",
    "    np.random.shuffle(labels)\n",
    "    return labels"
   ]
  },
  {
   "cell_type": "code",
   "execution_count": 11,
   "metadata": {},
   "outputs": [
    {
     "data": {
      "text/html": [
       "<div>\n",
       "<style scoped>\n",
       "    .dataframe tbody tr th:only-of-type {\n",
       "        vertical-align: middle;\n",
       "    }\n",
       "\n",
       "    .dataframe tbody tr th {\n",
       "        vertical-align: top;\n",
       "    }\n",
       "\n",
       "    .dataframe thead th {\n",
       "        text-align: right;\n",
       "    }\n",
       "</style>\n",
       "<table border=\"1\" class=\"dataframe\">\n",
       "  <thead>\n",
       "    <tr style=\"text-align: right;\">\n",
       "      <th></th>\n",
       "      <th>CUSTID</th>\n",
       "      <th>GENDER</th>\n",
       "      <th>DOB</th>\n",
       "      <th>EDATE</th>\n",
       "      <th>AGE</th>\n",
       "      <th>AGEGRP1</th>\n",
       "      <th>AGEGRP2</th>\n",
       "      <th>TV_REG</th>\n",
       "      <th>NGROUP</th>\n",
       "      <th>NEIGHBORHOOD</th>\n",
       "      <th>LCDATE</th>\n",
       "      <th>ORGANICS</th>\n",
       "      <th>BILL</th>\n",
       "      <th>REGION</th>\n",
       "      <th>CLASS</th>\n",
       "      <th>ORGYN</th>\n",
       "      <th>AFFL</th>\n",
       "      <th>LTIME</th>\n",
       "      <th>SPLIT</th>\n",
       "    </tr>\n",
       "  </thead>\n",
       "  <tbody>\n",
       "    <tr>\n",
       "      <th>0</th>\n",
       "      <td>140</td>\n",
       "      <td>U</td>\n",
       "      <td>1921-09-16</td>\n",
       "      <td>1998-02-23</td>\n",
       "      <td>76.0</td>\n",
       "      <td>60-80</td>\n",
       "      <td>70-80</td>\n",
       "      <td>Wales &amp; West</td>\n",
       "      <td>C</td>\n",
       "      <td>16.0</td>\n",
       "      <td>1994-11-07</td>\n",
       "      <td>0</td>\n",
       "      <td>16000.00</td>\n",
       "      <td>Midlands</td>\n",
       "      <td>Gold</td>\n",
       "      <td>0</td>\n",
       "      <td>10.0</td>\n",
       "      <td>4.0</td>\n",
       "      <td>train</td>\n",
       "    </tr>\n",
       "    <tr>\n",
       "      <th>1</th>\n",
       "      <td>620</td>\n",
       "      <td>U</td>\n",
       "      <td>1949-02-12</td>\n",
       "      <td>1998-02-23</td>\n",
       "      <td>49.0</td>\n",
       "      <td>40-60</td>\n",
       "      <td>40-50</td>\n",
       "      <td>Wales &amp; West</td>\n",
       "      <td>D</td>\n",
       "      <td>35.0</td>\n",
       "      <td>1993-06-04</td>\n",
       "      <td>0</td>\n",
       "      <td>6000.00</td>\n",
       "      <td>Midlands</td>\n",
       "      <td>Gold</td>\n",
       "      <td>0</td>\n",
       "      <td>4.0</td>\n",
       "      <td>5.0</td>\n",
       "      <td>train</td>\n",
       "    </tr>\n",
       "    <tr>\n",
       "      <th>2</th>\n",
       "      <td>868</td>\n",
       "      <td>F</td>\n",
       "      <td>1927-11-27</td>\n",
       "      <td>1998-02-23</td>\n",
       "      <td>70.0</td>\n",
       "      <td>60-80</td>\n",
       "      <td>70-80</td>\n",
       "      <td>Wales &amp; West</td>\n",
       "      <td>D</td>\n",
       "      <td>27.0</td>\n",
       "      <td>1990-08-02</td>\n",
       "      <td>1</td>\n",
       "      <td>0.02</td>\n",
       "      <td>Midlands</td>\n",
       "      <td>Silver</td>\n",
       "      <td>1</td>\n",
       "      <td>5.0</td>\n",
       "      <td>8.0</td>\n",
       "      <td>train</td>\n",
       "    </tr>\n",
       "    <tr>\n",
       "      <th>3</th>\n",
       "      <td>1120</td>\n",
       "      <td>M</td>\n",
       "      <td>1932-04-10</td>\n",
       "      <td>1998-02-23</td>\n",
       "      <td>65.0</td>\n",
       "      <td>60-80</td>\n",
       "      <td>60-70</td>\n",
       "      <td>Midlands</td>\n",
       "      <td>F</td>\n",
       "      <td>51.0</td>\n",
       "      <td>1991-07-01</td>\n",
       "      <td>1</td>\n",
       "      <td>0.01</td>\n",
       "      <td>Midlands</td>\n",
       "      <td>Tin</td>\n",
       "      <td>1</td>\n",
       "      <td>10.0</td>\n",
       "      <td>7.0</td>\n",
       "      <td>train</td>\n",
       "    </tr>\n",
       "    <tr>\n",
       "      <th>4</th>\n",
       "      <td>2313</td>\n",
       "      <td>F</td>\n",
       "      <td>1929-05-21</td>\n",
       "      <td>1998-02-23</td>\n",
       "      <td>68.0</td>\n",
       "      <td>60-80</td>\n",
       "      <td>60-70</td>\n",
       "      <td>Midlands</td>\n",
       "      <td>A</td>\n",
       "      <td>4.0</td>\n",
       "      <td>1990-03-01</td>\n",
       "      <td>0</td>\n",
       "      <td>0.01</td>\n",
       "      <td>Midlands</td>\n",
       "      <td>Tin</td>\n",
       "      <td>0</td>\n",
       "      <td>11.0</td>\n",
       "      <td>8.0</td>\n",
       "      <td>train</td>\n",
       "    </tr>\n",
       "  </tbody>\n",
       "</table>\n",
       "</div>"
      ],
      "text/plain": [
       "   CUSTID GENDER         DOB       EDATE   AGE AGEGRP1 AGEGRP2        TV_REG  \\\n",
       "0     140      U  1921-09-16  1998-02-23  76.0   60-80   70-80  Wales & West   \n",
       "1     620      U  1949-02-12  1998-02-23  49.0   40-60   40-50  Wales & West   \n",
       "2     868      F  1927-11-27  1998-02-23  70.0   60-80   70-80  Wales & West   \n",
       "3    1120      M  1932-04-10  1998-02-23  65.0   60-80   60-70      Midlands   \n",
       "4    2313      F  1929-05-21  1998-02-23  68.0   60-80   60-70      Midlands   \n",
       "\n",
       "  NGROUP  NEIGHBORHOOD      LCDATE  ORGANICS      BILL    REGION   CLASS  \\\n",
       "0      C          16.0  1994-11-07         0  16000.00  Midlands    Gold   \n",
       "1      D          35.0  1993-06-04         0   6000.00  Midlands    Gold   \n",
       "2      D          27.0  1990-08-02         1      0.02  Midlands  Silver   \n",
       "3      F          51.0  1991-07-01         1      0.01  Midlands     Tin   \n",
       "4      A           4.0  1990-03-01         0      0.01  Midlands     Tin   \n",
       "\n",
       "   ORGYN  AFFL  LTIME  SPLIT  \n",
       "0      0  10.0    4.0  train  \n",
       "1      0   4.0    5.0  train  \n",
       "2      1   5.0    8.0  train  \n",
       "3      1  10.0    7.0  train  \n",
       "4      0  11.0    8.0  train  "
      ]
     },
     "execution_count": 11,
     "metadata": {},
     "output_type": "execute_result"
    }
   ],
   "source": [
    "organics['SPLIT'] = split_labels(rows)\n",
    "organics.head()"
   ]
  },
  {
   "cell_type": "markdown",
   "metadata": {},
   "source": [
    "## Task 2. Predictive Modeling Using Decision Trees\n",
    "\n",
    "(4 marks)"
   ]
  },
  {
   "cell_type": "code",
   "execution_count": 63,
   "metadata": {},
   "outputs": [],
   "source": [
    "def visualise_tree(dt, feature_names=None, class_names=None):\n",
    "    \"\"\" visualise a decision tree in a Jupyter notebook \"\"\"\n",
    "    graph = graphviz.Source(export_graphviz(dt, out_file=None, filled=True, rounded=True, feature_names=feature_names, class_names=class_names))\n",
    "    display(SVG(graph.pipe(format='svg')))"
   ]
  },
  {
   "cell_type": "markdown",
   "metadata": {},
   "source": [
    "### 2.1 Build a decision tree using default setting. "
   ]
  },
  {
   "cell_type": "code",
   "execution_count": 239,
   "metadata": {},
   "outputs": [],
   "source": [
    "features = ['AGE', 'BILL']\n",
    "\n",
    "X = np.column_stack([organics[feature] for feature in features])\n",
    "\n",
    "y = np.array(organics['ORGYN'])\n",
    "\n",
    "Xtr, Xte, ytr, yte = train_test_split(X, y)"
   ]
  },
  {
   "cell_type": "code",
   "execution_count": 240,
   "metadata": {},
   "outputs": [],
   "source": [
    "dt = DecisionTreeClassifier()"
   ]
  },
  {
   "cell_type": "code",
   "execution_count": 241,
   "metadata": {},
   "outputs": [
    {
     "data": {
      "text/plain": [
       "DecisionTreeClassifier(class_weight=None, criterion='gini', max_depth=None,\n",
       "            max_features=None, max_leaf_nodes=None,\n",
       "            min_impurity_decrease=0.0, min_impurity_split=None,\n",
       "            min_samples_leaf=1, min_samples_split=2,\n",
       "            min_weight_fraction_leaf=0.0, presort=False, random_state=None,\n",
       "            splitter='best')"
      ]
     },
     "execution_count": 241,
     "metadata": {},
     "output_type": "execute_result"
    }
   ],
   "source": [
    "dt.fit(Xtr, ytr)"
   ]
  },
  {
   "cell_type": "markdown",
   "metadata": {},
   "source": [
    "#### a. What is the classification accuracy on training and test datasets?"
   ]
  },
  {
   "cell_type": "code",
   "execution_count": 243,
   "metadata": {},
   "outputs": [
    {
     "data": {
      "text/html": [
       "<div>\n",
       "<style scoped>\n",
       "    .dataframe tbody tr th:only-of-type {\n",
       "        vertical-align: middle;\n",
       "    }\n",
       "\n",
       "    .dataframe tbody tr th {\n",
       "        vertical-align: top;\n",
       "    }\n",
       "\n",
       "    .dataframe thead th {\n",
       "        text-align: right;\n",
       "    }\n",
       "</style>\n",
       "<table border=\"1\" class=\"dataframe\">\n",
       "  <thead>\n",
       "    <tr style=\"text-align: right;\">\n",
       "      <th></th>\n",
       "      <th>Accuracy</th>\n",
       "    </tr>\n",
       "  </thead>\n",
       "  <tbody>\n",
       "    <tr>\n",
       "      <th>Train</th>\n",
       "      <td>0.836143</td>\n",
       "    </tr>\n",
       "    <tr>\n",
       "      <th>Test</th>\n",
       "      <td>0.754500</td>\n",
       "    </tr>\n",
       "  </tbody>\n",
       "</table>\n",
       "</div>"
      ],
      "text/plain": [
       "       Accuracy\n",
       "Train  0.836143\n",
       "Test   0.754500"
      ]
     },
     "execution_count": 243,
     "metadata": {},
     "output_type": "execute_result"
    }
   ],
   "source": [
    "pd.DataFrame([dt.score(Xtr, ytr), dt.score(Xte, yte)], columns=['Accuracy'], index=['Train', 'Test'])"
   ]
  },
  {
   "cell_type": "markdown",
   "metadata": {},
   "source": [
    "#### b. Which variable is used for the first split? What are the competing splits for the first split?"
   ]
  },
  {
   "cell_type": "code",
   "execution_count": 244,
   "metadata": {},
   "outputs": [
    {
     "data": {
      "text/html": [
       "<div>\n",
       "<style scoped>\n",
       "    .dataframe tbody tr th:only-of-type {\n",
       "        vertical-align: middle;\n",
       "    }\n",
       "\n",
       "    .dataframe tbody tr th {\n",
       "        vertical-align: top;\n",
       "    }\n",
       "\n",
       "    .dataframe thead th {\n",
       "        text-align: right;\n",
       "    }\n",
       "</style>\n",
       "<table border=\"1\" class=\"dataframe\">\n",
       "  <thead>\n",
       "    <tr style=\"text-align: right;\">\n",
       "      <th></th>\n",
       "      <th>Importance</th>\n",
       "    </tr>\n",
       "  </thead>\n",
       "  <tbody>\n",
       "    <tr>\n",
       "      <th>AGE</th>\n",
       "      <td>0.541325</td>\n",
       "    </tr>\n",
       "    <tr>\n",
       "      <th>BILL</th>\n",
       "      <td>0.458675</td>\n",
       "    </tr>\n",
       "  </tbody>\n",
       "</table>\n",
       "</div>"
      ],
      "text/plain": [
       "      Importance\n",
       "AGE     0.541325\n",
       "BILL    0.458675"
      ]
     },
     "execution_count": 244,
     "metadata": {},
     "output_type": "execute_result"
    }
   ],
   "source": [
    "importances = pd.DataFrame(dt.feature_importances_, columns=['Importance'], index=features)\n",
    "importances"
   ]
  },
  {
   "cell_type": "code",
   "execution_count": null,
   "metadata": {},
   "outputs": [],
   "source": [
    "# visualise_tree(dt, feature_names=['AGE', 'BILL'], class_names=[str(bool(c)) for c in dt.classes_])"
   ]
  },
  {
   "cell_type": "markdown",
   "metadata": {},
   "source": [
    "#### c. What are the 5 important variables in building the tree?"
   ]
  },
  {
   "cell_type": "code",
   "execution_count": null,
   "metadata": {},
   "outputs": [],
   "source": [
    "importances[:5]"
   ]
  },
  {
   "cell_type": "markdown",
   "metadata": {},
   "source": [
    "#### d. Report if you see any evidence of model overfitting."
   ]
  },
  {
   "cell_type": "markdown",
   "metadata": {},
   "source": [
    "There is model overfitting. This is evidenced by the higher train set accuracy."
   ]
  },
  {
   "cell_type": "markdown",
   "metadata": {},
   "source": [
    "### 2.2 Build another decision tree tuned with GridSearchCV."
   ]
  },
  {
   "cell_type": "code",
   "execution_count": 207,
   "metadata": {},
   "outputs": [],
   "source": [
    "parameters = {\n",
    "    \"criterion\": ['gini', 'entropy'],\n",
    "    \"max_depth\": [None, 2, 5, 10, 15],\n",
    "    \"min_samples_split\": [0.2, 0.4, 0.6, 0.8],\n",
    "    \"min_samples_leaf\": [1, 20, 50, 80, 100]\n",
    "}"
   ]
  },
  {
   "cell_type": "code",
   "execution_count": 217,
   "metadata": {},
   "outputs": [],
   "source": [
    "gs_dt = GridSearchCV(DecisionTreeClassifier(), parameters).fit(Xtr, ytr)"
   ]
  },
  {
   "cell_type": "markdown",
   "metadata": {},
   "source": [
    "#### a. What is the classification accuracy on training and test datasets?"
   ]
  },
  {
   "cell_type": "code",
   "execution_count": 218,
   "metadata": {},
   "outputs": [
    {
     "data": {
      "text/plain": [
       "(0.7846043079138417, 0.7712383009359252)"
      ]
     },
     "execution_count": 218,
     "metadata": {},
     "output_type": "execute_result"
    }
   ],
   "source": [
    "gs_dt.score(Xtr, ytr), gs_dt.score(Xte, yte)"
   ]
  },
  {
   "cell_type": "markdown",
   "metadata": {},
   "source": [
    "#### b. What are the parameters used? Explain your decision."
   ]
  },
  {
   "cell_type": "code",
   "execution_count": 229,
   "metadata": {},
   "outputs": [
    {
     "name": "stdout",
     "output_type": "stream",
     "text": [
      "Parameters used: ['criterion', 'max_depth', 'min_samples_split', 'min_samples_leaf']\n"
     ]
    }
   ],
   "source": [
    "print(f\"Parameters used: {list(parameters.keys())}\")"
   ]
  },
  {
   "cell_type": "markdown",
   "metadata": {},
   "source": [
    "#### c. What are the optimal parameters for this decision tree?"
   ]
  },
  {
   "cell_type": "code",
   "execution_count": 222,
   "metadata": {},
   "outputs": [
    {
     "data": {
      "text/plain": [
       "{'criterion': 'gini',\n",
       " 'max_depth': None,\n",
       " 'min_samples_leaf': 20,\n",
       " 'min_samples_split': 0.2}"
      ]
     },
     "execution_count": 222,
     "metadata": {},
     "output_type": "execute_result"
    }
   ],
   "source": [
    "gs_dt.best_params_"
   ]
  },
  {
   "cell_type": "code",
   "execution_count": 236,
   "metadata": {},
   "outputs": [
    {
     "data": {
      "text/plain": [
       "{'class_weight': None,\n",
       " 'criterion': 'gini',\n",
       " 'max_depth': None,\n",
       " 'max_features': None,\n",
       " 'max_leaf_nodes': None,\n",
       " 'min_impurity_decrease': 0.0,\n",
       " 'min_impurity_split': None,\n",
       " 'min_samples_leaf': 20,\n",
       " 'min_samples_split': 0.2,\n",
       " 'min_weight_fraction_leaf': 0.0,\n",
       " 'presort': False,\n",
       " 'random_state': None,\n",
       " 'splitter': 'best'}"
      ]
     },
     "execution_count": 236,
     "metadata": {},
     "output_type": "execute_result"
    }
   ],
   "source": [
    "gs_dt.best_estimator_.get_params()"
   ]
  },
  {
   "cell_type": "markdown",
   "metadata": {},
   "source": [
    "#### d. Which variable is used for the first split? What are the competing splits for this first split?"
   ]
  },
  {
   "cell_type": "code",
   "execution_count": 237,
   "metadata": {},
   "outputs": [
    {
     "data": {
      "text/html": [
       "<div>\n",
       "<style scoped>\n",
       "    .dataframe tbody tr th:only-of-type {\n",
       "        vertical-align: middle;\n",
       "    }\n",
       "\n",
       "    .dataframe tbody tr th {\n",
       "        vertical-align: top;\n",
       "    }\n",
       "\n",
       "    .dataframe thead th {\n",
       "        text-align: right;\n",
       "    }\n",
       "</style>\n",
       "<table border=\"1\" class=\"dataframe\">\n",
       "  <thead>\n",
       "    <tr style=\"text-align: right;\">\n",
       "      <th></th>\n",
       "      <th>Importance</th>\n",
       "    </tr>\n",
       "  </thead>\n",
       "  <tbody>\n",
       "    <tr>\n",
       "      <th>AGE</th>\n",
       "      <td>0.99252</td>\n",
       "    </tr>\n",
       "    <tr>\n",
       "      <th>BILL</th>\n",
       "      <td>0.00748</td>\n",
       "    </tr>\n",
       "  </tbody>\n",
       "</table>\n",
       "</div>"
      ],
      "text/plain": [
       "      Importance\n",
       "AGE      0.99252\n",
       "BILL     0.00748"
      ]
     },
     "execution_count": 237,
     "metadata": {},
     "output_type": "execute_result"
    }
   ],
   "source": [
    "importances = pd.DataFrame(gs_dt.best_estimator_.feature_importances_, columns=['Importance'], index=features)\n",
    "importances"
   ]
  },
  {
   "cell_type": "markdown",
   "metadata": {},
   "source": [
    "#### e. What are the 5 important variables in building the tree?"
   ]
  },
  {
   "cell_type": "code",
   "execution_count": 238,
   "metadata": {},
   "outputs": [
    {
     "data": {
      "text/html": [
       "<div>\n",
       "<style scoped>\n",
       "    .dataframe tbody tr th:only-of-type {\n",
       "        vertical-align: middle;\n",
       "    }\n",
       "\n",
       "    .dataframe tbody tr th {\n",
       "        vertical-align: top;\n",
       "    }\n",
       "\n",
       "    .dataframe thead th {\n",
       "        text-align: right;\n",
       "    }\n",
       "</style>\n",
       "<table border=\"1\" class=\"dataframe\">\n",
       "  <thead>\n",
       "    <tr style=\"text-align: right;\">\n",
       "      <th></th>\n",
       "      <th>Importance</th>\n",
       "    </tr>\n",
       "  </thead>\n",
       "  <tbody>\n",
       "    <tr>\n",
       "      <th>AGE</th>\n",
       "      <td>0.99252</td>\n",
       "    </tr>\n",
       "    <tr>\n",
       "      <th>BILL</th>\n",
       "      <td>0.00748</td>\n",
       "    </tr>\n",
       "  </tbody>\n",
       "</table>\n",
       "</div>"
      ],
      "text/plain": [
       "      Importance\n",
       "AGE      0.99252\n",
       "BILL     0.00748"
      ]
     },
     "execution_count": 238,
     "metadata": {},
     "output_type": "execute_result"
    }
   ],
   "source": [
    "importances = pd.DataFrame(gs_dt.best_estimator_.feature_importances_, columns=['Importance'], index=features)\n",
    "importances[:5]"
   ]
  },
  {
   "cell_type": "markdown",
   "metadata": {},
   "source": [
    "#### f. Report if you see an evidence of model overfitting."
   ]
  },
  {
   "cell_type": "markdown",
   "metadata": {},
   "source": [
    "There is no evidence of model overfitting, the accuracy on the train and test splits is comparable."
   ]
  },
  {
   "cell_type": "markdown",
   "metadata": {},
   "source": [
    "## Task 3. Predictive Modeling Using Regression\n",
    "\n",
    "(5.5 marks)"
   ]
  },
  {
   "cell_type": "code",
   "execution_count": null,
   "metadata": {},
   "outputs": [],
   "source": [
    "from "
   ]
  },
  {
   "cell_type": "markdown",
   "metadata": {},
   "source": [
    "## Task 4. Predictive Modeling Using Neural Networks\n",
    "\n",
    "(5.5 marks)"
   ]
  },
  {
   "cell_type": "code",
   "execution_count": null,
   "metadata": {},
   "outputs": [],
   "source": []
  },
  {
   "cell_type": "markdown",
   "metadata": {},
   "source": [
    "## Task 5. Comparing Predictive Models\n",
    "\n",
    "(4 marks)"
   ]
  },
  {
   "cell_type": "code",
   "execution_count": null,
   "metadata": {},
   "outputs": [],
   "source": []
  },
  {
   "cell_type": "markdown",
   "metadata": {},
   "source": [
    "## Conclusion"
   ]
  },
  {
   "cell_type": "code",
   "execution_count": null,
   "metadata": {},
   "outputs": [],
   "source": []
  },
  {
   "cell_type": "markdown",
   "metadata": {},
   "source": [
    "# Temoprary Cells\n",
    "\n",
    "Delete before submission"
   ]
  },
  {
   "cell_type": "code",
   "execution_count": 19,
   "metadata": {},
   "outputs": [
    {
     "name": "stderr",
     "output_type": "stream",
     "text": [
      "C:\\Users\\chris\\Anaconda3\\lib\\site-packages\\matplotlib\\axes\\_axes.py:6462: UserWarning: The 'normed' kwarg is deprecated, and has been replaced by the 'density' kwarg.\n",
      "  warnings.warn(\"The 'normed' kwarg is deprecated, and has been \"\n",
      "C:\\Users\\chris\\Anaconda3\\lib\\site-packages\\numpy\\core\\_methods.py:29: RuntimeWarning: invalid value encountered in reduce\n",
      "  return umr_minimum(a, axis, None, out, keepdims)\n",
      "C:\\Users\\chris\\Anaconda3\\lib\\site-packages\\numpy\\core\\_methods.py:26: RuntimeWarning: invalid value encountered in reduce\n",
      "  return umr_maximum(a, axis, None, out, keepdims)\n"
     ]
    },
    {
     "ename": "ValueError",
     "evalue": "max must be larger than min in range parameter.",
     "output_type": "error",
     "traceback": [
      "\u001b[1;31m---------------------------------------------------------------------------\u001b[0m",
      "\u001b[1;31mValueError\u001b[0m                                Traceback (most recent call last)",
      "\u001b[1;32m<ipython-input-19-b188623c1a70>\u001b[0m in \u001b[0;36m<module>\u001b[1;34m()\u001b[0m\n\u001b[1;32m----> 1\u001b[1;33m \u001b[0msns\u001b[0m\u001b[1;33m.\u001b[0m\u001b[0mdistplot\u001b[0m\u001b[1;33m(\u001b[0m\u001b[0morganics\u001b[0m\u001b[1;33m[\u001b[0m\u001b[1;34m'AGE'\u001b[0m\u001b[1;33m]\u001b[0m\u001b[1;33m,\u001b[0m \u001b[0mbins\u001b[0m\u001b[1;33m=\u001b[0m\u001b[1;36m10\u001b[0m\u001b[1;33m)\u001b[0m\u001b[1;33m\u001b[0m\u001b[0m\n\u001b[0m\u001b[0;32m      2\u001b[0m \u001b[0mplt\u001b[0m\u001b[1;33m.\u001b[0m\u001b[0mtitle\u001b[0m\u001b[1;33m(\u001b[0m\u001b[1;34m\"Ages of Customers\"\u001b[0m\u001b[1;33m)\u001b[0m\u001b[1;33m\u001b[0m\u001b[0m\n",
      "\u001b[1;32m~\\Anaconda3\\lib\\site-packages\\seaborn\\distributions.py\u001b[0m in \u001b[0;36mdistplot\u001b[1;34m(a, bins, hist, kde, rug, fit, hist_kws, kde_kws, rug_kws, fit_kws, color, vertical, norm_hist, axlabel, label, ax)\u001b[0m\n\u001b[0;32m    216\u001b[0m         \u001b[0mhist_color\u001b[0m \u001b[1;33m=\u001b[0m \u001b[0mhist_kws\u001b[0m\u001b[1;33m.\u001b[0m\u001b[0mpop\u001b[0m\u001b[1;33m(\u001b[0m\u001b[1;34m\"color\"\u001b[0m\u001b[1;33m,\u001b[0m \u001b[0mcolor\u001b[0m\u001b[1;33m)\u001b[0m\u001b[1;33m\u001b[0m\u001b[0m\n\u001b[0;32m    217\u001b[0m         ax.hist(a, bins, orientation=orientation,\n\u001b[1;32m--> 218\u001b[1;33m                 color=hist_color, **hist_kws)\n\u001b[0m\u001b[0;32m    219\u001b[0m         \u001b[1;32mif\u001b[0m \u001b[0mhist_color\u001b[0m \u001b[1;33m!=\u001b[0m \u001b[0mcolor\u001b[0m\u001b[1;33m:\u001b[0m\u001b[1;33m\u001b[0m\u001b[0m\n\u001b[0;32m    220\u001b[0m             \u001b[0mhist_kws\u001b[0m\u001b[1;33m[\u001b[0m\u001b[1;34m\"color\"\u001b[0m\u001b[1;33m]\u001b[0m \u001b[1;33m=\u001b[0m \u001b[0mhist_color\u001b[0m\u001b[1;33m\u001b[0m\u001b[0m\n",
      "\u001b[1;32m~\\Anaconda3\\lib\\site-packages\\matplotlib\\__init__.py\u001b[0m in \u001b[0;36minner\u001b[1;34m(ax, *args, **kwargs)\u001b[0m\n\u001b[0;32m   1853\u001b[0m                         \u001b[1;34m\"the Matplotlib list!)\"\u001b[0m \u001b[1;33m%\u001b[0m \u001b[1;33m(\u001b[0m\u001b[0mlabel_namer\u001b[0m\u001b[1;33m,\u001b[0m \u001b[0mfunc\u001b[0m\u001b[1;33m.\u001b[0m\u001b[0m__name__\u001b[0m\u001b[1;33m)\u001b[0m\u001b[1;33m,\u001b[0m\u001b[1;33m\u001b[0m\u001b[0m\n\u001b[0;32m   1854\u001b[0m                         RuntimeWarning, stacklevel=2)\n\u001b[1;32m-> 1855\u001b[1;33m             \u001b[1;32mreturn\u001b[0m \u001b[0mfunc\u001b[0m\u001b[1;33m(\u001b[0m\u001b[0max\u001b[0m\u001b[1;33m,\u001b[0m \u001b[1;33m*\u001b[0m\u001b[0margs\u001b[0m\u001b[1;33m,\u001b[0m \u001b[1;33m**\u001b[0m\u001b[0mkwargs\u001b[0m\u001b[1;33m)\u001b[0m\u001b[1;33m\u001b[0m\u001b[0m\n\u001b[0m\u001b[0;32m   1856\u001b[0m \u001b[1;33m\u001b[0m\u001b[0m\n\u001b[0;32m   1857\u001b[0m         inner.__doc__ = _add_data_doc(inner.__doc__,\n",
      "\u001b[1;32m~\\Anaconda3\\lib\\site-packages\\matplotlib\\axes\\_axes.py\u001b[0m in \u001b[0;36mhist\u001b[1;34m(***failed resolving arguments***)\u001b[0m\n\u001b[0;32m   6528\u001b[0m             \u001b[1;31m# this will automatically overwrite bins,\u001b[0m\u001b[1;33m\u001b[0m\u001b[1;33m\u001b[0m\u001b[0m\n\u001b[0;32m   6529\u001b[0m             \u001b[1;31m# so that each histogram uses the same bins\u001b[0m\u001b[1;33m\u001b[0m\u001b[1;33m\u001b[0m\u001b[0m\n\u001b[1;32m-> 6530\u001b[1;33m             \u001b[0mm\u001b[0m\u001b[1;33m,\u001b[0m \u001b[0mbins\u001b[0m \u001b[1;33m=\u001b[0m \u001b[0mnp\u001b[0m\u001b[1;33m.\u001b[0m\u001b[0mhistogram\u001b[0m\u001b[1;33m(\u001b[0m\u001b[0mx\u001b[0m\u001b[1;33m[\u001b[0m\u001b[0mi\u001b[0m\u001b[1;33m]\u001b[0m\u001b[1;33m,\u001b[0m \u001b[0mbins\u001b[0m\u001b[1;33m,\u001b[0m \u001b[0mweights\u001b[0m\u001b[1;33m=\u001b[0m\u001b[0mw\u001b[0m\u001b[1;33m[\u001b[0m\u001b[0mi\u001b[0m\u001b[1;33m]\u001b[0m\u001b[1;33m,\u001b[0m \u001b[1;33m**\u001b[0m\u001b[0mhist_kwargs\u001b[0m\u001b[1;33m)\u001b[0m\u001b[1;33m\u001b[0m\u001b[0m\n\u001b[0m\u001b[0;32m   6531\u001b[0m             \u001b[0mm\u001b[0m \u001b[1;33m=\u001b[0m \u001b[0mm\u001b[0m\u001b[1;33m.\u001b[0m\u001b[0mastype\u001b[0m\u001b[1;33m(\u001b[0m\u001b[0mfloat\u001b[0m\u001b[1;33m)\u001b[0m  \u001b[1;31m# causes problems later if it's an int\u001b[0m\u001b[1;33m\u001b[0m\u001b[0m\n\u001b[0;32m   6532\u001b[0m             \u001b[1;32mif\u001b[0m \u001b[0mmlast\u001b[0m \u001b[1;32mis\u001b[0m \u001b[1;32mNone\u001b[0m\u001b[1;33m:\u001b[0m\u001b[1;33m\u001b[0m\u001b[0m\n",
      "\u001b[1;32m~\\Anaconda3\\lib\\site-packages\\numpy\\lib\\function_base.py\u001b[0m in \u001b[0;36mhistogram\u001b[1;34m(a, bins, range, normed, weights, density)\u001b[0m\n\u001b[0;32m    665\u001b[0m     \u001b[1;32mif\u001b[0m \u001b[0mfirst_edge\u001b[0m \u001b[1;33m>\u001b[0m \u001b[0mlast_edge\u001b[0m\u001b[1;33m:\u001b[0m\u001b[1;33m\u001b[0m\u001b[0m\n\u001b[0;32m    666\u001b[0m         raise ValueError(\n\u001b[1;32m--> 667\u001b[1;33m             'max must be larger than min in range parameter.')\n\u001b[0m\u001b[0;32m    668\u001b[0m     \u001b[1;32mif\u001b[0m \u001b[1;32mnot\u001b[0m \u001b[0mnp\u001b[0m\u001b[1;33m.\u001b[0m\u001b[0mall\u001b[0m\u001b[1;33m(\u001b[0m\u001b[0mnp\u001b[0m\u001b[1;33m.\u001b[0m\u001b[0misfinite\u001b[0m\u001b[1;33m(\u001b[0m\u001b[1;33m[\u001b[0m\u001b[0mfirst_edge\u001b[0m\u001b[1;33m,\u001b[0m \u001b[0mlast_edge\u001b[0m\u001b[1;33m]\u001b[0m\u001b[1;33m)\u001b[0m\u001b[1;33m)\u001b[0m\u001b[1;33m:\u001b[0m\u001b[1;33m\u001b[0m\u001b[0m\n\u001b[0;32m    669\u001b[0m         raise ValueError(\n",
      "\u001b[1;31mValueError\u001b[0m: max must be larger than min in range parameter."
     ]
    },
    {
     "data": {
      "image/png": "[encoded data removed]",
      "text/plain": [
       "<Figure size 432x288 with 1 Axes>"
      ]
     },
     "metadata": {},
     "output_type": "display_data"
    }
   ],
   "source": [
    "sns.distplot(organics['AGE'], bins=10)\n",
    "plt.title(\"Ages of Customers\")"
   ]
  },
  {
   "cell_type": "code",
   "execution_count": null,
   "metadata": {},
   "outputs": [],
   "source": [
    "sns.distplot(organics['BILL'], bins=50)\n",
    "plt.title(\"Bills of Customers\")"
   ]
  },
  {
   "cell_type": "code",
   "execution_count": null,
   "metadata": {},
   "outputs": [],
   "source": [
    "organics['GENDER'].value_counts().plot.barh()\n",
    "plt.title(\"Gender of Buyers\")\n",
    "plt.ylabel(\"Gender\")\n",
    "plt.xlabel(\"Occurences\")"
   ]
  },
  {
   "cell_type": "code",
   "execution_count": null,
   "metadata": {},
   "outputs": [],
   "source": [
    "organics['TV_REG'].value_counts().plot.barh(title='Locations of Customers')\n",
    "plt.title(\"TV Regions of Customers\")\n",
    "plt.xlabel(\"TV Region\")\n",
    "plt.ylabel(\"Amount\")"
   ]
  }
 ],
 "metadata": {
  "kernelspec": {
   "display_name": "Python [conda env:Anaconda3]",
   "language": "python",
   "name": "conda-env-Anaconda3-py"
  },
  "language_info": {
   "codemirror_mode": {
    "name": "ipython",
    "version": 3
   },
   "file_extension": ".py",
   "mimetype": "text/x-python",
   "name": "python",
   "nbconvert_exporter": "python",
   "pygments_lexer": "ipython3",
   "version": "3.6.5"
  }
 },
 "nbformat": 4,
 "nbformat_minor": 2
}
