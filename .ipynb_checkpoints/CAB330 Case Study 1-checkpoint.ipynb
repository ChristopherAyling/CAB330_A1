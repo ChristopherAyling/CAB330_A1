{
 "cells": [
  {
   "cell_type": "markdown",
   "metadata": {},
   "source": [
    "# CAB330 Case Study 1: Organics\n",
    "\n",
    "A supermarket has just begun offering a line of organic products.\n",
    "\n",
    "The supermarket has a customer loyalty program.\n",
    "\n",
    "The supermarket provided coupons for the organic products to loyalty members.\n",
    "\n",
    "This is their story.\n",
    "\n",
    "---\n",
    "\n",
    "__*Your task is to determine which customers are likely to purchase recently offered organic products.*__\n",
    "\n",
    "---\n",
    "\n",
    "Class: CAB330\n",
    "\n",
    "Student: Christopher Ayling || christopher.ayling@connect.qut.edu.au\n",
    "\n",
    "Due Date: 10th September 2018\n",
    "\n",
    "Project Demo: Week 8 Lab\n",
    "\n",
    "Weighting: 25%"
   ]
  },
  {
   "cell_type": "markdown",
   "metadata": {},
   "source": [
    "## Setup"
   ]
  },
  {
   "cell_type": "code",
   "execution_count": 67,
   "metadata": {},
   "outputs": [],
   "source": [
    "# Manipulating Data\n",
    "import pandas as pd\n",
    "import numpy as np\n",
    "from sklearn.model_selection import train_test_split\n",
    "\n",
    "# Visualisations\n",
    "import seaborn as sns\n",
    "import matplotlib.pyplot as plt\n",
    "\n",
    "# Algorithms\n",
    "from sklearn.ensemble import RandomForestClassifier, RandomForestRegressor\n",
    "from sklearn.linear_model import LinearRegression\n",
    "from sklearn.neural_network import MLPClassifier, MLPRegressor\n",
    "\n",
    "from sklearn.model_selection import GridSearchCV"
   ]
  },
  {
   "cell_type": "code",
   "execution_count": 66,
   "metadata": {},
   "outputs": [],
   "source": [
    "np.random.seed(330)"
   ]
  },
  {
   "cell_type": "markdown",
   "metadata": {},
   "source": [
    "## Data Loading"
   ]
  },
  {
   "cell_type": "code",
   "execution_count": 57,
   "metadata": {},
   "outputs": [
    {
     "data": {
      "text/html": [
       "<div>\n",
       "<style scoped>\n",
       "    .dataframe tbody tr th:only-of-type {\n",
       "        vertical-align: middle;\n",
       "    }\n",
       "\n",
       "    .dataframe tbody tr th {\n",
       "        vertical-align: top;\n",
       "    }\n",
       "\n",
       "    .dataframe thead th {\n",
       "        text-align: right;\n",
       "    }\n",
       "</style>\n",
       "<table border=\"1\" class=\"dataframe\">\n",
       "  <thead>\n",
       "    <tr style=\"text-align: right;\">\n",
       "      <th></th>\n",
       "      <th>CUSTID</th>\n",
       "      <th>GENDER</th>\n",
       "      <th>DOB</th>\n",
       "      <th>EDATE</th>\n",
       "      <th>AGE</th>\n",
       "      <th>AGEGRP1</th>\n",
       "      <th>AGEGRP2</th>\n",
       "      <th>TV_REG</th>\n",
       "      <th>NGROUP</th>\n",
       "      <th>NEIGHBORHOOD</th>\n",
       "      <th>LCDATE</th>\n",
       "      <th>ORGANICS</th>\n",
       "      <th>BILL</th>\n",
       "      <th>REGION</th>\n",
       "      <th>CLASS</th>\n",
       "      <th>ORGYN</th>\n",
       "      <th>AFFL</th>\n",
       "      <th>LTIME</th>\n",
       "    </tr>\n",
       "  </thead>\n",
       "  <tbody>\n",
       "    <tr>\n",
       "      <th>0</th>\n",
       "      <td>140</td>\n",
       "      <td>U</td>\n",
       "      <td>1921-09-16</td>\n",
       "      <td>1998-02-23</td>\n",
       "      <td>76.0</td>\n",
       "      <td>60-80</td>\n",
       "      <td>70-80</td>\n",
       "      <td>Wales &amp; West</td>\n",
       "      <td>C</td>\n",
       "      <td>16.0</td>\n",
       "      <td>1994-11-07</td>\n",
       "      <td>0</td>\n",
       "      <td>16000.00</td>\n",
       "      <td>Midlands</td>\n",
       "      <td>Gold</td>\n",
       "      <td>0</td>\n",
       "      <td>10.0</td>\n",
       "      <td>4.0</td>\n",
       "    </tr>\n",
       "    <tr>\n",
       "      <th>1</th>\n",
       "      <td>620</td>\n",
       "      <td>U</td>\n",
       "      <td>1949-02-12</td>\n",
       "      <td>1998-02-23</td>\n",
       "      <td>49.0</td>\n",
       "      <td>40-60</td>\n",
       "      <td>40-50</td>\n",
       "      <td>Wales &amp; West</td>\n",
       "      <td>D</td>\n",
       "      <td>35.0</td>\n",
       "      <td>1993-06-04</td>\n",
       "      <td>0</td>\n",
       "      <td>6000.00</td>\n",
       "      <td>Midlands</td>\n",
       "      <td>Gold</td>\n",
       "      <td>0</td>\n",
       "      <td>4.0</td>\n",
       "      <td>5.0</td>\n",
       "    </tr>\n",
       "    <tr>\n",
       "      <th>2</th>\n",
       "      <td>868</td>\n",
       "      <td>F</td>\n",
       "      <td>1927-11-27</td>\n",
       "      <td>1998-02-23</td>\n",
       "      <td>70.0</td>\n",
       "      <td>60-80</td>\n",
       "      <td>70-80</td>\n",
       "      <td>Wales &amp; West</td>\n",
       "      <td>D</td>\n",
       "      <td>27.0</td>\n",
       "      <td>1990-08-02</td>\n",
       "      <td>1</td>\n",
       "      <td>0.02</td>\n",
       "      <td>Midlands</td>\n",
       "      <td>Silver</td>\n",
       "      <td>1</td>\n",
       "      <td>5.0</td>\n",
       "      <td>8.0</td>\n",
       "    </tr>\n",
       "    <tr>\n",
       "      <th>3</th>\n",
       "      <td>1120</td>\n",
       "      <td>M</td>\n",
       "      <td>1932-04-10</td>\n",
       "      <td>1998-02-23</td>\n",
       "      <td>65.0</td>\n",
       "      <td>60-80</td>\n",
       "      <td>60-70</td>\n",
       "      <td>Midlands</td>\n",
       "      <td>F</td>\n",
       "      <td>51.0</td>\n",
       "      <td>1991-07-01</td>\n",
       "      <td>1</td>\n",
       "      <td>0.01</td>\n",
       "      <td>Midlands</td>\n",
       "      <td>Tin</td>\n",
       "      <td>1</td>\n",
       "      <td>10.0</td>\n",
       "      <td>7.0</td>\n",
       "    </tr>\n",
       "    <tr>\n",
       "      <th>4</th>\n",
       "      <td>2313</td>\n",
       "      <td>F</td>\n",
       "      <td>1929-05-21</td>\n",
       "      <td>1998-02-23</td>\n",
       "      <td>68.0</td>\n",
       "      <td>60-80</td>\n",
       "      <td>60-70</td>\n",
       "      <td>Midlands</td>\n",
       "      <td>A</td>\n",
       "      <td>4.0</td>\n",
       "      <td>1990-03-01</td>\n",
       "      <td>0</td>\n",
       "      <td>0.01</td>\n",
       "      <td>Midlands</td>\n",
       "      <td>Tin</td>\n",
       "      <td>0</td>\n",
       "      <td>11.0</td>\n",
       "      <td>8.0</td>\n",
       "    </tr>\n",
       "  </tbody>\n",
       "</table>\n",
       "</div>"
      ],
      "text/plain": [
       "   CUSTID GENDER         DOB       EDATE   AGE AGEGRP1 AGEGRP2        TV_REG  \\\n",
       "0     140      U  1921-09-16  1998-02-23  76.0   60-80   70-80  Wales & West   \n",
       "1     620      U  1949-02-12  1998-02-23  49.0   40-60   40-50  Wales & West   \n",
       "2     868      F  1927-11-27  1998-02-23  70.0   60-80   70-80  Wales & West   \n",
       "3    1120      M  1932-04-10  1998-02-23  65.0   60-80   60-70      Midlands   \n",
       "4    2313      F  1929-05-21  1998-02-23  68.0   60-80   60-70      Midlands   \n",
       "\n",
       "  NGROUP  NEIGHBORHOOD      LCDATE  ORGANICS      BILL    REGION   CLASS  \\\n",
       "0      C          16.0  1994-11-07         0  16000.00  Midlands    Gold   \n",
       "1      D          35.0  1993-06-04         0   6000.00  Midlands    Gold   \n",
       "2      D          27.0  1990-08-02         1      0.02  Midlands  Silver   \n",
       "3      F          51.0  1991-07-01         1      0.01  Midlands     Tin   \n",
       "4      A           4.0  1990-03-01         0      0.01  Midlands     Tin   \n",
       "\n",
       "   ORGYN  AFFL  LTIME  \n",
       "0      0  10.0    4.0  \n",
       "1      0   4.0    5.0  \n",
       "2      1   5.0    8.0  \n",
       "3      1  10.0    7.0  \n",
       "4      0  11.0    8.0  "
      ]
     },
     "execution_count": 57,
     "metadata": {},
     "output_type": "execute_result"
    }
   ],
   "source": [
    "organics = pd.read_csv(\"./organics.csv\")\n",
    "organics.head()"
   ]
  },
  {
   "cell_type": "markdown",
   "metadata": {},
   "source": [
    "## Task 1. Data Selection and Distribution.\n",
    "\n",
    "(4 marks)"
   ]
  },
  {
   "cell_type": "markdown",
   "metadata": {},
   "source": [
    "### Variable Descriptions\n",
    "\n",
    "The following information would assist you in assigning the variables roles:\n",
    "\n",
    "* Varibles DOB, AGE, AGEGRP1, and AGEGRP2 are all different measurements for the same information.\n",
    "\n",
    "* Variable NGROUP contains collapsed levels of the variable NEIGHBORHOOD\n",
    "\n",
    "* Variables LCDATE and LTIME represent the same information in two different formats.\n",
    "\n",
    "* There are two target variables, namely ORGANICS and ORGYN, with different types. Choose the target which suits the task."
   ]
  },
  {
   "cell_type": "code",
   "execution_count": 64,
   "metadata": {},
   "outputs": [],
   "source": [
    "descriptions = {\n",
    "    \"CUSTID\": \"Customer Identifcation Number\",\n",
    "    \"GENDER\": \"M = male. F = Female, U = unknown\",\n",
    "    \"DOB\": \"Date of birth\",\n",
    "    \"EDATE\": \"Date extracted from the daily sales database\",\n",
    "    \"AGE\": \"Age, in years\",\n",
    "    \"AGEGRP1\": \"Age group 1\",\n",
    "    \"AGEGRP2\": \"Age group 2\",\n",
    "    \"TV_REG\": \"Television Region\",\n",
    "    \"NGROUP\": \"Neighborhood group\",\n",
    "    \"NEIGHBORHOOD\": \"Type of residential neighborhood\",\n",
    "    \"LCDATE\": \"Loyalty card application due\",\n",
    "    \"LTIME\": \"Time as loyalty card member\",\n",
    "    \"ORGANICS\": \"Number of organic products purchased\",\n",
    "    \"BILL\": \"Total amount spent\",\n",
    "    \"REGION\": \"Geographic Region\",\n",
    "    \"CLASS\": \"Customer loyalty status: tin, silver, gold, platinum\",\n",
    "    \"ORGYN\": \"Organics Purchased? 1 = Yes, 0 = No\",\n",
    "    \"AFFL\": \"Affluence grade on a scale from 1 to 30\"\n",
    "}"
   ]
  },
  {
   "cell_type": "markdown",
   "metadata": {},
   "source": [
    "### Dropping Unused Variables"
   ]
  },
  {
   "cell_type": "code",
   "execution_count": 69,
   "metadata": {},
   "outputs": [],
   "source": [
    "unused = []\n",
    "organics.drop(labels=unused, inplace=True)"
   ]
  },
  {
   "cell_type": "markdown",
   "metadata": {},
   "source": [
    "### Cleaning Data"
   ]
  },
  {
   "cell_type": "code",
   "execution_count": null,
   "metadata": {},
   "outputs": [],
   "source": []
  },
  {
   "cell_type": "markdown",
   "metadata": {},
   "source": [
    "### Train / Val / Test Split"
   ]
  },
  {
   "cell_type": "code",
   "execution_count": null,
   "metadata": {},
   "outputs": [],
   "source": [
    "test_size = 0.2\n",
    "val_size = 0.2\n",
    "train_size = 1 - (test_size + val_size)\n",
    "\n",
    "train_test_split()"
   ]
  },
  {
   "cell_type": "markdown",
   "metadata": {},
   "source": [
    "## Task 2. Predictive Modeling Using Decision Trees\n",
    "\n",
    "(4 marks"
   ]
  },
  {
   "cell_type": "code",
   "execution_count": null,
   "metadata": {},
   "outputs": [],
   "source": []
  },
  {
   "cell_type": "markdown",
   "metadata": {},
   "source": [
    "## Task 3. Predictive Modeling Using Regression\n",
    "\n",
    "(5.5 marks)"
   ]
  },
  {
   "cell_type": "code",
   "execution_count": null,
   "metadata": {},
   "outputs": [],
   "source": []
  },
  {
   "cell_type": "markdown",
   "metadata": {},
   "source": [
    "## Task 4. Predictive Modeling Using Neural Networks\n",
    "\n",
    "(5.5 marks)"
   ]
  },
  {
   "cell_type": "code",
   "execution_count": null,
   "metadata": {},
   "outputs": [],
   "source": []
  },
  {
   "cell_type": "markdown",
   "metadata": {},
   "source": [
    "## Task 5. Comparing Predictive Models\n",
    "\n",
    "(4 marks)"
   ]
  },
  {
   "cell_type": "code",
   "execution_count": null,
   "metadata": {},
   "outputs": [],
   "source": []
  },
  {
   "cell_type": "markdown",
   "metadata": {},
   "source": [
    "## Conclusion"
   ]
  },
  {
   "cell_type": "code",
   "execution_count": null,
   "metadata": {},
   "outputs": [],
   "source": []
  },
  {
   "cell_type": "markdown",
   "metadata": {},
   "source": [
    "# Temoprary Cells\n",
    "\n",
    "Delete before submission"
   ]
  },
  {
   "cell_type": "code",
   "execution_count": 48,
   "metadata": {},
   "outputs": [
    {
     "name": "stderr",
     "output_type": "stream",
     "text": [
      "C:\\Users\\chris\\Anaconda3\\lib\\site-packages\\matplotlib\\axes\\_axes.py:6462: UserWarning: The 'normed' kwarg is deprecated, and has been replaced by the 'density' kwarg.\n",
      "  warnings.warn(\"The 'normed' kwarg is deprecated, and has been \"\n"
     ]
    },
    {
     "data": {
      "text/plain": [
       "Text(0.5,1,'Ages of Customers')"
      ]
     },
     "execution_count": 48,
     "metadata": {},
     "output_type": "execute_result"
    },
    {
     "data": {
      "image/png": "[encoded data removed]",
      "text/plain": [
       "<Figure size 432x288 with 1 Axes>"
      ]
     },
     "metadata": {},
     "output_type": "display_data"
    }
   ],
   "source": [
    "sns.distplot(organics['AGE'], bins=10)\n",
    "plt.title(\"Ages of Customers\")"
   ]
  },
  {
   "cell_type": "code",
   "execution_count": 50,
   "metadata": {},
   "outputs": [
    {
     "name": "stderr",
     "output_type": "stream",
     "text": [
      "C:\\Users\\chris\\Anaconda3\\lib\\site-packages\\matplotlib\\axes\\_axes.py:6462: UserWarning: The 'normed' kwarg is deprecated, and has been replaced by the 'density' kwarg.\n",
      "  warnings.warn(\"The 'normed' kwarg is deprecated, and has been \"\n"
     ]
    },
    {
     "data": {
      "text/plain": [
       "Text(0.5,1,'Bills of Customers')"
      ]
     },
     "execution_count": 50,
     "metadata": {},
     "output_type": "execute_result"
    },
    {
     "data": {
      "image/png": "[encoded data removed]",
      "text/plain": [
       "<Figure size 432x288 with 1 Axes>"
      ]
     },
     "metadata": {},
     "output_type": "display_data"
    }
   ],
   "source": [
    "sns.distplot(organics['BILL'], bins=50)\n",
    "plt.title(\"Bills of Customers\")"
   ]
  },
  {
   "cell_type": "code",
   "execution_count": 46,
   "metadata": {},
   "outputs": [
    {
     "data": {
      "text/plain": [
       "Text(0.5,0,'Occurences')"
      ]
     },
     "execution_count": 46,
     "metadata": {},
     "output_type": "execute_result"
    },
    {
     "data": {
      "image/png": "[encoded data removed]",
      "text/plain": [
       "<Figure size 432x288 with 1 Axes>"
      ]
     },
     "metadata": {},
     "output_type": "display_data"
    }
   ],
   "source": [
    "organics['GENDER'].value_counts().plot.barh()\n",
    "plt.title(\"Gender of Buyers\")\n",
    "plt.ylabel(\"Gender\")\n",
    "plt.xlabel(\"Occurences\")"
   ]
  },
  {
   "cell_type": "code",
   "execution_count": 51,
   "metadata": {},
   "outputs": [
    {
     "data": {
      "text/plain": [
       "Text(0,0.5,'Amount')"
      ]
     },
     "execution_count": 51,
     "metadata": {},
     "output_type": "execute_result"
    },
    {
     "data": {
      "image/png": "[encoded data removed]",
      "text/plain": [
       "<Figure size 432x288 with 1 Axes>"
      ]
     },
     "metadata": {},
     "output_type": "display_data"
    }
   ],
   "source": [
    "organics['TV_REG'].value_counts().plot.barh(title='Locations of Customers')\n",
    "plt.title(\"TV Regions of Customers\")\n",
    "plt.xlabel(\"TV Region\")\n",
    "plt.ylabel(\"Amount\")"
   ]
  }
 ],
 "metadata": {
  "kernelspec": {
   "display_name": "Python [conda env:Anaconda3]",
   "language": "python",
   "name": "conda-env-Anaconda3-py"
  },
  "language_info": {
   "codemirror_mode": {
    "name": "ipython",
    "version": 3
   },
   "file_extension": ".py",
   "mimetype": "text/x-python",
   "name": "python",
   "nbconvert_exporter": "python",
   "pygments_lexer": "ipython3",
   "version": "3.6.5"
  }
 },
 "nbformat": 4,
 "nbformat_minor": 2
}
